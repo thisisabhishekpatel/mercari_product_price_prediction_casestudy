{
  "nbformat": 4,
  "nbformat_minor": 0,
  "metadata": {
    "colab": {
      "name": "Mercari_price_final_prediction_final_part_5.ipynb",
      "provenance": [],
      "collapsed_sections": []
    },
    "kernelspec": {
      "name": "python3",
      "display_name": "Python 3"
    },
    "language_info": {
      "name": "python"
    },
    "accelerator": "GPU"
  },
  "cells": [
    {
      "cell_type": "code",
      "metadata": {
        "colab": {
          "base_uri": "https://localhost:8080/"
        },
        "id": "9CSMsiTrqckU",
        "outputId": "7c4a40da-810e-462a-828b-9f22559be667"
      },
      "source": [
        "from google.colab import drive\n",
        "drive.mount('/content/drive')"
      ],
      "execution_count": 1,
      "outputs": [
        {
          "output_type": "stream",
          "text": [
            "Mounted at /content/drive\n"
          ],
          "name": "stdout"
        }
      ]
    },
    {
      "cell_type": "code",
      "metadata": {
        "id": "A6YV_wVzqO43"
      },
      "source": [
        "%matplotlib inline\n",
        "import numpy as np \n",
        "import pandas as pd\n",
        "import datetime as dt\n",
        "import matplotlib.pyplot as plt\n",
        "\n",
        "from sklearn.model_selection import train_test_split\n",
        "\n",
        "import warnings\n",
        "warnings.filterwarnings('ignore')\n",
        "\n",
        "from sklearn.linear_model import LinearRegression \n",
        "from sklearn.tree import DecisionTreeRegressor\n",
        "from sklearn.linear_model import Ridge, Lasso\n",
        "from sklearn.model_selection import KFold\n",
        "from sklearn.neighbors import KNeighborsRegressor\n",
        "from sklearn.linear_model import LinearRegression, Ridge\n",
        "from sklearn.tree import DecisionTreeRegressor\n",
        "from sklearn.model_selection import KFold\n",
        "from sklearn.ensemble import RandomForestRegressor\n",
        "from sklearn.metrics import mean_squared_error\n",
        "import xgboost as xgb\n",
        "from sklearn.metrics import mean_squared_error\n",
        "from math import sqrt\n",
        "from sklearn import metrics"
      ],
      "execution_count": 2,
      "outputs": []
    },
    {
      "cell_type": "code",
      "metadata": {
        "id": "LdNt2P2eqm66"
      },
      "source": [
        "data = pd.read_csv('/content/drive/MyDrive/Mercari/p2_train.csv')"
      ],
      "execution_count": 3,
      "outputs": []
    },
    {
      "cell_type": "code",
      "metadata": {
        "colab": {
          "base_uri": "https://localhost:8080/",
          "height": 462
        },
        "id": "hBrzC0MjqpVS",
        "outputId": "61745f6d-7e76-40b1-fa68-0c6aadef4460"
      },
      "source": [
        "data.head()"
      ],
      "execution_count": 4,
      "outputs": [
        {
          "output_type": "execute_result",
          "data": {
            "text/html": [
              "<div>\n",
              "<style scoped>\n",
              "    .dataframe tbody tr th:only-of-type {\n",
              "        vertical-align: middle;\n",
              "    }\n",
              "\n",
              "    .dataframe tbody tr th {\n",
              "        vertical-align: top;\n",
              "    }\n",
              "\n",
              "    .dataframe thead th {\n",
              "        text-align: right;\n",
              "    }\n",
              "</style>\n",
              "<table border=\"1\" class=\"dataframe\">\n",
              "  <thead>\n",
              "    <tr style=\"text-align: right;\">\n",
              "      <th></th>\n",
              "      <th>Unnamed: 0</th>\n",
              "      <th>train_id</th>\n",
              "      <th>name</th>\n",
              "      <th>item_condition_id</th>\n",
              "      <th>brand_name</th>\n",
              "      <th>price_x_x_x_x</th>\n",
              "      <th>shipping</th>\n",
              "      <th>item_description</th>\n",
              "      <th>category_main</th>\n",
              "      <th>category_sub1</th>\n",
              "      <th>category_sub2</th>\n",
              "      <th>brand_name_count</th>\n",
              "      <th>('price', 'mean')_x</th>\n",
              "      <th>('price_y', 'mean')</th>\n",
              "      <th>shipping_count</th>\n",
              "      <th>('price_x', 'mean')_x</th>\n",
              "      <th>category_main_count</th>\n",
              "      <th>('price_x_y', 'mean')</th>\n",
              "      <th>category_sub1_count</th>\n",
              "      <th>('price_x_x', 'mean')_x</th>\n",
              "      <th>category_sub2_count</th>\n",
              "      <th>('price_x_x_y', 'mean')</th>\n",
              "      <th>word_count</th>\n",
              "      <th>stopword_count</th>\n",
              "      <th>ner</th>\n",
              "      <th>pos</th>\n",
              "      <th>avg_word_len</th>\n",
              "      <th>char_count</th>\n",
              "      <th>num_digit</th>\n",
              "      <th>char_count_without_space</th>\n",
              "      <th>cleaned_item_description</th>\n",
              "      <th>word_count_cleaned</th>\n",
              "      <th>neg</th>\n",
              "      <th>neu</th>\n",
              "      <th>pos.1</th>\n",
              "      <th>compound</th>\n",
              "      <th>word_count_cleaned_count</th>\n",
              "      <th>('price_x_x_x', 'mean')_x</th>\n",
              "      <th>char_count_cleaned</th>\n",
              "      <th>char_count_cleaned_count</th>\n",
              "      <th>('price_x_x_x_y', 'mean')</th>\n",
              "      <th>char_count_without_spaces</th>\n",
              "      <th>char_count_without_spaces_count</th>\n",
              "      <th>('price_x_x_x_x', 'mean')</th>\n",
              "    </tr>\n",
              "  </thead>\n",
              "  <tbody>\n",
              "    <tr>\n",
              "      <th>0</th>\n",
              "      <td>0</td>\n",
              "      <td>0</td>\n",
              "      <td>MLB Cincinnati Reds T Shirt Size XL</td>\n",
              "      <td>3</td>\n",
              "      <td>uknown</td>\n",
              "      <td>10.0</td>\n",
              "      <td>1</td>\n",
              "      <td>No description yet</td>\n",
              "      <td>Men</td>\n",
              "      <td>Tops</td>\n",
              "      <td>T-shirts</td>\n",
              "      <td>8553</td>\n",
              "      <td>20.537180</td>\n",
              "      <td>26.092650</td>\n",
              "      <td>8948</td>\n",
              "      <td>21.731001</td>\n",
              "      <td>1258</td>\n",
              "      <td>35.191574</td>\n",
              "      <td>318</td>\n",
              "      <td>18.921384</td>\n",
              "      <td>229</td>\n",
              "      <td>17.471616</td>\n",
              "      <td>3</td>\n",
              "      <td>2</td>\n",
              "      <td>0</td>\n",
              "      <td>1</td>\n",
              "      <td>5.333333</td>\n",
              "      <td>18</td>\n",
              "      <td>0</td>\n",
              "      <td>16</td>\n",
              "      <td>description</td>\n",
              "      <td>1</td>\n",
              "      <td>0.0</td>\n",
              "      <td>1.000</td>\n",
              "      <td>0.000</td>\n",
              "      <td>0.0000</td>\n",
              "      <td>1651</td>\n",
              "      <td>21.959419</td>\n",
              "      <td>11</td>\n",
              "      <td>1260</td>\n",
              "      <td>22.176984</td>\n",
              "      <td>11</td>\n",
              "      <td>1328</td>\n",
              "      <td>22.088855</td>\n",
              "    </tr>\n",
              "    <tr>\n",
              "      <th>1</th>\n",
              "      <td>1</td>\n",
              "      <td>1</td>\n",
              "      <td>Razer BlackWidow Chroma Keyboard</td>\n",
              "      <td>3</td>\n",
              "      <td>Razer</td>\n",
              "      <td>52.0</td>\n",
              "      <td>0</td>\n",
              "      <td>This keyboard is in great condition and works ...</td>\n",
              "      <td>Electronics</td>\n",
              "      <td>Computers &amp; Tablets</td>\n",
              "      <td>Components &amp; Parts</td>\n",
              "      <td>3</td>\n",
              "      <td>37.000000</td>\n",
              "      <td>26.092650</td>\n",
              "      <td>11008</td>\n",
              "      <td>29.821403</td>\n",
              "      <td>1610</td>\n",
              "      <td>32.832919</td>\n",
              "      <td>49</td>\n",
              "      <td>71.551020</td>\n",
              "      <td>13</td>\n",
              "      <td>50.153846</td>\n",
              "      <td>36</td>\n",
              "      <td>19</td>\n",
              "      <td>1</td>\n",
              "      <td>14</td>\n",
              "      <td>4.250000</td>\n",
              "      <td>188</td>\n",
              "      <td>0</td>\n",
              "      <td>153</td>\n",
              "      <td>keyboard greandition work like come box port t...</td>\n",
              "      <td>16</td>\n",
              "      <td>0.0</td>\n",
              "      <td>0.676</td>\n",
              "      <td>0.324</td>\n",
              "      <td>0.7717</td>\n",
              "      <td>457</td>\n",
              "      <td>30.367615</td>\n",
              "      <td>104</td>\n",
              "      <td>68</td>\n",
              "      <td>36.161765</td>\n",
              "      <td>89</td>\n",
              "      <td>80</td>\n",
              "      <td>37.150000</td>\n",
              "    </tr>\n",
              "    <tr>\n",
              "      <th>2</th>\n",
              "      <td>2</td>\n",
              "      <td>2</td>\n",
              "      <td>AVA-VIV Blouse</td>\n",
              "      <td>1</td>\n",
              "      <td>Target</td>\n",
              "      <td>10.0</td>\n",
              "      <td>1</td>\n",
              "      <td>Adorable top with a hint of lace and a key hol...</td>\n",
              "      <td>Women</td>\n",
              "      <td>Tops &amp; Blouses</td>\n",
              "      <td>Blouse</td>\n",
              "      <td>22</td>\n",
              "      <td>18.090909</td>\n",
              "      <td>26.136259</td>\n",
              "      <td>8948</td>\n",
              "      <td>21.731001</td>\n",
              "      <td>8895</td>\n",
              "      <td>28.358572</td>\n",
              "      <td>1385</td>\n",
              "      <td>17.555235</td>\n",
              "      <td>279</td>\n",
              "      <td>15.516129</td>\n",
              "      <td>29</td>\n",
              "      <td>18</td>\n",
              "      <td>2</td>\n",
              "      <td>17</td>\n",
              "      <td>3.310345</td>\n",
              "      <td>124</td>\n",
              "      <td>0</td>\n",
              "      <td>96</td>\n",
              "      <td>adorable hint lace key hole pale pink x x avai...</td>\n",
              "      <td>11</td>\n",
              "      <td>0.0</td>\n",
              "      <td>0.714</td>\n",
              "      <td>0.286</td>\n",
              "      <td>0.4939</td>\n",
              "      <td>746</td>\n",
              "      <td>25.438338</td>\n",
              "      <td>57</td>\n",
              "      <td>126</td>\n",
              "      <td>28.261905</td>\n",
              "      <td>47</td>\n",
              "      <td>173</td>\n",
              "      <td>25.930636</td>\n",
              "    </tr>\n",
              "    <tr>\n",
              "      <th>3</th>\n",
              "      <td>3</td>\n",
              "      <td>3</td>\n",
              "      <td>Leather Horse Statues</td>\n",
              "      <td>1</td>\n",
              "      <td>uknown</td>\n",
              "      <td>35.0</td>\n",
              "      <td>1</td>\n",
              "      <td>New with tags. Leather horses. Retail for [rm]...</td>\n",
              "      <td>Home</td>\n",
              "      <td>Home Décor</td>\n",
              "      <td>Home Décor Accents</td>\n",
              "      <td>8553</td>\n",
              "      <td>20.537180</td>\n",
              "      <td>26.136259</td>\n",
              "      <td>8948</td>\n",
              "      <td>21.731001</td>\n",
              "      <td>846</td>\n",
              "      <td>24.395981</td>\n",
              "      <td>318</td>\n",
              "      <td>22.235849</td>\n",
              "      <td>163</td>\n",
              "      <td>22.429448</td>\n",
              "      <td>32</td>\n",
              "      <td>15</td>\n",
              "      <td>0</td>\n",
              "      <td>17</td>\n",
              "      <td>4.437500</td>\n",
              "      <td>173</td>\n",
              "      <td>0</td>\n",
              "      <td>142</td>\n",
              "      <td>new tag leather horse retail rm stand foot hig...</td>\n",
              "      <td>17</td>\n",
              "      <td>0.0</td>\n",
              "      <td>0.829</td>\n",
              "      <td>0.171</td>\n",
              "      <td>0.5106</td>\n",
              "      <td>396</td>\n",
              "      <td>28.085859</td>\n",
              "      <td>96</td>\n",
              "      <td>83</td>\n",
              "      <td>28.759036</td>\n",
              "      <td>80</td>\n",
              "      <td>92</td>\n",
              "      <td>28.820652</td>\n",
              "    </tr>\n",
              "    <tr>\n",
              "      <th>4</th>\n",
              "      <td>4</td>\n",
              "      <td>4</td>\n",
              "      <td>24K GOLD plated rose</td>\n",
              "      <td>1</td>\n",
              "      <td>uknown</td>\n",
              "      <td>44.0</td>\n",
              "      <td>0</td>\n",
              "      <td>Complete with certificate of authenticity</td>\n",
              "      <td>Women</td>\n",
              "      <td>Jewelry</td>\n",
              "      <td>Necklaces</td>\n",
              "      <td>8553</td>\n",
              "      <td>20.537180</td>\n",
              "      <td>26.136259</td>\n",
              "      <td>11008</td>\n",
              "      <td>29.821403</td>\n",
              "      <td>8895</td>\n",
              "      <td>28.358572</td>\n",
              "      <td>858</td>\n",
              "      <td>25.737762</td>\n",
              "      <td>276</td>\n",
              "      <td>24.449275</td>\n",
              "      <td>5</td>\n",
              "      <td>2</td>\n",
              "      <td>0</td>\n",
              "      <td>4</td>\n",
              "      <td>7.400000</td>\n",
              "      <td>41</td>\n",
              "      <td>0</td>\n",
              "      <td>37</td>\n",
              "      <td>complete certificate authenticity</td>\n",
              "      <td>3</td>\n",
              "      <td>0.0</td>\n",
              "      <td>1.000</td>\n",
              "      <td>0.000</td>\n",
              "      <td>0.0000</td>\n",
              "      <td>943</td>\n",
              "      <td>22.453871</td>\n",
              "      <td>33</td>\n",
              "      <td>173</td>\n",
              "      <td>21.069364</td>\n",
              "      <td>31</td>\n",
              "      <td>196</td>\n",
              "      <td>25.107143</td>\n",
              "    </tr>\n",
              "  </tbody>\n",
              "</table>\n",
              "</div>"
            ],
            "text/plain": [
              "   Unnamed: 0  ...  ('price_x_x_x_x', 'mean')\n",
              "0           0  ...                  22.088855\n",
              "1           1  ...                  37.150000\n",
              "2           2  ...                  25.930636\n",
              "3           3  ...                  28.820652\n",
              "4           4  ...                  25.107143\n",
              "\n",
              "[5 rows x 44 columns]"
            ]
          },
          "metadata": {
            "tags": []
          },
          "execution_count": 4
        }
      ]
    },
    {
      "cell_type": "code",
      "metadata": {
        "id": "j0Yyq8CCqrZC"
      },
      "source": [
        "data = data.rename(columns={\"price_x_x_x_x\": \"price\"})"
      ],
      "execution_count": 5,
      "outputs": []
    },
    {
      "cell_type": "code",
      "metadata": {
        "id": "Mlat7AYHqucy"
      },
      "source": [
        "y = np.log1p(data['price'])"
      ],
      "execution_count": 6,
      "outputs": []
    },
    {
      "cell_type": "code",
      "metadata": {
        "id": "tPOvFB2GqwVh"
      },
      "source": [
        "data = data.iloc[: , 1:]"
      ],
      "execution_count": 7,
      "outputs": []
    },
    {
      "cell_type": "code",
      "metadata": {
        "colab": {
          "base_uri": "https://localhost:8080/"
        },
        "id": "Z3dTNk53qyvq",
        "outputId": "520b789d-9113-4d4b-e278-27e6d47f71a9"
      },
      "source": [
        "data.isnull().sum()"
      ],
      "execution_count": 8,
      "outputs": [
        {
          "output_type": "execute_result",
          "data": {
            "text/plain": [
              "train_id                            0\n",
              "name                                0\n",
              "item_condition_id                   0\n",
              "brand_name                          0\n",
              "price                               0\n",
              "shipping                            0\n",
              "item_description                    0\n",
              "category_main                       0\n",
              "category_sub1                       0\n",
              "category_sub2                       0\n",
              "brand_name_count                    0\n",
              "('price', 'mean')_x                 0\n",
              "('price_y', 'mean')                 0\n",
              "shipping_count                      0\n",
              "('price_x', 'mean')_x               0\n",
              "category_main_count                 0\n",
              "('price_x_y', 'mean')               0\n",
              "category_sub1_count                 0\n",
              "('price_x_x', 'mean')_x             0\n",
              "category_sub2_count                 0\n",
              "('price_x_x_y', 'mean')             0\n",
              "word_count                          0\n",
              "stopword_count                      0\n",
              "ner                                 0\n",
              "pos                                 0\n",
              "avg_word_len                        0\n",
              "char_count                          0\n",
              "num_digit                           0\n",
              "char_count_without_space            0\n",
              "cleaned_item_description           56\n",
              "word_count_cleaned                  0\n",
              "neg                                 0\n",
              "neu                                 0\n",
              "pos.1                               0\n",
              "compound                            0\n",
              "word_count_cleaned_count            0\n",
              "('price_x_x_x', 'mean')_x           0\n",
              "char_count_cleaned                  0\n",
              "char_count_cleaned_count            0\n",
              "('price_x_x_x_y', 'mean')           0\n",
              "char_count_without_spaces           0\n",
              "char_count_without_spaces_count     0\n",
              "('price_x_x_x_x', 'mean')           0\n",
              "dtype: int64"
            ]
          },
          "metadata": {
            "tags": []
          },
          "execution_count": 8
        }
      ]
    },
    {
      "cell_type": "code",
      "metadata": {
        "id": "dROzsgwlq1FK"
      },
      "source": [
        "# Fast Cleaning of Data\n",
        "data['shipping'] = data['shipping'].astype(str)\n",
        "data['item_condition_id'] = data['item_condition_id'].astype(str)\n",
        "data['cleaned_item_description'] = data['cleaned_item_description'].fillna('None')"
      ],
      "execution_count": 9,
      "outputs": []
    },
    {
      "cell_type": "code",
      "metadata": {
        "id": "eFLQIXC_q3yR"
      },
      "source": [
        "data = data.drop('item_description', axis=1)"
      ],
      "execution_count": 10,
      "outputs": []
    },
    {
      "cell_type": "code",
      "metadata": {
        "id": "cEKyZbMrq6aB"
      },
      "source": [
        "from sklearn.model_selection import train_test_split\n",
        "X_train, X_test, y_train, y_test = train_test_split(data, y, test_size=0.20)"
      ],
      "execution_count": 11,
      "outputs": []
    },
    {
      "cell_type": "code",
      "metadata": {
        "colab": {
          "base_uri": "https://localhost:8080/"
        },
        "id": "UcC-lbjGrCsp",
        "outputId": "2108c0b2-27a0-4010-8f20-b658ef4d8661"
      },
      "source": [
        "print('X_train:',X_train.shape,'y_train:',y_train.shape)\n",
        "print('X_test:',X_test.shape,'y_test:',y_test.shape)"
      ],
      "execution_count": 12,
      "outputs": [
        {
          "output_type": "stream",
          "text": [
            "X_train: (15964, 42) y_train: (15964,)\n",
            "X_test: (3992, 42) y_test: (3992,)\n"
          ],
          "name": "stdout"
        }
      ]
    },
    {
      "cell_type": "markdown",
      "metadata": {
        "id": "EF3GAca5rN6I"
      },
      "source": [
        "#### bag of words"
      ]
    },
    {
      "cell_type": "code",
      "metadata": {
        "id": "3tG0i2Ew1JYM"
      },
      "source": [
        "import seaborn as sns\n",
        "from sklearn.feature_extraction.text import TfidfVectorizer\n",
        "from sklearn.feature_extraction.text import CountVectorizer\n",
        "from sklearn.metrics import confusion_matrix\n",
        "from sklearn import metrics\n",
        "from sklearn.metrics import roc_curve, auc"
      ],
      "execution_count": 13,
      "outputs": []
    },
    {
      "cell_type": "code",
      "metadata": {
        "colab": {
          "base_uri": "https://localhost:8080/"
        },
        "id": "-qasldwOrH2Q",
        "outputId": "f69c32c3-8dca-4c3d-bff5-24402daac1bc"
      },
      "source": [
        "print(X_train.shape, y_train.shape)\n",
        "print(X_test.shape, y_test.shape)\n",
        "\n",
        "print(\"=\"*100)\n",
        "\n",
        "\n",
        "vectorizer1 = CountVectorizer(min_df=10,ngram_range=(1,4), max_features=5000)\n",
        "vectorizer1.fit(X_train['cleaned_item_description'].values) # fit has to happen only on train data\n",
        "\n",
        "# we use the fitted CountVectorizer to convert the text to vector\n",
        "X_train_cleaned_item_description_bow = vectorizer1.transform(X_train['cleaned_item_description'].values)\n",
        "X_test_cleaned_item_description_bow = vectorizer1.transform(X_test['cleaned_item_description'].values)\n",
        "\n",
        "print(\"After vectorizations\")\n",
        "print(X_train_cleaned_item_description_bow.shape, y_train.shape)\n",
        "print(X_test_cleaned_item_description_bow.shape, y_test.shape)\n",
        "print(\"=\"*100)"
      ],
      "execution_count": 14,
      "outputs": [
        {
          "output_type": "stream",
          "text": [
            "(15964, 42) (15964,)\n",
            "(3992, 42) (3992,)\n",
            "====================================================================================================\n",
            "After vectorizations\n",
            "(15964, 4766) (15964,)\n",
            "(3992, 4766) (3992,)\n",
            "====================================================================================================\n"
          ],
          "name": "stdout"
        }
      ]
    },
    {
      "cell_type": "code",
      "metadata": {
        "colab": {
          "base_uri": "https://localhost:8080/"
        },
        "id": "y-rW8Hwa02Q0",
        "outputId": "2641658e-1ba0-439f-c940-1ff1b95bb54f"
      },
      "source": [
        "print(X_train.shape, y_train.shape)\n",
        "print(X_test.shape, y_test.shape)\n",
        "print(\"=\"*100)\n",
        "\n",
        "vectorizer23 = CountVectorizer()\n",
        "vectorizer23.fit(X_train['name'].values) # fit has to happen only on train data\n",
        "\n",
        "# we use the fitted CountVectorizer to convert the text to vector\n",
        "X_train_name_ohe_1 = vectorizer23.transform(X_train['name'].values)\n",
        "X_test_name_ohe_1 = vectorizer23.transform(X_test['name'].values)\n",
        "\n",
        "print(\"After vectorizations\")\n",
        "print(X_train_name_ohe_1.shape, y_train.shape)\n",
        "print(X_test_name_ohe_1.shape, y_test.shape)\n",
        "print(vectorizer23.get_feature_names())\n",
        "print(\"=\"*100)"
      ],
      "execution_count": 15,
      "outputs": [
        {
          "output_type": "stream",
          "text": [
            "(15964, 42) (15964,)\n",
            "(3992, 42) (3992,)\n",
            "====================================================================================================\n",
            "After vectorizations\n",
            "(15964, 9974) (15964,)\n",
            "(3992, 9974) (3992,)\n",
            "['00', '000', '00ct', '00g', '00p', '01', '02', '020', '03', '034', '04', '05', '06', '07', '0oz', '10', '100', '1000', '1000pcs', '101', '102', '104', '108', '1080', '10c', '10ft', '10k', '10m', '10ml', '10pc', '10s', '10th', '10x', '10x13', '11', '110', '113', '114', '115', '11c', '11s', '11w', '12', '1200', '121', '122', '1234', '12brush', '12m', '12month', '12months', '12mth', '12oz', '12pcs', '12s', '12th', '12us', '12wide', '12x12', '12x15', '12x16', '13', '130', '1300mah', '13c', '14', '1444', '1456', '14ct', '14k', '14kt', '14oz', '14pc', '15', '150', '1531', '159', '15items', '16', '160', '16g', '16gb', '16oz', '16w', '17', '177', '17oz', '17pcs', '18', '182', '18g', '18inches', '18k', '18m', '18months', '18mos', '18mth', '18pc', '18w', '19', '1914p', '1929', '194', '1940s', '1958', '1960', '1960s', '1968', '1969', '1970', '1971', '1972', '1974', '1975', '1978', '1980s', '1982', '1985', '1986', '1989', '1990', '1993', '1994', '1995', '1998', '1999', '1box', '1c', '1cm', '1ct', '1d', '1day', '1daysale', '1lb', '1m', '1oz', '1pc', '1pr', '1s', '1st', '1tb', '1w', '1x', '20', '200', '2000', '2002', '2003', '2006', '2007', '2008', '2009', '2010', '2011', '2012', '2013', '2014', '2015', '2016', '2017', '205', '209', '20g', '20gb', '20inch', '20oz', '20pcs', '20w', '21', '210', '212', '213', '21oz', '22', '2285', '22g', '22oz', '23', '23x25', '24', '240', '2482', '24hr', '24in', '24k', '24m', '24pcs', '24w', '24x33', '25', '250', '250gb', '25a', '25x33', '26', '27', '27p', '28', '280', '285', '28mm', '28r', '28x30', '28x32', '29', '29x32', '2american', '2beanie', '2breal', '2bundles', '2c', '2cargo', '2cm', '2ds', '2hoursale', '2in1', '2iphone5', '2k14', '2k16', '2k17', '2left', '2mil', '2n1', '2oz', '2pack', '2pc', '2pcs', '2pk', '2s', '2size8', '2t', '2top', '2v', '2x', '2x3', '2xl', '2zip', '30', '300', '3000', '30g', '30l', '30ml', '30oz', '30pin', '30x', '30x32', '31', '317', '31l', '32', '320pcs', '3280y', '32a', '32b', '32c', '32d', '32dd', '32ddd', '32ft', '32g', '32gb', '32oz', '32w', '32x30', '33', '335', '3364', '339', '33h', '34', '340s', '344', '345', '34a', '34b', '34c', '34d', '34dd', '34ddd', '34ls', '34s', '34x32', '35', '350', '35f', '35g', '35o', '35os', '35t', '35u', '35w', '36', '360', '360deg', '365', '36b', '36c', '36d', '36dd', '36ddd', '37', '38', '38b', '38c', '38d', '38dd', '38ddd', '38g', '38h', '38mm', '38n', '38s', '39', '396', '3c', '3d', '3ds', '3ft', '3g', '3in1', '3m', '3mm', '3mos', '3oz', '3pack', '3pair', '3pc', '3pcs', '3piece', '3plus', '3rd', '3s', '3t', '3wood', '3x', '3xl', '3xnew', '3y', '40', '400', '40c', '40d', '40dd', '40ddd', '40f', '40g', '40mm', '40th', '41', '41037', '41059', '42', '42b', '42mm', '42r', '43', '44', '441', '442', '44dd', '45', '45x60', '46', '46dd', '47', '48', '49', '49ers', '4c', '4ezekiel', '4fl', '4ft', '4gb', '4k', '4life', '4oz', '4pc', '4pcs', '4s', '4slime', '4t', '4th', '4x', '4x4', '4x8', '4xl', '4y', '50', '500', '5000', '500gb', '501', '502', '504', '5050', '508', '50ct', '50cts', '50mm', '51', '511', '512', '52', '524', '529', '532nm', '540', '55', '550', '56', '562', '567', '574', '576', '58', '5866', '5c', '5ct', '5for8', '5ft', '5k', '5m', '5mw', '5oz', '5pack', '5pc', '5pcs', '5pk', '5s', '5t', '5th', '5us', '5x', '5x10', '5x5x5', '5x7', '5x8', '5xl', '5y', '60', '600', '602', '60ct', '60ml', '61', '612', '613', '615', '62', '626', '64', '642', '64bit', '64gb', '650', '66', '6600mah', '66cm', '66girls', '6b', '6c', '6ct', '6ft', '6m', '6mg', '6mm', '6new', '6nude', '6or', '6oz', '6pcoutfit', '6pcs', '6pk', '6plus', '6r', '6s', '6t', '6th', '6x', '6x10', '6x9', '6y', '70', '700', '701', '7033', '71', '711', '72', '73', '75', '7621', '77', '7c', '7fam', '7fl', '7ft', '7m', '7old', '7oz', '7plus', '7th', '7x', '7y', '80', '809', '80gb', '80pc', '80s', '8327', '836', '84', '85', '850', '85ct', '86', '87', '8780', '88', '88469j', '89', '8c', '8gb', '8mm', '8oz', '8pc', '8pcs', '8petite', '8r', '8s', '8toddler', '8x10', '8x32', '90', '900', '9000', '905', '90s', '91', '925', '95', '950xl', '95911', '96', '990', '9c', '9d', '9m', '9mm', '9oz', '9t', '9x12', '_cardenas32', '_xr1', 'a112', 'a1278', 'a1369', 'a1466', 'a1475', 'a2', 'a5', 'a617', 'aa', 'aaron', 'ab', 'abalone', 'abbey', 'abbydoo916', 'abc', 'abcains', 'abdomen', 'abercrombie', 'abh', 'abigail', 'abounding', 'about', 'above', 'abs', 'absolex', 'ac', 'acacia', 'academia', 'academy', 'acc', 'accelerator', 'accent', 'accessories', 'accessory', 'accordion', 'accu', 'acdc', 'ace', 'acemi', 'acer', 'acg', 'achury', 'acid', 'acne', 'aco', 'acoustic', 'acqua', 'acroprint', 'acrylic', 'act', 'action', 'activated', 'active', 'activewear', 'activity', 'acts', 'actual', 'adapter', 'adapters', 'add', 'added', 'addict', 'addicted', 'addiction', 'addidas', 'addie', 'addis', 'additional', 'addy', 'aden', 'adhesive', 'adi', 'adidas', 'adilette', 'adjstraps', 'adjustable', 'admiral', 'adobe', 'adorable', 'adore', 'adoreme', 'adorned', 'adrenaline', 'adriano', 'adrienne', 'adult', 'advance', 'advanced', 'advantage', 'advent', 'adventure', 'advocare', 'ae', 'aeo', 'aerie', 'aerin', 'aero', 'aeroloft', 'aeropastale', 'aeropostal', 'aeropostale', 'aeropostle', 'aeroreact', 'aerosoles', 'aesthetic', 'aesthetica', 'af', 'af1', 'affliction', 'afi', 'afrias14', 'african', 'after', 'afterglow', 'aftermarket', 'afthomas', 'ag', 'again', 'against', 'agate', 'age', 'ageless', 'agenda', 'agent', 'agility', 'aging', 'agnes', 'ags', 'ahs', 'aid', 'aiden', 'aigner', 'aim', 'aimme', 'ain', 'aine', 'air', 'airbrush', 'airbrushed', 'airforce', 'airline', 'airmax', 'airoptix', 'airsoft', 'airspun', 'airwick', 'aislinn', 'aj', 'akiesha', 'akini', 'aknuckles1', 'alabama', 'aladdin', 'alana', 'albatross', 'albion', 'album', 'albus', 'alcatel', 'alchemist', 'alcott', 'aldo', 'alegria', 'alex', 'alex001', 'alexa0618', 'alexand', 'alexander', 'alexandra', 'alexis', 'alf', 'algeria', 'alice', 'alien', 'align', 'alike', 'alissa', 'alive', 'alkalete', 'all', 'allegra', 'allergy', 'allin', 'allison', 'allover', 'alloy', 'allure', 'allyc', 'allycat', 'alma', 'almalara', 'almond', 'almost', 'alo', 'aloe', 'alota', 'alpaca', 'alpha', 'alphabet', 'alpinestar', 'alpinestars', 'already', 'alta', 'altered', 'alternate', 'alternative', 'aluminum', 'always', 'aly', 'alya', 'am', 'amala', 'amanda', 'amandadear', 'amandanorris080', 'amande', 'amaterry', 'amazing', 'amazon', 'amazonia', 'amazonian', 'amazonite', 'amber', 'ambererwin', 'amc', 'amelia', 'amer', 'america', 'american', 'americana', 'ames', 'amethyst', 'amie', 'amiibo', 'amiibos', 'amika', 'ammunition', 'among', 'amope', 'amor', 'amore', 'amount', 'amour', 'amp', 'ampoules', 'amqueen15', 'amuse', 'amw', 'amy', 'an', 'ana', 'anais', 'analyzer', 'anarchy', 'anarkali', 'anastacia', 'anastasia', 'anatomy', 'anchor', 'anchors', 'and', 'and1', 'anderson', 'andersson', 'andis', 'andrea', 'androgyny', 'android', 'andy', 'angb', 'angel', 'angeles', 'angelface', 'angelfish', 'angelndisciz', 'angels', 'angelus', 'angie', 'angle', 'angled', 'angora', 'angry', 'ani', 'animal', 'animals', 'animaniacs', 'anime', 'anini', 'anis', 'anita', 'ankh', 'ankle', 'anklet', 'ann', 'anna', 'annalia', 'anne', 'annie', 'anniversary', 'anorak', 'anstop', 'anthony', 'anthropologie', 'anti', 'antik', 'antique', 'antler', 'antonio', 'any', 'ap', 'ap24', 'apana', 'ape', 'apex', 'api', 'apparel', 'appetit', 'appetite', 'apple', 'applecheeks', 'application', 'applicators', 'applique', 'appliqué', 'apricot', 'apricots', 'april', 'aprix', 'apron', 'apt', 'aqua', 'aquamarine', 'aquamarine1', 'aquarium', 'aquasuit', 'aquos', 'arcade', 'arcanite', 'archer', 'archie', 'ard', 'ardell', 'arden', 'are', 'areedy', 'arella', 'areopostale', 'argan', 'argentina', 'aria', 'ariana', 'ariat', 'ariel', 'arising', 'ariya', 'arizona', 'arkansas', 'arkham', 'arm', 'armahabir', 'armani', 'armitron', 'armor', 'armorsuit', 'armour', 'army', 'arnica', 'aromatherapy', 'aromatics', 'around', 'aroundneck', 'arrival', 'arrow', 'arrowhead', 'arrows', 'arsenal', 'art', 'artclass', 'articulated', 'artificial', 'artis', 'artisan', 'artist', 'artists', 'artsy', 'arya', 'aryeh', 'as', 'asap', 'ash', 'ashley', 'ashton', 'asics', 'asidas', 'asos', 'aspire', 'assassin', 'asseen', 'assert', 'assisted', 'assn', 'association', 'assorted', 'asst', 'astros', 'asus', 'asvab', 'asylum', 'asymmetric', 'asymmetrical', 'at', 'atelier', 'athena', 'athleta', 'athletes', 'athletic', 'athletica', 'atlanta', 'atlas', 'atomic', 'atrp', 'attachable', 'attached', 'attaché', 'atv', 'atwood', 'atx', 'aubergine', 'auburn', 'audacity', 'audio', 'audrey', 'august', 'aunt', 'aura', 'aurora', 'aussie', 'australia', 'austria', 'auth', 'authe', 'authenti', 'authentic', 'authetic', 'autism', 'auto', 'autograph', 'automatic', 'autumn', 'aux', 'av', 'ava', 'avalanche', 'avatar', 'avayourock', 'aveda', 'aveeno', 'avengers', 'avent', 'aventurine', 'avenue', 'avery', 'avia', 'aviance', 'aviator', 'aviators', 'avlisjacire1', 'avoca', 'avon', 'avslp', 'awakening', 'awakens', 'awareness', 'away', 'awesome', 'axe', 'axxis', 'aya', 'ayanna', 'az', 'aztec', 'azur', 'azure', 'aéropostale', 'b6', 'b7', 'b9', 'ba', 'babe', 'babies', 'babolat', 'baby', 'babydoll', 'babygap', 'babygirl', 'babylips', 'babyliss', 'baccarat', 'bachelorette', 'bachman', 'back', 'backbag', 'background', 'backless', 'backpack', 'backs', 'backseat', 'backstage', 'bacon', 'bad', 'baddie', 'badescu', 'badge', 'badgers', 'badgley', 'bae', 'bag', 'baggie', 'baggu', 'bags', 'bahama', 'baicaster', 'bailey', 'bake', 'baked', 'baker', 'bakerie', 'baking', 'bakugan', 'balaclava', 'balance', 'balancing', 'balconet', 'balenciaga', 'balennciaga', 'bali', 'ball', 'baller', 'ballerina', 'ballet', 'balloons', 'balls', 'bally', 'balm', 'balms', 'balor', 'baltimore', 'bam88', 'bambi', 'bamboo', 'ban', 'banana', 'bananasetting', 'band', 'bandage', 'bandai', 'bandana', 'bandeau', 'bandeaus', 'bandit', 'bandolino', 'bands', 'bang', 'bangle', 'bangles', 'banjo', 'bank', 'banks', 'banned', 'bannedapparel', 'banner', 'bans', 'bape', 'bar', 'barbara', 'barbeque', 'barber', 'barbie', 'barcelona', 'bare', 'barely', 'bareminerals', 'bareskin', 'bark', 'barkley', 'barley', 'barn', 'barnes', 'barometer', 'barons', 'barrel', 'barry', 'bars', 'bart', 'base', 'basebal', 'baseball', 'basecoat', 'baseplates', 'basic', 'basically', 'basicallybella', 'basics', 'basil', 'basinest', 'basket', 'basketball', 'baskets', 'basquiat', 'bassist', 'bat', 'batgirl', 'bath', 'bathing', 'bathrobe', 'bathroom', 'batik', 'batman', 'battat', 'batter', 'battery', 'batting', 'battle', 'battlefield', 'batwing', 'baubles', 'bauer', 'bawlers', 'bay', 'bayer', 'baymax', 'bb', 'bb113', 'bb117', 'bb47', 'bbt', 'bbw', 'bcaa', 'bcbg', 'bcbgeneration', 'bcm', 'bcookie', 'bd25', 'bd9', 'bday', 'bdg', 'be', 'beach', 'beached', 'bead', 'beaded', 'beading', 'beads', 'beam', 'bean', 'beanie', 'bear', 'bearbrick', 'beard', 'bearded', 'bearista', 'bearpaw', 'bears', 'beast', 'beasts', 'beatles', 'beats', 'beautiful', 'beauty', 'beautyblender', 'beautysleep', 'beavis', 'bebe', 'bebella', 'becca', 'beck', 'bed', 'bedazzler', 'bedding', 'bedford', 'bedphones', 'beds', 'bee', 'bee5', 'been', 'beer', 'bees', 'before', 'begonia', 'behold', 'beige', 'being', 'belkin', 'bell', 'bella', 'bellabeat', 'bellaflash', 'bellatrix', 'bellcorks', 'belle', 'belly', 'bellybutton', 'belt', 'belted', 'belts', 'ben', 'benassi', 'bench', 'bendables', 'bender', 'benedict', 'benefiance', 'benefit', 'benjamin', 'benning', 'benny1013', 'benton', 'berenguer', 'berkley', 'bermuda', 'bernie', 'berry', 'best', 'beth', 'bethany', 'betsey', 'betseyjohnson', 'betsy', 'betta', 'better', 'bettie', 'betty', 'betula', 'betzer', 'beverage', 'beverley', 'beverly', 'beyblade', 'beyblades', 'beyoncé', 'bf', 'bff', 'bg', 'bh', 'bhakti', 'bianca', 'bianka', 'bib', 'bibby', 'bibo', 'bibs', 'bic', 'bicep', 'bicone', 'bicycle', 'bieber', 'big', 'bike', 'biker', 'bikin', 'bikini', 'bill', 'billabong', 'billionaire', 'binder', 'binders', 'binoculars', 'bins', 'bio', 'biography', 'biore', 'bioshock', 'biosilk', 'biotrue', 'birch', 'birco', 'bird', 'birdhouse', 'birdie', 'birds', 'birdx2', 'birkenstock', 'birkenstocks', 'birki', 'birthday', 'birthstone', 'bisque', 'bit', 'bite', 'bits', 'bitty', 'bjj', 'bke', 'black', 'blackest', 'blackhawks', 'blackhead', 'blackketter', 'blackmask', 'blackout', 'blackwhite', 'blackwidow', 'blades', 'blah', 'blaines', 'blake', 'blandi', 'blanik', 'blank', 'blanket', 'blankets', 'blast', 'blaster', 'blasters', 'blaze', 'blazer', 'bleached', 'blend', 'blended', 'blender', 'blenders', 'blending', 'blends', 'blesed', 'bless', 'blessed', 'bleu', 'blinc', 'bling', 'blinged', 'blink', 'bliss', 'blistex', 'blk', 'bloch', 'block', 'blocks', 'blogger', 'bloks', 'blonde', 'blondo', 'blood', 'bloodlad', 'bloom', 'blooming', 'blossom', 'blotting', 'blouse', 'blouses', 'blow', 'blown', 'blu', 'blue', 'bluebear', 'blueberries', 'blueberry', 'bluebird310', 'blueray', 'blues', 'bluetooth', 'blunt', 'blur', 'bluray', 'blurray', 'blurred', 'blurry', 'blush', 'blushing', 'bm', 'bmoore', 'bn', 'bnew', 'bnib', 'bnip', 'bnwb', 'bnwot', 'bnwt', 'board', 'boat', 'bob', 'boba', 'bobbi', 'bobbie', 'bobble', 'bobblehead', 'bobbleheads', 'bobby', 'bobeau', 'bobs', 'boc', 'boden', 'bodies', 'bodiez', 'body', 'bodybriefer', 'bodycon', 'bodyguardz', 'bodyjewelry', 'bodyshred', 'bodysuit', 'bodysuits', 'bodyworks', 'bogo', 'bogs', 'bohemian', 'boho', 'boi', 'boil', 'boilermaker', 'boktai', 'bold', 'bolero', 'bomb', 'bomber', 'bombs', 'bombshell', 'bomer', 'bon', 'bonbon', 'bond', 'bondi', 'bonds', 'bone', 'bones', 'bong', 'bongo', 'bongs', 'boning', 'bonjour', 'bonkers', 'bonnie', 'bononana', 'bons', 'bonsey', 'bonus', 'boo', 'boogie', 'boohoo', 'book', 'bookbag', 'bookmarks', 'books', 'boolittle', 'boom', 'boomerang', 'boopie', 'boos', 'boost', 'booster', 'boot', 'bootcut', 'bootie', 'booties', 'boots', 'booty', 'boppy', 'bordeaux', 'border', 'borders', 'born', 'boscia', 'bose', 'boss', 'bossbaston', 'boston', 'both', 'bottega', 'bottle', 'bottles', 'bottom', 'bottoms', 'botton', 'botts', 'bouchons', 'boucles', 'boudoir', 'boujee', 'bouncer', 'boundaries', 'bounty', 'bourbon', 'bourke', 'bout', 'boutinela', 'boutique', 'bow', 'bowl', 'bowling', 'bowls', 'bows', 'box', 'boxer', 'boxers', 'boxes', 'boxing', 'boxycharm', 'boy', 'boyfriend', 'boys', 'boyshort', 'boyshorts', 'bp', 'br', 'bra', 'brabd', 'bracelet', 'bracelets', 'braclet', 'bradley', 'bradshaw', 'brady', 'brahmin', 'braid', 'braided', 'brain', 'bralett', 'bralette', 'bralettes', 'braley', 'brallette', 'branch', 'brand', 'brandielou', 'brandnew', 'brands', 'brandy', 'bras', 'brash', 'brasilia', 'brass', 'bratz', 'braun', 'braves', 'bravo', 'brawl', 'brazilian', 'bread', 'breads', 'breaker', 'breast', 'breasted', 'breastfeed', 'breastfeeding', 'breastpump', 'breath', 'breatheable', 'bred', 'breds', 'brees', 'breeze', 'breezy', 'bremarie', 'brenda', 'brenna', 'breville', 'brewster', 'brian', 'briana', 'brick', 'bricks', 'bridal', 'bride', 'brides', 'bridesmaid', 'brief', 'briefs', 'briella', 'bright', 'brightening', 'brighton', 'brillant', 'brilliance', 'brim', 'bring', 'brinkley', 'brit', 'brita', 'britax', 'british', 'britney', 'brittany', 'brittney', 'britto', 'brnzr', 'broadheads', 'broadway', 'brochure', 'broken', 'broncos', 'bronson', 'bronze', 'bronzer', 'bronzers', 'bronzing', 'brooch', 'brooklyn', 'brooks', 'bros', 'brotherhood', 'brothers', 'brow', 'browdrama', 'brown', 'brownie', 'browning', 'browns', 'brows', 'brozer', 'brunette', 'brunettes', 'bruno', 'brush', 'brushes', 'brwn', 'bryant', 'bryn', 'brynn', 'bt', 'bts', 'bubble', 'bubblegum', 'bubbler', 'bubblers', 'bubbles', 'buccaneers', 'bucilla', 'buck', 'bucket', 'buckle', 'bucky', 'budder', 'buddha', 'buddy', 'buds', 'buffalo', 'buffy', 'bug', 'bugaboo', 'bugle', 'bugs', 'build', 'builders', 'built', 'bulb', 'bulk', 'bull', 'bulldog', 'bulldozer', 'bullets', 'bullhead', 'bulls', 'bulova', 'bulwark', 'bum', 'bumble', 'bumblebee', 'bumgenius', 'bumi', 'bumpe', 'bun', 'bunch', 'bund', 'bundel', 'bundl', 'bundle', 'bundle_ssosa10', 'bundled', 'bundles', 'bunk', 'bunnies', 'bunny', 'bunt', 'bunting', 'burberry', 'burch', 'burger', 'burgers', 'burglar', 'burgundy', 'burke', 'burlap', 'burn', 'burners', 'burnett', 'burning', 'burnt', 'burp', 'burt', 'burtle', 'burton', 'burts', 'bus', 'bush', 'business', 'buskins', 'bust', 'bustier', 'busymomma123', 'but', 'butler', 'butt', 'butter', 'buttercream', 'buttercup', 'buttered', 'butterflies', 'butterfly', 'butterflys', 'buttery', 'butthead', 'button', 'buttons', 'butts', 'buxom', 'buxon', 'buy', 'buyer', 'buzz', 'bvlgari', 'bw', 'by', 'bybel', 'bye', 'bysilk', 'c0wb0ys', 'c4', 'c9', 'ca', 'cabbage', 'cabi', 'cabinet', 'cable', 'cables', 'cabuchon', 'cacique', 'cactus', 'caddies', 'caddy', 'cadente', 'caffeine', 'café', 'cage', 'caged', 'caillou', 'caitlin', 'cajigas', 'cake', 'cakewalk', 'cal', 'calaveras', 'calculator', 'calendar', 'calibur', 'calico', 'california', 'call', 'callahan', 'callaway', 'calling', 'calliope', 'callita', 'calm', 'calming', 'calphalon', 'calvi', 'calvin', 'cam', 'cambodian', 'cambogia', 'camel', 'camelbak', 'cameleon', 'cameo', 'camera', 'cami', 'camille', 'camis', 'camo', 'camouflage', 'camp', 'campbell', 'camper', 'camping', 'campus', 'camuto', 'can', 'canary', 'cancer', 'candies', 'candle', 'candles', 'candy', 'cane', 'canister', 'canning', 'cannister', 'cannon', 'canon', 'canopy', 'cans', 'canvas', 'cap', 'capcom', 'cape', 'capezio', 'capo', 'capri', 'capris', 'caps', 'capsule', 'capsules', 'capt', 'captain', 'captivating', 'captor', 'car', 'carabiner', 'carafe', 'caralyn', 'caramel', 'carbide', 'carcassonne', 'card', 'cardamom', 'cardfight', 'cardigan', 'cardigans', 'cardinal', 'cardinals', 'cardio', 'cards', 'care', 'carefree', 'caregivers', 'cares', 'caress', 'carey', 'cargo', 'cargos', 'carhartt', 'caribbean', 'caring', 'carli', 'carlisle', 'carlos', 'carly', 'carlydress', 'carmen', 'carmine', 'carol', 'carolina', 'caroline', 'carpe', 'carr', 'carrera', 'carrier', 'carrson', 'carry', 'carryall', 'carrying', 'cars', 'carseat', 'carson', 'cart', 'carter', 'carters', 'cartier', 'cartilage', 'carton', 'cartridge', 'cartridges', 'carved', 'cas', 'case', 'casemate', 'cases', 'cash', 'cashmere', 'casio', 'caslon', 'casseiterite', 'cassette', 'cassettes', 'casseycakes', 'cassie', 'cast', 'castform', 'casting', 'castle', 'castles', 'castlevania', 'castor', 'casual', 'cat', 'cat5e', 'catalina', 'catan', 'catcher', 'catching', 'caterpillar', 'cateye', 'catrina', 'cats', 'catsmeow', 'caudalíe', 'cauldron', 'cave', 'cavenders', 'cayde', 'cb', 'cbrooks3382', 'cc', 'ccr', 'cd', 'cdg', 'cece', 'cedar', 'celeb', 'celebration', 'celebrity', 'celeste', 'celestial', 'celine', 'cell', 'cello', 'cellophane', 'cellulite', 'celso', 'celtic', 'celtics', 'cement', 'cena', 'center', 'centrum', 'cents', 'ceramic', 'cerave', 'cereal', 'ceremony', 'cfw', 'ch', 'chaco', 'chacos', 'chai', 'chain', 'chains', 'chainsaw', 'chair', 'chakra', 'chalk', 'chalkboard', 'challenge', 'chamber', 'chamberlain', 'chambray', 'chamilia', 'champ', 'champagne', 'champion', 'champions', 'chan', 'chance', 'chances', 'chanel', 'change', 'changer', 'changing', 'channing', 'chantelle', 'chaos', 'chaps', 'chapstick', 'chapter', 'chara', 'character', 'characters', 'charcoal', 'charge', 'charger', 'chargers', 'chargeur', 'charging', 'charistmas', 'charizard', 'charles', 'charlie', 'charlotte', 'charlottes', 'charm', 'charmander', 'charming', 'charmkins', 'charms', 'charolette', 'charriol', 'chart', 'charter', 'chase', 'chat', 'chatpad', 'chaufette', 'chaus', 'chawa', 'chaz', 'cheap', 'cheaper', 'check', 'checkbook', 'checker', 'checkered', 'checkers', 'checks', 'cheek', 'cheekster', 'cheeky', 'cheer', 'cheerleader', 'cheers', 'cheese', 'cheetah', 'chef', 'chels', 'chelsea', 'chelsie', 'chemise', 'chemistry', 'cherimoya', 'cherokee', 'cherries', 'cherry', 'cheryl', 'cheshire', 'chest', 'chestnut', 'chesty', 'chevron', 'chevy', 'chewbacca', 'chi', 'chic', 'chicago', 'chicco', 'chick', 'chicken', 'chico', 'chicogo', 'chicos', 'chiffon', 'chihuahua', 'child', 'children', 'childs', 'chima', 'chime', 'china', 'chinese', 'chinita', 'chinook', 'chinos', 'chinup', 'chip', 'chirrut', 'chloe', 'chocker', 'chocolat', 'chocolate', 'choice', 'choices', 'choker', 'chokers', 'choo', 'choose', 'chopsticks', 'chrgr', 'chrissa', 'christa', 'christi', 'christian', 'christina', 'christine', 'christinen', 'christmas', 'christy', 'chroma', 'chrome', 'chromecast', 'chronicles', 'chrysalis', 'chrysanthemum', 'chrysocolla', 'chubbies', 'chuck', 'chucks', 'chunky', 'chup', 'chupa', 'church', 'ciara', 'ciate', 'cib', 'ciera', 'cigarette', 'cinch', 'cincher', 'cincinnati', 'cinderella', 'cindy', 'cinema', 'cinnamon', 'circle', 'circles', 'circo', 'circus', 'cities', 'citrus', 'city', 'cj', 'ck', 'cl', 'claiborne', 'claimed', 'clairborne', 'claire', 'claires', 'clairol', 'clamshell', 'clancy', 'clank', 'clarifying', 'clarinet', 'clarins', 'clarisonic', 'clarks', 'class', 'classic', 'classics', 'classroom', 'claw', 'clay', 'clayed', 'clayton', 'clean', 'cleaner', 'cleaning', 'cleanse', 'cleanser', 'cleansing', 'cleansinggel', 'clear', 'clearance', 'clearance925', 'clearingout', 'cleats', 'cleo', 'clerks', 'cleveland', 'clever', 'clifford', 'climacool', 'climate', 'cling', 'clinical', 'clinique', 'clip', 'clippers', 'clips', 'clock', 'clocks', 'cloe', 'clogs', 'close', 'closet', 'closing', 'cloth', 'clothes', 'clothing', 'cloths', 'cloud', 'cloudberry', 'clouds', 'clown', 'club', 'clubhouse', 'clubmaster', 'clue', 'cluster', 'clutch', 'clutchfit', 'cn', 'cnd', 'co', 'coa', 'coach', 'coachella', 'coast', 'coastal', 'coasters', 'coat', 'cobalt', 'coboodle', 'coca', 'cocktail', 'coco', 'cocoa', 'coconut', 'cocoon', 'code', 'cody', 'coffee', 'cofffee', 'coffin', 'coil', 'coin', 'coins', 'cola', 'colab', 'colada', 'colar', 'colbie', 'cold', 'cole', 'colin', 'collage', 'collagen', 'collar', 'collared', 'collars', 'collectable', 'collectible', 'collectibles', 'collection', 'collective', 'collector', 'collectors', 'college', 'collezione', 'cologne', 'color', 'colorado', 'colorblock', 'colored', 'colorful', 'coloring', 'colorpop', 'colors', 'colour', 'colourpop', 'colts', 'columbia', 'columbus', 'comb', 'combat', 'combination', 'combined', 'combo', 'combustible', 'come', 'comes', 'comfort', 'comfortable', 'comforter', 'comfy', 'comic', 'comics', 'command', 'common', 'commuter', 'compact', 'company', 'compartment', 'compass', 'competition', 'complete', 'complex', 'complexion', 'component', 'compression', 'compton', 'computer', 'con', 'conair', 'concealer', 'concentrate', 'concert', 'concord', 'cond', 'condition', 'conditioner', 'conditioners', 'condoms', 'condren', 'cone', 'cones', 'confidence', 'connecticut', 'connectors', 'conner', 'connor', 'conrad', 'console', 'constellation', 'construx', 'consultant', 'cont', 'contact', 'contacts', 'container', 'containers', 'contemporary', 'contenders', 'contour', 'control', 'controller', 'controllers', 'conturing', 'convers', 'conversation', 'converse', 'converses', 'convertible', 'convict', 'cookbook', 'cooker', 'cookie', 'cookies', 'cooking', 'cookn', 'cool', 'coolada', 'cooler', 'coolers', 'cooling', 'coon', 'cooper', 'coordinator', 'copacabana', 'copics', 'cora', 'coral', 'cord', 'cordless', 'cords', 'corduroy', 'core', 'corest', 'corgi', 'cork', 'corks', 'corley', 'corleys', 'corn', 'cornish', 'corona', 'correcting', 'corrie', 'corset', 'cortez', 'cosi', 'cosmetic', 'cosmetics', 'cosmetrics', 'cosmic', 'cosmicsunflower', 'cosplay', 'cosrx', 'costume', 'cottage', 'cotten', 'cotton', 'couch', 'could', 'count', 'country', 'countrykidsclothes', 'couple', 'couples', 'coupon', 'coupons', 'coursen', 'courtney', 'courtng12', 'couture', 'cov', 'cover', 'coveralls', 'covergirl', 'covers', 'coverup', 'cowardly', 'cowboy', 'cowboys', 'cowcow', 'cowgirl', 'cowl', 'cozy', 'cp3s', 'cpcp2323', 'cpmvm', 'cra', 'crab', 'cracked', 'craft', 'crafts', 'craftsman', 'cranberry', 'crane', 'crank', 'craped', 'crash', 'crate', 'craving', 'crawford', 'crawler', 'crayola', 'crayon', 'crayons', 'crazy', 'crazykids', 'cream', 'creamed', 'creamer', 'creampuf', 'creampuff', 'creams', 'crease', 'create', 'created', 'creation', 'creations', 'creative', 'creator', 'creatures', 'creed', 'creek', 'creeper', 'creepers', 'creme', 'crepe', 'crespo', 'crest', 'crew', 'crewneck', 'crews', 'crib', 'cricket', 'cricut', 'crime', 'crimson', 'criss', 'crisscross', 'croc', 'crochet', 'crocheted', 'crock', 'crocodile', 'crocs', 'croissant', 'crop', 'cropped', 'crops', 'crosbody', 'cross', 'crossbody', 'crossfit', 'crossing', 'crossover', 'crotchet', 'crouching', 'crown', 'crowncarriagecastle', 'crowns', 'cruel', 'cruise', 'crumble', 'crumbs', 'crunchy', 'crunchymamavix', 'crush', 'crushed', 'crushers', 'crusty', 'cruz', 'cry', 'crybaby', 'crystal', 'crystaljustine', 'crystals', 'crème', 'cs7', 'csc3', 'ct', 'cube', 'cubes', 'cubs', 'cucumber', 'cucumbers', 'cuff', 'cuffed', 'cufflinks', 'cuffs', 'cuisinart', 'cullen', 'culture', 'cumbia', 'cup', 'cupcake', 'cupid', 'cupids', 'cupps', 'cups', 'cur', 'cure', 'curieuse', 'curl', 'curler', 'curlers', 'curling', 'curlipops', 'currier', 'curry', 'curse', 'cursed', 'curtain', 'curtains', 'curve', 'curved', 'curvy', 'cush', 'cushion', 'cushioned', 'custer', 'custom', 'customcoinrings', 'customer', 'cut', 'cute', 'cutest', 'cuticle', 'cutie', 'cutlets', 'cutout', 'cutting', 'cx', 'cyber', 'cyclone', 'cynthia', 'cz', 'dachshunds', 'dad', 'daddy', 'dahl', 'dahlen', 'dahyun', 'daily', 'dainty', 'daiso', 'daisy', 'dakota', 'dalchemist', 'dale', 'daleks', 'dallas', 'dalmatian', 'dalmatians', 'damaged', 'damask', 'dame', 'damier', 'dana', 'danae', 'danali', 'dance', 'dancer', 'dancers', 'dancing', 'dandelion', 'dandy', 'danecraft', 'dangle', 'dangling', 'dani', 'daniel', 'danielle', 'daniels', 'daniraebug', 'dannyb', 'dansby', 'dansko', 'dar', 'darden', 'dare', 'daria', 'dark', 'dark3', 'darkness', 'darkrai', 'darla', 'darling', 'darn', 'dart', 'darvish', 'dash', 'data', 'date', 'daughter', 'david', 'davids', 'davidson', 'davis', 'dawn', 'dawson', 'day', 'daydream', 'dayna', 'daytrip', 'dazzling', 'dc', 'dcll', 'dd', 'de', 'dead', 'deadpool', 'deal', 'dears', 'death', 'deathly', 'deb', 'debbie', 'debie', 'deborah', 'decade', 'decal', 'decals', 'decanter', 'decay', 'deck', 'decker', 'deco', 'decollete', 'decon', 'decor', 'decorations', 'decorative', 'decree', 'deena', 'deep', 'deer', 'deere', 'def', 'defect', 'defender', 'define', 'definer', 'defining', 'defying', 'degeneres', 'degree', 'del', 'deleting', 'delia', 'delicate', 'delicious', 'delights', 'delivery', 'dell', 'delta', 'deluxe', 'demand', 'demask', 'demi', 'demin', 'demis', 'den', 'denali', 'denim', 'dental', 'dentistry', 'denver', 'deoderant', 'deodorant', 'deodorants', 'deontae', 'department', 'dept', 'derek', 'derma', 'dermacol', 'dermalogica', 'dermamarine', 'derrik', 'descendents', 'description', 'desert', 'desi', 'design', 'designer', 'designs', 'desigual', 'desinged', 'desiray', 'desire', 'desiree', 'desk', 'desktop', 'desperate', 'despicable', 'dessert', 'destash', 'destroyed', 'detail', 'detangling', 'detective', 'detector', 'detergent', 'detox', 'detroit', 'deva', 'devacurl', 'devils', 'devin', 'dew', 'dewalt', 'dewdrop', 'dewy', 'dexflex', 'dez712', 'dft', 'dgk', 'di', 'diabetic', 'diablo', 'diahna', 'diamax', 'diameter', 'diamon', 'diamond', 'diana', 'diane', 'diaper', 'diapers', 'diaries', 'diary', 'dice', 'dickies', 'diddy', 'die', 'diecast', 'diego', 'diem', 'diesel', 'different', 'diffuser', 'digimon', 'digital', 'digitizer', 'dimarvi', 'dime', 'dimension', 'dimensions', 'dimepiece', 'dine', 'dino', 'dinosaur', 'dinosaurs', 'dion', 'dione', 'dior', 'diorific', 'dip', 'dipbrow', 'diplo', 'dipped', 'direction', 'disc', 'discontinued', 'discount', 'discounted', 'discovery', 'discs', 'dish', 'dishes', 'disk', 'disney', 'disneyland', 'disneys', 'dispenser', 'display', 'disposable', 'distance', 'distillery', 'distress', 'distressed', 'diva', 'divergent', 'divided', 'divination', 'divine', 'division', 'diy', 'dk', 'dkny', 'dm30', 'dnd', 'dnk', 'do', 'dobby', 'doc', 'dock', 'dockers', 'doctor', 'dodger', 'dodgers', 'doe', 'dog', 'dogfish', 'doggie', 'dogs', 'dogs2016', 'dogz', 'doh', 'dojo', 'doki', 'dolce', 'dolci', 'doll', 'dollar', 'dollhouse', 'dolls', 'dolly', 'dolman', 'dome', 'domestic', 'domination', 'dominatrix', 'dominique', 'don', 'donald', 'donating', 'donkey', 'donnelly', 'donotbuy', 'donruss', 'dont', 'donut', 'donuts', 'donya', 'doo', 'doogie', 'doom', 'dooney', 'doonie', 'door', 'doorbell', 'dope', 'doppler', 'dora', 'dorbz', 'dork', 'dorothy', 'dory', 'dose', 'dot', 'doterra', 'dots', 'double', 'doublestrap', 'douceur', 'doug', 'doughnuts', 'dove', 'dover', 'down', 'download', 'downy', 'dr', 'dr30', 'dracula', 'draft', 'draggle', 'dragon', 'dragonfly', 'dragonfruit', 'dragoon', 'drake', 'drape', 'draped', 'draw', 'drawers', 'drawstring', 'dre', 'dreaded', 'dream', 'dreambaby', 'dreamcatcher', 'dreamer', 'dreamgirl', 'dreaming', 'dreams', 'dreamscape', 'dreamtoner', 'dreamworks', 'drees', 'dress', 'dressbarn', 'dressed', 'dresses', 'dressy', 'drew', 'dri', 'drifit', 'drift', 'drill', 'drink', 'drip', 'drive', 'drivers', 'driving', 'drogo', 'drone', 'drop', 'drops', 'drug', 'drusy', 'druzy', 'dry', 'drybar', 'dryer', 'drying', 'dryride', 'ds', 'dsi', 'dslr', 'dual', 'duck', 'ducks', 'duct', 'dude', 'duel', 'duff', 'duffel', 'duffle', 'dugout', 'duke', 'dulhan', 'dumb', 'dumber', 'dumbledore', 'dump', 'dun', 'dunkin', 'dunn', 'duo', 'dupe', 'duplo', 'durable', 'duracoat', 'dust', 'dusted', 'duster', 'dusting', 'dusty', 'duty', 'duvet', 'dvd', 'dvds', 'dvr', 'dw', 'dw0507', 'dwyer', 'dy', 'dye', 'dyed', 'dying', 'dylan', 'dymo', 'dynamite', 'dynasty', 'dyson', 'e3', 'e521', 'each', 'eagle', 'eagles', 'ear', 'earbud', 'earbuds', 'earings', 'early', 'earnhardt', 'earphone', 'earphones', 'earpods', 'earring', 'earrings', 'ears', 'earthly', 'ease', 'east', 'easter', 'easterbasketbundle2basketsshopping', 'easy', 'eat', 'eater', 'eating', 'eau', 'ebb', 'ebony', 'ebuddy', 'echo', 'eclat', 'eclipse', 'eco', 'ecote', 'ecotools', 'ecton', 'ecuador', 'ed', 'eddie', 'edelman', 'eden', 'edge', 'edgy', 'edit', 'edith', 'editio', 'edition', 'editions', 'editon', 'editor', 'edna', 'edp', 'edt', 'edvidge', 'edward', 'eegee', 'eeuc', 'eevee', 'effie', 'effortless', 'efsf', 'egale', 'egg', 'eggnog', 'eggplant', 'eggs', 'egyptian', 'eiffel', 'eileen', 'einstein', 'elastic', 'elbiscruz', 'elbow', 'elc', 'elder', 'eleanor', 'electric', 'electro', 'electronic', 'elegant', 'element', 'elementary', 'elements', 'eleohant', 'elep', 'elephant', 'elephants', 'elf', 'eli', 'eliquid', 'elisa', 'elite', 'elixir', 'elizabeth', 'ella', 'ellalupe', 'elle', 'ellen', 'elles', 'ellipse', 'ellis', 'elmers', 'elmo', 'elodie', 'elsa', 'else', 'elton', 'elvis', 'emani', 'embellished', 'embossed', 'embrace', 'embroidered', 'embroidery', 'emerald', 'emily', 'emoji', 'empire', 'emporio', 'empty', 'empyre', 'ena', 'enamel', 'enamelware', 'encap', 'enchanted', 'enchantress', 'encyclopedia', 'end', 'ended', 'endoscope', 'energel', 'energy', 'enfagrow', 'enfamil', 'engagement', 'engelbreit', 'england', 'english', 'engrave', 'enhancer', 'enhancing', 'enriched', 'enspire', 'envelope', 'envy', 'eo', 'eos', 'ep', 'epic', 'equality', 'equate', 'era', 'eraser', 'erasers', 'ereader', 'ergo', 'ergobaby', 'eric', 'erica', 'ericak30', 'ericka', 'erika', 'erin', 'erlinda', 'erro', 'ertl', 'es', 'escort', 'eshop', 'eskinol', 'espadrille', 'espadrilles', 'espirito', 'espresso', 'essence', 'essential', 'essentials', 'essie', 'est', 'estate', 'estee', 'esther', 'estée', 'etc', 'eternity', 'ethanmott9', 'ethernet', 'ethnic', 'eu', 'euc', 'eucalyptus', 'euphoria', 'eur', 'euro', 'european', 'eva', 'evan', 'eve', 'evelyn', 'even', 'evenflo', 'evening', 'events', 'ever', 'evercolor', 'evergreen', 'everlast', 'everlasting', 'eversleek', 'eversun', 'every', 'everyone', 'everything', 'eveshadow', 'evil', 'evil6', 'evo', 'evolutions', 'evolved', 'ew', 'ex', 'examples', 'excellent', 'exchange', 'exclamation', 'excloset', 'exclusive', 'executive', 'exfoliant', 'exfoliator', 'exfolikate', 'exhilarate', 'exo', 'exotic', 'expansion', 'experience', 'explore', 'explorer', 'exposed', 'exposure', 'express', 'expresso', 'extended', 'extender', 'extension', 'extensions', 'extra', 'extras', 'extraterrestrial', 'extreme', 'eye', 'eyebrightne', 'eyebrow', 'eyebrows', 'eyecare', 'eyeglass', 'eyeglasses', 'eyeko', 'eyelash', 'eyelashes', 'eyelet', 'eyeline', 'eyeliner', 'eyeliners', 'eyemask', 'eyes', 'eyesbrows', 'eyeshadow', 'eyeshadows', 'eyewear', 'f21', 'f53', 'f91', 'fa', 'fab', 'fabfitfun', 'fable', 'fabletics', 'fabmom', 'fabric', 'fabulegs', 'fabulous', 'face', 'faced', 'facelift', 'facial', 'facric', 'factor', 'factory', 'faded', 'fading', 'fair', 'fairy', 'fairytale', 'faith', 'fake', 'fakee', 'falcon', 'falcons', 'fall', 'fallin', 'falling', 'fallout', 'false', 'family', 'famous', 'fan', 'fancy', 'fangirl', 'fanny', 'fantastic', 'fantasy', 'fao', 'farkas', 'farm', 'farmhouse', 'farming', 'farrah', 'farsali', 'farsáli', 'fascia', 'fashion', 'fashion_kittyyyy', 'fast', 'fat', 'fatal', 'fatfighter', 'father', 'fathers', 'fault', 'faustino', 'faux', 'faviana', 'favorite', 'favorites', 'favors', 'fawkes', 'fawn', 'fc', 'feather', 'featherlight', 'feathers', 'feature', 'febreze', 'feel', 'feeling', 'feet', 'felt', 'feminist', 'fendi', 'fenty', 'ferg', 'fergalicious', 'ferguson', 'ferie', 'fern', 'ferns', 'ferragamo', 'ferrari', 'ferret', 'festival', 'fetal', 'fever', 'few', 'fg', 'fi', 'fiber', 'fiberlash', 'fibers', 'fidget', 'fidgetx', 'field', 'fields', 'fierce', 'fifa', 'fifty', 'fig', 'figero', 'fighter', 'fighters', 'fighting', 'figs', 'figure', 'figures', 'figurine', 'figurines', 'fila', 'file', 'filed', 'filigree', 'fill', 'filled', 'filler', 'fillkit', 'film', 'filter', 'filters', 'fimo', 'final', 'financial', 'finch', 'finding', 'fine', 'finest', 'finger', 'fingerless', 'fingernail', 'fingerprint', 'fingers', 'finish', 'finished', 'finishing', 'finn', 'fiorella', 'fiori', 'fire', 'firefly', 'firelight', 'firetv', 'fireworks', 'firm', 'firming', 'first', 'fish', 'fishbowl', 'fisher', 'fishing', 'fishnet', 'fishnets', 'fist', 'fit', 'fitbit', 'fitch', 'fitness', 'fits', 'fitted', 'fitting', 'five', 'fix', 'fixate', 'fizzie', 'fj', 'fjall', 'fjallraven', 'fl', 'flag', 'flair', 'flake', 'flakes', 'flame', 'flameless', 'flames', 'flamingo', 'flamingos', 'flanges', 'flannel', 'flap', 'flare', 'flared', 'flash', 'flashlight', 'flask', 'flat', 'flatbuki', 'flats', 'flattering', 'flattummy', 'flavored', 'flavors', 'flawed', 'flawless', 'flay', 'flea', 'fleece', 'fleo', 'flex', 'flexfit', 'flexible', 'flick', 'flicka', 'flight', 'flightposite', 'flights', 'flip', 'flipflops', 'flipfury', 'floam', 'floams', 'floatable', 'floating', 'floor', 'flop', 'flops', 'flor', 'flora', 'florabama', 'floral', 'florale', 'floressa', 'florid', 'florida', 'flounder', 'flour', 'flow', 'flower', 'flowerbomb', 'flowered', 'flowers', 'flowey', 'flowy', 'floyd', 'flu', 'fluff', 'fluffy', 'fluorite', 'flush', 'flushed', 'flutter', 'flux', 'fly', 'flyer', 'flying', 'flyknit', 'flynn', 'foam', 'foaming', 'foamposite', 'foamposites', 'foamposits', 'fobs', 'focallure', 'focus', 'fof', 'foil', 'foldable', 'folding', 'folk', 'foo', 'food', 'foot', 'football', 'footed', 'footie', 'footwear', 'for', 'forbetty', 'force', 'forces', 'ford', 'foreman', 'forest', 'forever', 'forever21', 'form', 'formal', 'formula', 'forth', 'fortress', 'fortune', 'fossil', 'foundatio', 'foundation', 'foundations', 'founder', 'fountain', 'four', 'fox', 'foxes', 'foxy', 'fr', 'fragile', 'fragrance', 'fragrances', 'frame', 'framed', 'frames', 'france', 'frances', 'francesca', 'francis', 'francisco', 'franco', 'frank', 'frankenstein', 'fransisco', 'franta', 'frayed', 'fre', 'freak', 'freddy', 'freddys', 'frederick', 'free', 'freedom', 'freeglove', 'freehand', 'freelove', 'freeman', 'freeship', 'freeshipping', 'freeshp', 'freestyle', 'freeze', 'french', 'fresco', 'fresh', 'freshener', 'fresheners', 'freshly', 'freya', 'frida', 'fridababy', 'friday', 'friends', 'friendsgiving', 'friendship', 'fringe', 'fringed', 'fritz', 'frm', 'frog', 'frogs', 'from', 'fronds', 'front', 'froot', 'froslass', 'frost', 'frosted', 'frownies', 'froze', 'frozen', 'frozenornament', 'fructis', 'fruit', 'frye', 'frē', 'fs', 'fship', 'ft', 'fu', 'fubu', 'fuchsia', 'fuego', 'fuentes', 'fugitive', 'fuji', 'fujifilm', 'full', 'fun', 'function', 'fund', 'funko', 'funny', 'fur', 'furious', 'furminator', 'furniture', 'furry', 'furstenberg', 'fury', 'fushia', 'fusion', 'future', 'fuzzy', 'fw', 'fx', 'fyona', 'fz', 'g0', 'g1', 'g4', 'g5', 'g9', 'ga', 'gaara', 'gabana', 'gabbana', 'gabriel', 'gabriela', 'gabriella', 'gaby', 'gadget', 'gaga', 'gain', 'gal', 'gala', 'galas', 'galaxy', 'galifornia', 'gallery', 'galt', 'galvanized', 'game', 'gameboy', 'gamecock', 'gamecom', 'gamecube', 'games', 'gamestop', 'gaming', 'gamma', 'ganesha', 'gang', 'gangsters', 'gap', 'gapkid', 'garage', 'garanimals', 'garbage', 'garcinia', 'garden', 'gardevoir', 'garland', 'garmin', 'garner', 'garnet', 'garnier', 'garrett', 'garter', 'garvey', 'gash', 'gasparilla', 'gaspeite', 'gateway', 'gathered', 'gathering', 'gators', 'gatsby', 'gauge', 'gauges', 'gauze', 'gay', 'gb', 'gba', 'gc', 'ge', 'gear', 'gears', 'geek', 'geisha', 'gekko', 'gel', 'gelebean', 'gelish', 'geller', 'gelnails', 'gels', 'gem', 'gemina', 'gemstone', 'gen', 'generation', 'generic', 'genes', 'genesis', 'geneva', 'gengars', 'genie', 'genji', 'gentle', 'gentlease', 'gentlemen', 'gently', 'genuine', 'geo', 'geoforce', 'geogirl', 'geometric', 'george', 'georgia', 'gerard', 'gerber', 'german', 'germany', 'gerth', 'get', 'getaway', 'getting', 'gex', 'gg', 'ghd', 'ghost', 'ghostbusters', 'ghosts', 'gi', 'gia', 'giant', 'giants', 'giffin', 'gift', 'giftcard', 'gifts', 'giftset', 'giftsnowflake', 'giggle', 'gigi', 'gil', 'gillette', 'gillianpatton', 'gilly', 'gimme', 'gimmicks', 'gina', 'ginger', 'gingerbread', 'gingersnap', 'gingham', 'gioia', 'giorgio', 'giraffes', 'girl', 'girlfriend', 'girls', 'girly', 'gitd', 'give', 'givenchy', 'gizeh', 'glacier', 'gladiator', 'gladking', 'glam', 'glamglow', 'glamorous', 'glamour', 'glass', 'glasses', 'glaze', 'glc', 'gleam', 'gleemer', 'glenda_o', 'glide', 'glider', 'glimmering', 'glitch', 'glitter', 'glitters', 'glittery', 'glitzy', 'glo', 'globes', 'glock', 'gloria', 'glory', 'gloss', 'glosses', 'glossing', 'glosss', 'glossy', 'glove', 'gloves', 'glow', 'glowing', 'glsby', 'glucose', 'glue', 'glutathione', 'gnome', 'go', 'goadome', 'goat', 'gobble', 'goblet', 'goblin', 'god', 'goddess', 'goggles', 'goku', 'golan', 'gold', 'golden', 'goldschmied', 'goldstone', 'goldtone', 'golf', 'gondola', 'good', 'goodie', 'goodmama', 'goodnight', 'goody', 'google', 'gooseberry', 'goosebumps', 'gopro', 'gorgeous', 'gorillapod', 'gosh', 'gossip', 'got', 'gotg', 'goth', 'goty', 'goulue', 'gourd', 'gow', 'gown', 'goyard', 'gps', 'grab', 'graccemom09', 'grace', 'graco', 'grade', 'graduated', 'graduates', 'graduation', 'grams', 'gran', 'granada', 'grand', 'grande', 'grandma', 'grant', 'graphic', 'graphing', 'graphite', 'grass', 'grateful', 'grav3yardgirl', 'graver', 'graveyard', 'gravity', 'gray', 'great', 'greatest', 'green', 'greens', 'greninja', 'grey', 'greyvy', 'grid', 'griffeys', 'griffin', 'griffith', 'grill', 'grillz', 'grinch', 'grinder', 'grip', 'grips', 'grisel81', 'grocery', 'grooming', 'grooves', 'grossery', 'groudon', 'ground', 'grovia', 'grow', 'grows', 'growth', 'gruesome', 'grunge', 'grunge_crust', 'gryffindor', 'gryndlow', 'gs', 'gs01', 'gs900', 'gst', 'gstring', 'gt', 'gta', 'gts', 'gtx', 'guam', 'guard', 'guard1', 'guardians', 'guards', 'guc', 'gucci', 'guccisima', 'gudetama', 'guees', 'guerlain', 'guerriero', 'guess', 'guidance', 'guide', 'guilty', 'guinness', 'guitar', 'gulp', 'gun', 'gundam', 'gunmeta', 'gunmetal', 'gunne', 'guns', 'guppies', 'guy', 'gwen', 'gx', 'gyarados', 'gym', 'gymboree', 'gymnastics', 'gymshark', 'gypsy', 'gyro', 'h2', 'h4h', 'ha', 'haan', 'hac', 'haden', 'hagrid', 'hailzs', 'hair', 'hairart', 'hairbrush', 'haired', 'hairstraightener', 'hakunamatata', 'haley', 'half', 'hall', 'hallmark', 'halloween', 'hallows', 'halls', 'halo', 'halter', 'hamilton', 'hammered', 'hammock', 'hamper', 'hamsa', 'hamster', 'hand', 'handbag', 'handcuff', 'handcuffs', 'handheld', 'handle', 'handles', 'handmade', 'handolier', 'hands', 'handset', 'handwriting', 'handycam', 'hanes', 'hanger', 'hangers', 'hanging', 'hangings', 'hangover', 'hani', 'hanna', 'hansen', 'hao', 'happiness', 'happy', 'harajuku', 'hard', 'hardcover', 'hardshell', 'hardwired', 'hardwood', 'hardy', 'harem', 'haring', 'harlem', 'harley', 'harlow', 'harmony', 'harness', 'harper', 'harris', 'harry', 'harvest', 'harvesters', 'harveys', 'has', 'hat', 'hatchimals', 'hats', 'hattori', 'haul', 'haunted', 'haute', 'havaianas', 'have', 'haven', 'havinaball', 'hawaiian', 'hawk', 'hawks', 'hayden', 'hayley', 'hb', 'hbs', 'hca', 'hd', 'hdd', 'hdj', 'hdmi', 'head', 'headband', 'headbands', 'headphone', 'headphones', 'headpones', 'heads', 'headset', 'healing', 'health', 'hearphone', 'heart', 'heartbeat', 'heartbreaker', 'hearts', 'heartsoul', 'heat', 'heated', 'heater', 'heatgear', 'heath', 'heather', 'heatherd44', 'heathered', 'heaven', 'heavenly', 'heavensward', 'heavy', 'hedgehog', 'heebie', 'heel', 'heeled', 'heels', 'heirloom', 'heiroglyphica', 'helena', 'helicopter', 'helix', 'hellbetty', 'hello', 'hellokitty', 'helmet', 'hem', 'hematite', 'hemp', 'hempz', 'hendrix', 'henley', 'henna', 'henriksen', 'hepburn', 'her', 'herbal', 'herbalife', 'herbalism', 'here', 'hermes', 'hermione', 'hermès', 'hero', 'heroes', 'herringbone', 'hers', 'herschel', 'hess', 'hey', 'hh', 'hi', 'hi8', 'hicks', 'hidden', 'hide', 'hidrocor', 'high', 'highchair', 'highend', 'highends', 'highest', 'highlight', 'highlighter', 'highlighters', 'highlighting', 'highlightr', 'highliner', 'highneck', 'hightop', 'hightops', 'highwaist', 'highwaisted', 'highwaited', 'hikari', 'hiking', 'hilary', 'hilfiger', 'hill', 'hillary', 'hills', 'hillsong', 'hilton', 'him', 'himalayan', 'hinge', 'hippie', 'hips', 'hipster', 'his', 'history', 'hit', 'hitman', 'hitmonlee', 'hits', 'hitter', 'hk', 'hkp', 'hm', 'ho', 'hobbit', 'hobgoblin', 'hobo', 'hockey', 'hof', 'hogwarts', 'hola', 'hold', 'hold4bettyfossil', 'holder', 'holders', 'holdforalicesmithbundle', 'holding', 'holdrae', 'hole', 'holes', 'holey', 'holiday', 'holidays', 'holle', 'hollister', 'hollywood', 'holmes', 'holo', 'holographic', 'holster', 'holton', 'holy', 'homco', 'home', 'homecoming', 'homemade', 'homercles18', 'honest', 'honey', 'honeycomb', 'honeymoon', 'honolulu', 'honor', 'honora', 'honus', 'hood', 'hooded', 'hoodie', 'hoodies', 'hoody', 'hook', 'hookah', 'hooked', 'hooks', 'hoola', 'hoop', 'hoops', 'hoover', 'hop', 'hope', 'hopeless', 'hopkins', 'hopper', 'hoppin', 'horizon', 'horizontal', 'horn', 'horrible', 'horror', 'horrorland', 'horse', 'horseshoe', 'horus', 'hose', 'host', 'hot', 'hotel', 'hotfix', 'hounds', 'hour', 'hourglass', 'house', 'housecleaning', 'household', 'housewives', 'houston', 'hoverboard', 'how', 'howlite', 'hp', 'hr', 'hr2', 'hsi', 'htc', 'htf', 'huarache', 'huaraches', 'hub', 'huda', 'hudson', 'hue', 'huf', 'huge', 'hugeee', 'huggie', 'huggies', 'hugguies', 'hughes', 'hugo', 'huh', 'hula', 'hulk', 'human', 'humanity', 'humidifier', 'humidity', 'hunger', 'hunnybee', 'hunt', 'hunter', 'hunting', 'hurache', 'hurley', 'hush', 'husky', 'hv', 'hw', 'hybrid', 'hydrate', 'hydrating', 'hydroflask', 'hyper', 'hypercool', 'hyperdunk', 'hyperdunks', 'hyperfuse', 'hypervenom', 'hypoallergenic', 'hyvent', 'hyyh2', 'i6', 'i6s', 'iahawkeyes11', 'iaso', 'ibloom', 'icard', 'ice', 'iced', 'iceland', 'icicle', 'icing', 'icon', 'iconic', 'icy', 'icyhot', 'id', 'ideallean', 'ideology', 'idol', 'idole', 'if', 'ifrogz', 'ignition', 'ii', 'iii', 'iipsense', 'ike', 'illuminating', 'illumination', 'illuminator', 'illuminizing', 'illustrated', 'imac', 'imaginary', 'imagination', 'imagineering', 'imaginext', 'iman', 'immaculate', 'impact', 'impala', 'imperial', 'impeteuex', 'impopster', 'impress', 'impression', 'imprime', 'impulse', 'imwe', 'in', 'inc', 'incense', 'inch', 'inches', 'include', 'includes', 'incognito', 'inde', 'independence', 'indian', 'indiana', 'indianapolis', 'indians', 'indigo', 'individual', 'industrial', 'indy', 'inf', 'infallible', 'infant', 'infantino', 'infants', 'infared', 'infinim', 'infinite', 'infiniti', 'infinity', 'inflatable', 'infrared', 'infused', 'infuser', 'infusion', 'ingenuity', 'inglot', 'initial', 'injection', 'injustice', 'ink', 'inkblot', 'inkbox', 'inkwell', 'inn', 'innocence', 'insanely', 'insatiable', 'insert', 'inserts', 'inset', 'insets', 'insoles', 'insp', 'inspirational', 'inspire', 'inspired', 'inspiron', 'insta', 'instant', 'instantly', 'instax', 'instrument', 'instruments', 'instyler', 'insulated', 'insulation', 'insurance', 'intense', 'intensity', 'interact', 'interdesign', 'interior', 'international', 'intertek', 'intimate', 'intimately', 'intrecciato', 'intuition', 'invaders', 'invati', 'invicta', 'invictus', 'invisible', 'ion', 'ios', 'ipad', 'iphone', 'iphone6', 'iphone6s', 'ipod', 'ipsy', 'iredesent', 'iridescent', 'iris', 'irish', 'irma', 'irmas', 'iron', 'ironman', 'irregulars', 'irresistible', 'irving', 'is', 'isaac', 'isabelle', 'ishyash', 'isla', 'island', 'isolation', 'issey', 'issue', 'it', 'italia', 'italian', 'italy', 'item', 'items', 'itty', 'itworks', 'itzy', 'ivanka', 'iverson', 'ives', 'ivivva', 'ivory', 'ivy', 'iwatch', 'ix', 'izod', 'j120', 'j6thor', 'jace', 'jack', 'jacket', 'jackets', 'jackie', 'jacklyn', 'jackson', 'jacksonville', 'jacky', 'jaclyn', 'jacob', 'jacobs', 'jacquelyn', 'jada', 'jade', 'jadeite', 'jael', 'jagger', 'jaguars', 'jahmari', 'jaipur', 'jam', 'jamada', 'jamberry', 'james', 'jamie', 'jams', 'jane', 'janes', 'janie', 'janine', 'janoski', 'jansport', 'january', 'japan', 'japanese', 'japonesque', 'jaquard', 'jar', 'jardin', 'jars', 'jaslyn', 'jasmin', 'jasmine', 'jason', 'jasper', 'jawa', 'jay', 'jaybird', 'jayne', 'jazmin', 'jbl', 'jcrew', 'jd', 'jdi', 'jean', 'jeane', 'jeanninejean', 'jeans', 'jeebie', 'jeep', 'jeffery', 'jeffre', 'jeffree', 'jeffrey', 'jegging', 'jeggings', 'jellies', 'jelly', 'jellypop', 'jen', 'jen_spring', 'jenifer', 'jenn', 'jenner', 'jennifer', 'jennita', 'jennoir', 'jenny', 'jennylong', 'jeremy', 'jersey', 'jesse', 'jessica', 'jessie', 'jesus', 'jet', 'jewel', 'jeweled', 'jewelers', 'jewelmint', 'jewelry', 'jezelle', 'jhanellen', 'jibbitz', 'jiffy', 'jiggly', 'jigsaw', 'jill', 'jillian', 'jim', 'jimin', 'jimmy', 'jingle', 'jinhao', 'jj', 'jk_fame', 'jleman', 'jlust', 'jo', 'joanna', 'joanne', 'joby', 'jockey', 'jodi', 'joe', 'joes', 'joey', 'jogger', 'joggers', 'jogging', 'john', 'johnny', 'johnson', 'joico', 'jojo', 'jojoba', 'joker', 'jolly', 'jolt', 'jolyn', 'joma', 'jon', 'jones', 'jonesm', 'joni', 'jophene', 'jordan', 'jordans', 'jordyn', 'josefina', 'josh', 'josie', 'josselyn', 'jouer', 'journal', 'journey', 'jovani', 'jovi', 'joy', 'joyful', 'joystick', 'jr', 'judge', 'judith', 'juggernaut', 'juice', 'juicey', 'juicy', 'jujube', 'julep', 'jules', 'julia', 'julie', 'juliet', 'july', 'jumbo', 'jump', 'jumper', 'jumpin', 'jumping', 'jumpman', 'jumpsuit', 'jungkook', 'jungle', 'junior', 'juniors', 'junk', 'junkie', 'junpsuit', 'just', 'justfab', 'justice', 'justin', 'jute', 'juvenate', 'juvia', 'k1000', 'k50', 'k7', 'ka', 'kabrow', 'kabuki', 'kadi', 'kaepa', 'kagamine', 'kahlo', 'kai', 'kaige', 'kailee', 'kaitlin', 'kaitlyn', 'kaki', 'kaleidoscope', 'kama', 'kanadia', 'kanani', 'kancan', 'kanger', 'kangol', 'kanken', 'kansas', 'kant', 'kanye', 'kao', 'kappa', 'kara', 'karaoke', 'karat', 'kardashian', 'karen', 'karlie', 'karma', 'karnov', 'karry', 'kart', 'kasey', 'kat', 'kate', 'katelen', 'katerina', 'kateys', 'kathputli', 'kathy', 'katie', 'katie123', 'katrina', 'katy', 'kaufman', 'kaveri', 'kavu', 'kawaii', 'kaws', 'kay', 'kayla', 'kazooie', 'kb1234', 'kbd716', 'kc', 'kcup', 'kcups', 'kd', 'kds', 'ked', 'keds', 'keeley', 'keen', 'keens', 'keep', 'keeper', 'keepsake', 'keith', 'kelli', 'kelly', 'kels', 'kelsey', 'kelvin', 'ken', 'kendall', 'kendra', 'kenmore', 'kenna', 'kenneth', 'kenra', 'kerastase', 'keri', 'kermit', 'kerrigan', 'kershaw', 'kettle', 'keurig', 'kevin', 'key', 'keyboard', 'keychain', 'keychains', 'keyfob', 'keyhole', 'keys', 'kfranklin', 'kg', 'khaki', 'khakis', 'khal', 'khalifa', 'kick', 'kickee', 'kicky', 'kid', 'kid2kid', 'kids', 'kiehl', 'kiehls', 'kiibru', 'kill', 'killa', 'killer', 'killers', 'killing', 'kills', 'kim', 'kimber', 'kimberly', 'kimchi', 'kimmerz424', 'kimoji', 'kimono', 'kind', 'kindle', 'kindness', 'kinect', 'king', 'kingdom', 'kings', 'kinkade', 'kinnects', 'kipling', 'kira', 'kirby', 'kirito', 'kirkland', 'kiss', 'kissed', 'kisses', 'kit', 'kitchen', 'kitchenaid', 'kits', 'kitten', 'kitty', 'kiwi', 'kizmos', 'kj1', 'kkdunn2', 'kkw', 'klacushing', 'kleancolor', 'klein', 'klip', 'kloset', 'kmcgoun', 'kmp5198', 'knee', 'kngray', 'knicks', 'knife', 'knit', 'knits', 'knitted', 'knives', 'knobs', 'knockout', 'knot', 'knotted', 'know', 'knuckle', 'knuckles', 'koala', 'kobe', 'kobes', 'kobo', 'kodak', 'koffee', 'kohl', 'kohrs', 'koi', 'koko', 'kollection', 'kombat', 'kong', 'konica', 'konichiwa', 'kookycans', 'koozie', 'korean', 'korg', 'korres', 'kors', 'kortni', 'kosh', 'kotex', 'kourt', 'kpea', 'kpop', 'kraft', 'krazy', 'kreme', 'kringle', 'krispy', 'kristen', 'kristenhilary', 'kristin', 'kristoff', 'kritters', 'kt', 'kukui', 'kurkdjian', 'kut', 'kvd', 'kwik', 'kwobb', 'ky', 'kylie', 'kyliner', 'kylo', 'kymberly', 'kyodan', 'kyogre', 'kyoto', 'kyra', 'kyrie', 'kyshadow', 'kzw', 'la', 'lab', 'labe', 'label', 'labels', 'labor', 'labret', 'lace', 'lacey', 'lacoste', 'lacquer', 'lacrosse', 'lactic', 'lacy', 'ladies', 'lady', 'lady_bug', 'ladybug', 'ladylike', 'laguna', 'lalaloopsy', 'lambert', 'lament', 'laminating', 'lamp', 'lamps', 'lana', 'lancer', 'lancome', 'lancôme', 'land', 'lands', 'lane', 'laneige', 'lang', 'lange', 'language', 'lanie', 'lanyard', 'lanyards', 'lap', 'lapis', 'laptop', 'larg', 'large', 'larger', 'lariat', 'las', 'laser', 'lash', 'lashes', 'lass', 'last', 'lasting', 'latch', 'latches', 'late', 'lateralus', 'latex', 'latin', 'latte', 'lattice', 'lauder', 'laudry', 'launcher', 'laundry', 'laura', 'laurag', 'lauren', 'laurence', 'laurent', 'lauryn', 'lava', 'lavendar', 'lavender', 'law', 'lawhi', 'lawrence', 'lawson', 'lax', 'layer', 'layered', 'layering', 'layla', 'lazuli', 'lbs', 'lcd', 'le', 'lea', 'leaf', 'lean', 'leap', 'leapster', 'learning', 'leash', 'leather', 'leatherpurse', 'leave', 'leaves', 'lebron', 'lebrons', 'led', 'ledge', 'lee', 'leena', 'left', 'leg', 'legacy', 'legend', 'legendary', 'legends', 'legg', 'leggigs', 'leggin', 'legging', 'leggings', 'leggins', 'leggs', 'legion', 'lego', 'legos', 'leinenkugels', 'leith', 'lemon', 'lemonade', 'lemons', 'lempicka', 'lena', 'lengerie', 'length', 'lenny', 'lenox', 'lens', 'lenses', 'lenth', 'leo', 'leonard', 'leopard', 'leopardskin', 'leotard', 'lepore', 'leppard', 'leslie', 'lesly', 'lesportsac', 'less', 'lestrange', 'let', 'lets', 'letter', 'letters', 'levana', 'level', 'levi', 'levis', 'lexi', 'lexie', 'lf', 'lg', 'lgtribute', 'lheraugt', 'lia', 'libby', 'libra', 'library', 'lice', 'lid', 'lids', 'liesse', 'life', 'lifeguard', 'lifeproof', 'lift', 'lifter', 'lifting', 'lifts', 'light', 'lightener', 'lighter', 'lighting', 'lightly', 'lightning', 'lights', 'lightweight', 'lightyear', 'like', 'lil', 'lila', 'lilac', 'lillie', 'lilly', 'lilu', 'lily', 'lilyh', 'lime', 'limecrime', 'limelight', 'limited', 'limits', 'lina', 'lincoln', 'lindsay', 'lindsey', 'lindseyfeeman', 'line', 'lined', 'linen', 'liner', 'liners', 'lines', 'lingerie', 'linguine', 'lining', 'link', 'linzee1', 'lion', 'lioness', 'lionheart', 'lions', 'lip', 'lipcolor', 'lipcream', 'lipgloos', 'lipgloss', 'lipglosses', 'lipkit', 'liplicious', 'lipliner', 'lipoexpress', 'lippie', 'lippies', 'lippmann', 'lippy', 'lips', 'lipsense', 'lipsmacker', 'lipstick', 'lipsticks', 'lipsticsk', 'liquid', 'lisa', 'lisse', 'list', 'listing', 'lit', 'litas', 'lite', 'litter', 'little', 'littlebigplanet', 'littlest', 'liv', 'live', 'lives', 'livestrong', 'livie', 'living', 'liz', 'lizkay', 'lizzett', 'lkrunky', 'll', 'llr', 'lm', 'lnc', 'lo', 'loaded', 'loaf', 'loafer', 'loafers', 'localtears', 'lock', 'locket', 'locks', 'lod', 'loft', 'logan', 'logitech', 'logo', 'logs', 'loka', 'lokai', 'lol', 'lola', 'lolita', 'lollipop', 'lom', 'lon', 'london', 'lone', 'long', 'longaberger', 'longboard', 'longchamp', 'longline', 'longsleeve', 'longwear', 'loni', 'lonzo', 'look', 'lookalike', 'lookbook', 'looking', 'loom', 'looney', 'loopsy', 'loose', 'lootcrate', 'lopez', 'lorac', 'lord', 'lordof', 'loreal', 'loren', 'lorenzo', 'lori', 'los', 'lose', 'loss', 'lot', 'lothbrok', 'lotion', 'lotions', 'lotr', 'lots', 'lotus', 'lou', 'louboutin', 'louis', 'lounge', 'loungefly', 'lounger', 'love', 'love2buy', 'love2shop', 'lovebug', 'loved', 'lovelace', 'lovely', 'lover', 'lovers', 'loves', 'lovestruck', 'loveswept', 'lovetoshop', 'lovin', 'loving', 'low', 'lowered', 'lowest', 'lowrider', 'lowrise', 'lows', 'lowtop', 'lp', 'lps', 'lpsdragonn', 'lrg', 'ls', 'lsu', 'lswartz', 'lt', 'ltd', 'ltlmissann', 'luana', 'lubricant', 'luca', 'lucchese', 'lucina', 'lucite', 'lucky', 'lucy', 'ludo', 'lug', 'luggage', 'lugia', 'luigi', 'luigis', 'luis', 'luisa', 'luka', 'lula', 'lulaoe', 'lularoe', 'lullaby', 'lulu', 'lululemon', 'lulumon', 'lulus', 'lumee', 'lumiere', 'luminess', 'luminizing', 'luminous', 'luna', 'lunar', 'lunarglide', 'lunars', 'lunartempo', 'lunch', 'lunchbox', 'lunchboxes', 'lush', 'lust', 'luv', 'luvvy', 'lux', 'luxe', 'luxie', 'luxletic', 'luxurious', 'luxury', 'lv', 'lv8', 'lvl', 'lvl1', 'lvx', 'lycra', 'lydia', 'lynn', 'lynnie', 'lynnsoft', 'm10', 'm2745s', 'm317', 'm515', 'm521', 'm6', 'mac', 'macaroons', 'macbook', 'machine', 'mack', 'mackenzie', 'macy', 'mad', 'madam', 'madden', 'maddie', 'maddy', 'made', 'madelynn', 'madewell', 'madison', 'madly', 'madness', 'madrid', 'mae', 'maevn', 'mafia', 'magazine', 'magcon', 'magenta', 'maggie', 'maggierose', 'magic', 'magical', 'magician', 'magli', 'magma', 'magnet', 'magnetic', 'magnifying', 'magnum', 'magnus', 'mai', 'maiden', 'maidenform', 'mailer', 'mailers', 'maine', 'mainstays', 'maintenance', 'maise', 'maison', 'majestic', 'majesty', 'major', 'make', 'makeover', 'maker', 'makeuo', 'makeup', 'makeupgyal', 'making', 'makowsky', 'male', 'maleficent', 'maliboo', 'malibu', 'mally', 'malone', 'mam', 'mama', 'mamaroo', 'mamba', 'man', 'mancha', 'manchester', 'mandala', 'mandoline', 'mandrake', 'maneater', 'mangano', 'manger', 'mango', 'manhattan', 'mani', 'manicure', 'manizer', 'mankind', 'mannequin', 'mannequins', 'manny', 'manolo', 'manor', 'mansion', 'mantrabands', 'manual', 'map', 'mappy', 'mara', 'maran', 'marble', 'marbled', 'marc', 'marcasite', 'margarita', 'margaritap99', 'mari', 'mariah', 'marie', 'mariela', 'marily', 'marilyn', 'marina', 'marine', 'mariner', 'mariners', 'mario', 'mariokart', 'marisol', 'mark', 'marker', 'market', 'marks', 'marlboro', 'marled', 'marley', 'marlin', 'marlins', 'marlowe', 'marni', 'maroon', 'married', 'marsh', 'marshmallow', 'mart', 'marten', 'martens', 'martha', 'martin', 'martinez', 'maru', 'marucci', 'marvel', 'marvelous', 'mary', 'maryjane', 'maryjanes', 'maryland', 'mascara', 'mascaras', 'mask', 'maskcara', 'masks', 'mason', 'mass', 'massacre', 'massage', 'massager', 'master', 'masters', 'mat', 'match', 'matchbox', 'matched', 'matching', 'mate', 'material', 'maternity', 'mates', 'matilda', 'matrix', 'matte', 'matteify', 'mattel', 'matter', 'mattes', 'mattress', 'maui', 'maurice', 'maurices', 'mavis', 'max', 'maxazria', 'maxes', 'maxi', 'maximum', 'may', 'maya', 'mayari', 'maybe', 'maybelline', 'maybellinefit', 'mayberrys', 'mayer', 'mays', 'maze', 'mb', 'mb466ll', 'mbk', 'mbmj', 'mcc', 'mccafè', 'mccarthy', 'mcclintock', 'mcdonald', 'mcdonalds', 'mcds', 'mckenna', 'mckenzie', 'mcm', 'mcmillian', 'mcqueen', 'mcr', 'mcstuffin', 'mcstuffins', 'md', 'mddoyyle', 'mdrxb450ap', 'me', 'meadow', 'meadows', 'meal', 'meaningful', 'means', 'measuring', 'meat', 'mechanix', 'mechia', 'med', 'med_dep', 'medal', 'medallion', 'medallions', 'medela', 'media', 'medication', 'medicinal', 'medieval', 'meditation', 'medium', 'mee', 'meektook', 'meet', 'mega', 'megaman', 'megazord', 'mehendhi', 'melani', 'melanie', 'melea', 'melee', 'melissa', 'melissasephora', 'mellow', 'mellz', 'melody', 'melon', 'melt', 'melted', 'melts', 'melville', 'memo', 'memories', 'memory', 'men', 'mendez', 'mendi', 'mens', 'ment', 'mentha', 'merc', 'mercer', 'merch', 'mercia', 'mercier', 'mercies', 'merclover', 'mercurial', 'merino', 'merlin', 'mermaid', 'merona', 'merrell', 'merry', 'mesh', 'mesmerize', 'message', 'messager', 'messenger', 'metabolism', 'metal', 'metallic', 'metallica', 'metals', 'metcon', 'meter', 'metro', 'metropolis', 'mets', 'metta', 'mettalic', 'mew', 'mexican', 'mexico', 'mezzanine', 'mflh', 'mi', 'mia', 'miami', 'mic', 'mice', 'michael', 'michaels', 'michal', 'miche', 'micheal', 'michel', 'michele', 'michelkesshell', 'michelle', 'michigan', 'mickey', 'mickie', 'mico', 'micro', 'microbeads', 'microcassette', 'microdermabrasio', 'microphone', 'microscope', 'microsoft', 'microtubes', 'mid', 'middleton', 'midi', 'midline', 'midnight', 'midrise', 'mids', 'mighty', 'miiszmunchiie', 'mika', 'mikarose', 'mike', 'milan', 'milani', 'mile', 'miles', 'milestone', 'military', 'milk', 'millennium', 'miller', 'millie', 'million', 'millys', 'mime', 'mimi', 'minaj', 'mind', 'mindcode', 'mindy', 'mine', 'minecraft', 'mineral', 'minerals', 'minetta', 'mini', 'miniature', 'minibe', 'minifigures', 'minimal', 'minimalist', 'minimalistic', 'minimizing', 'minimus', 'minion', 'minions', 'minis', 'miniskirt', 'mink', 'minkoff', 'minnesota', 'minnetonka', 'minnetonkas', 'minnie', 'minoloones', 'minor', 'mint', 'minute', 'miracle', 'miranda', 'mireya10', 'mirror', 'mirrored', 'misbehave', 'misc', 'mischka', 'misfits', 'misguided', 'miss', 'missguided', 'mission', 'misslazos', 'misslolalove', 'missy03', 'mist', 'mistake', 'misthang', 'mists', 'misty', 'mitchell', 'mittens', 'miu', 'mix', 'mixed', 'mixie', 'mixing', 'miyake', 'mizrahi', 'mizuno', 'mjs', 'mk', 'mk3493', 'mk5961', 'mk6134', 'mk_218', 'mkaylynn', 'ml', 'mlb', 'mlp', 'mls', 'mm', 'mns', 'mo', 'moana', 'mobile', 'mobill', 'moby', 'moccasin', 'moccasins', 'moccs', 'mocha', 'mochi', 'mock', 'mod', 'mode', 'model', 'modern', 'modified', 'mohawk', 'moire', 'moisture', 'moisturizer', 'moisturizing', 'molan', 'mold', 'molliejulia', 'molly', 'mom', 'moments', 'momiem', 'momma', 'mommy', 'momof3', 'mon', 'mona', 'monat', 'monday', 'money', 'monica', 'monica_cma', 'monitor', 'monkey', 'monnalisa', 'monogram', 'monogrammed', 'monograms', 'monograph', 'monokini', 'monopoly', 'monq', 'monroe', 'monster', 'monsters', 'month', 'monthly', 'months', 'moo', 'mood', 'moodstruck', 'moomoo', 'moon', 'moonalisa', 'moondust', 'moonlight', 'moonlit', 'moonpie', 'moonstone', 'moonstruck', 'moose', 'mophie', 'morales', 'morbid', 'mordor', 'more', 'morgan', 'mori', 'moringa', 'morning', 'moroccan', 'morphe', 'mortal', 'mos', 'mosaic', 'moschino', 'moscow', 'mosiac', 'mossbud', 'mossimo', 'most', 'mota', 'motel', 'mother', 'motherhood', 'mothers', 'motion', 'moto', 'motor', 'motorcross', 'motorcycle', 'motorola', 'motu', 'mount', 'mouse', 'mousse', 'mouth', 'mouthpiece', 'move', 'movement', 'movie', 'movies', 'moving', 'moxie', 'moy', 'mp', 'mr', 'mre', 'mrs', 'mrsd', 'ms', 'mscwax', 'msr', 'msu', 'mt', 'mua', 'much', 'mud', 'mudd', 'muddygirl', 'mudpie', 'mufe', 'mug', 'mugs', 'muji', 'mukluks', 'mulan', 'mulisha', 'multi', 'multicolor', 'multifunctional', 'multiple', 'multivitamin', 'mumu', 'munchkin', 'municipal', 'munson', 'murad', 'murano', 'murder', 'murphy', 'muscle', 'music', 'musical', 'musicangeles', 'musk', 'muslin', 'must', 'mustang', 'mustard', 'mustela', 'mutant', 'mutants', 'muzzle', 'mvmt', 'mx', 'my', 'myers', 'mylah', 'mylie', 'mymi', 'myofunctional', 'mystery', 'mystic', 'mystical', 'médium', 'n64', 'nadine', 'naga', 'nail', 'nails', 'nair', 'naked', 'naked3', 'namaste', 'nambe', 'name', 'namebrand', 'nanacarol', 'nancy2497', 'nanette', 'nano', 'napper', 'narnia', 'nars', 'nascar', 'nashville', 'nasty', 'natalia', 'natasha', 'natashamaksim', 'nation', 'native', 'natrone', 'natural', 'naturally', 'naturals', 'nature', 'naughty', 'nautica', 'nautical', 'navajo', 'navel', 'navigation', 'navin', 'navy', 'navyeuc', 'nb', 'nba', 'nba2k16', 'nba2k17', 'nbafull', 'nbc', 'nc30', 'ncaa', 'nclex', 'nds', 'neal', 'nearmint', 'necessities', 'neck', 'neckace', 'necklace', 'necklaces', 'neckless', 'neckline', 'necks', 'nectarine', 'nectifirm', 'neda', 'nee', 'need', 'needlepoint', 'needles', 'needs', 'neesha', 'neff', 'negan', 'negotiable', 'neill', 'nemo', 'neniss', 'neo', 'neocutis', 'neojoa', 'neon', 'neoprene', 'nerd', 'nerf', 'nerium', 'nes', 'nesadvantage', 'ness', 'nest', 'net', 'netbooks', 'neuropeptide', 'neutral', 'neutrogena', 'neutron', 'nevada', 'never', 'nevra', 'new', 'new3x5', 'newborn', 'newer', 'newest', 'newport', 'news', 'newton', 'nexgard', 'next', 'nexus', 'neymar', 'nfc', 'nfinity', 'nfl', 'nhl', 'nhra', 'nib', 'nibble', 'nic', 'nicbro', 'nice', 'nicholas', 'nick', 'nickel', 'nickelodeon', 'nicki', 'nicks', 'nico', 'nicole', 'niew', 'niftycloset', 'night', 'nighter', 'nightie', 'nightlight', 'nightlights', 'nightmare', 'nights', 'nighty', 'nike', 'nikes', 'nikki', 'nikon', 'nil', 'nine', 'ninfan1', 'ninja', 'nintendo', 'nintenfo', 'nioxin', 'nip', 'nipple', 'nirvana', 'nissan', 'nit', 'nivea', 'nixon', 'niy', 'nk5', 'nl', 'nm', 'nmd', 'nmds', 'no', 'no7', 'noble', 'nocturnal', 'nocturneal', 'noel', 'noir', 'noise', 'nolan', 'nollie', 'non', 'none', 'nono', 'nonstick', 'nook', 'noosa', 'nora', 'nordstrom', 'nordstroms', 'normal', 'north', 'northern', 'northface', 'northwestern', 'norwex', 'nose', 'noseclear', 'nosefrida', 'not', 'note', 'note5', 'notebook', 'notebooks', 'notepad', 'notes', 'noticeables', 'notorious', 'notre', 'nourisher', 'nourishine', 'nourishing', 'nouveau', 'nov', 'nova', 'novel', 'novelas', 'novels', 'november', 'novex', 'now', 'nozzle', 'noël', 'nplay', 'nrg', 'nrmnt', 'nse', 'nspire', 'nu', 'nubian', 'nubra', 'nude', 'nudes', 'nuk', 'number', 'numbersqueen', 'numerals', 'nurse', 'nursemates', 'nurses', 'nursing', 'nurture', 'nutcracker', 'nutrients', 'nutrition', 'nuud', 'nuwave', 'nw', 'nwb', 'nwob', 'nwot', 'nwt', 'nwts', 'ny', 'nyc', 'nycc', 'nye', 'nygard', 'nylon', 'nyx', 'o2', 'oahu', 'oakland', 'oakley', 'oakleys', 'oath', 'obagi', 'obey', 'objects', 'obsessed', 'obsession', 'obsessivelypink', 'occitane', 'ocean', 'oceanic', 'oceans', 'ochaco', 'oct', 'octo', 'october', 'octopus', 'odd', 'oem', 'of', 'off', 'offer', 'offers', 'offic16', 'office', 'official', 'officialsize', 'ofra', 'og', 'oh', 'ohio', 'ohshc', 'oil', 'oilily', 'oils', 'okalan', 'oklahoma', 'olaf', 'olaplex', 'olay', 'old', 'oldnavy', 'ole', 'olevia', 'olga', 'olive', 'olivia', 'olympics', 'olympus', 'oma', 'ombre', 'ombré', 'omega', 'omg', 'omnipods', 'on', 'on5', 'once', 'oncies', 'one', 'oneida', 'onepiece', 'onesie', 'onesies', 'onestep', 'onestepforward', 'onex', 'onhold', 'onitsuka', 'onky', 'online', 'only', 'onnew', 'ons', 'onsies', 'ontv', 'onyx', 'oo', 'ooops', 'oops', 'oosky', 'op', 'opal', 'opalite', 'open', 'opened', 'opener', 'operated', 'operator', 'operetta', 'opi', 'opium', 'ops', 'opti', 'optimera', 'optimus', 'optix', 'opts', 'or', 'ora', 'oracle', 'oral', 'orange', 'order', 'oreal', 'oregano', 'oregon', 'oreo', 'org', 'organe', 'organic', 'organics', 'organizer', 'organizers', 'organizing', 'orgasm', 'oribe', 'orig', 'origami', 'origin', 'original', 'originals', 'origins', 'orizuru', 'orlando', 'orleans', 'orly', 'ornament', 'ornaments', 'ortholite', 'oréal', 'os', 'osbourne', 'oscar', 'oscillating', 'osh', 'oshkosh', 'osiris', 'osito', 'oso', 'osu', 'osx', 'otg', 'other', 'otk', 'otter', 'otterbox', 'ounce', 'ounces', 'our', 'our2nd', 'out', 'outblowupsale', 'outcast', 'outdoor', 'outfit', 'outfits', 'outfitters', 'outlaw', 'outlet', 'outline', 'outliner', 'outre', 'outshoes', 'outside', 'oval', 'ovals', 'oven', 'over', 'overall', 'overalls', 'overcoat', 'overhated', 'overnight', 'oversize', 'oversized', 'overwatch', 'owens', 'owl', 'owls', 'oxfords', 'oxo', 'oz', 'ozzy', 'p20', 'p600', 'p89', 'paaarty', 'pablo', 'pac', 'pace', 'pacer', 'pacific', 'pacifica', 'pacifier', 'pacifiers', 'pack', 'package', 'packages', 'packaging', 'packer', 'packers', 'packets', 'packing', 'packs', 'paco', 'pacsun', 'pad', 'padded', 'pads', 'page', 'pageant', 'pages', 'paiette', 'paige', 'pain', 'painless', 'paint', 'paintball', 'painted', 'painting', 'paints', 'pair', 'pairnew', 'pairs', 'paisley', 'paisly', 'pajama', 'pajamas', 'pakistani', 'paks', 'pal', 'palace', 'palate', 'palazzo', 'pale', 'palett', 'palette', 'palettes', 'pali', 'pallet', 'pallete', 'pallette', 'pallettes', 'palm', 'paloma', 'pam', 'pamela', 'pampered', 'pampers', 'pan', 'panache', 'panasonic', 'panda', 'pandas', 'pandora', 'panel', 'panetta', 'pans', 'pansexual', 'pant', 'pantd', 'pantera', 'panther', 'panthers', 'pantie', 'panties', 'pantiesxl', 'pants', 'pantsuit', 'panty', 'pantyhose', 'panzer', 'paolo', 'papaya', 'paper', 'papers', 'papillon', 'paracord', 'paradise', 'paraguay', 'paramore', 'parfait', 'parfum', 'paris', 'parisian', 'parisienne', 'park', 'parka', 'parker', 'parlor', 'part', 'partners', 'parton', 'parts', 'partum', 'party', 'pass', 'passion', 'passport', 'paste', 'pastease', 'pastel', 'pastels', 'pastry', 'patagonia', 'patch', 'patches', 'patchwork', 'patent', 'path', 'patrick', 'patriot', 'patriots', 'patrol', 'pattern', 'patterned', 'patti', 'patty', 'paul', 'paula', 'paulutena', 'pave', 'paw', 'paws', 'pawz', 'paymaster', 'payton', 'pb', 'pb287q', 'pc', 'pc1899', 'pcat', 'pcs', 'pdermacol', 'pe', 'pe47', 'pea', 'peace', 'peach', 'peacoat', 'peacock', 'peacocks', 'peanut', 'peanuts', 'pear', 'pearl', 'pearlessence', 'pearls', 'peasant', 'pebbled', 'pecan', 'pedi', 'pedicure', 'pedometer', 'peek', 'peeking', 'peel', 'peeling', 'peep', 'peeptoe', 'pegasus', 'pelican', 'pelicans', 'pen', 'pence', 'pencil', 'pencils', 'pendant', 'pendants', 'pendent', 'pendnat', 'pendulum', 'penelope', 'penguala', 'penguin', 'penguins', 'penn', 'penny', 'pens', 'pentax', 'pentel', 'people', 'peplum', 'peppa', 'pepper', 'pepsi', 'peretti', 'perfect', 'perfection', 'perfectly', 'perfectlyposh', 'perfector', 'performance', 'perfume', 'perfumes', 'peridot', 'periwinkle', 'perk', 'perkins', 'perks', 'perla', 'perm', 'perricone', 'perry', 'persol', 'personal', 'personalized', 'peruvian', 'pet', 'petal', 'peter', 'peters', 'petit', 'petite', 'petitlem', 'petra', 'petrol', 'pets', 'petunia', 'petz', 'petś', 'pewter', 'peyton', 'pfg', 'ph', 'phan', 'phantom', 'pharm', 'pharmacy', 'phase', 'phasma', 'philadelphia', 'philanthropy', 'philip', 'philips', 'philosophy', 'phoebesmommy531', 'phoenix', 'phone', 'phones', 'phonics', 'photo', 'photocard', 'photography', 'photoready', 'photos', 'photosmart', 'physicians', 'piano', 'pic', 'pick', 'picked', 'pickle', 'pickles', 'picnic', 'picone', 'picoult', 'picture', 'pie', 'piece', 'pieced', 'pieces', 'pierce', 'piercing', 'piers', 'pies', 'pif300', 'pig', 'piggy', 'pigment', 'pigments', 'pigs', 'pikachewx', 'pikachu', 'piko', 'pilage', 'pilaten', 'pilates', 'pill', 'pillar', 'pillow', 'pillowcase', 'pillows', 'pills', 'pilots', 'pimple', 'pin', 'pincher', 'pine', 'pineapple', 'pineapples', 'ping', 'pink', 'pinkish', 'pinky', 'pinnacle', 'pinny', 'pins', 'pinstol', 'pinstripe', 'pint', 'pintail', 'pio', 'pioneer', 'pipe', 'pipes', 'pique', 'pirate', 'pirates', 'pisanchyn', 'pistachio', 'pistol', 'pit', 'pitcher', 'pitt', 'pittsburgh', 'pixar', 'pixel', 'pixi', 'pixie', 'pj', 'pjs', 'pk', 'pkg', 'place', 'places', 'plaid', 'plain', 'plan', 'plane', 'planes', 'planet', 'planets', 'planner', 'planning', 'plano', 'plant', 'planter', 'planters', 'plaque', 'plaques', 'plastic', 'plat', 'plate', 'plated', 'plater', 'plates', 'platform', 'platforms', 'platinum', 'platoon', 'platter', 'play', 'playboy', 'player', 'playmat', 'playmats', 'plays', 'playstation', 'playtex', 'pleasant', 'please', 'pleat', 'pleated', 'pleather', 'plexus', 'plug', 'plugs', 'plum', 'plumeria', 'plump', 'plumper', 'plumpers', 'plunge', 'plunging', 'plus', 'plush', 'plushes', 'pluskins', 'pluto', 'pm', 'po', 'pocahontas', 'pochette', 'pocket', 'pocketbac', 'pocketbacs', 'pockets', 'pocky', 'pod', 'pods', 'poetry', 'poets', 'pogba', 'point', 'pointed', 'pointer', 'pointy', 'pointzero', 'poise', 'poison', 'pokdot', 'pokeball', 'pokemon', 'pokesocks', 'pokémon', 'polar', 'polarized', 'polarn', 'polaroid', 'polartec', 'police', 'poligrip', 'polish', 'polisher', 'polishes', 'polka', 'polkadot', 'polkadotdaisy', 'pollack', 'polly', 'polmailers', 'polo', 'polorized', 'polos', 'poly', 'polyester', 'polymailer', 'polymailers', 'pom', 'pomade', 'ponce', 'ponche', 'poncho', 'pong', 'pony', 'ponytail', 'poo', 'poodle', 'pooh', 'poole', 'poop', 'pop', 'popclip', 'popcorn', 'pope', 'popover', 'popper', 'poppi', 'poppy', 'pops', 'popsocket', 'popstyleshop', 'popteen', 'popular', 'porcelain', 'pore', 'porefessional', 'poreless', 'pores', 'port', 'portable', 'porter', 'portland', 'portofino', 'posable', 'posh', 'poshe', 'posie', 'post', 'poster', 'posy', 'pot', 'potato', 'potent', 'potion', 'pots', 'potter', 'pottery', 'pouch', 'pouches', 'pound', 'pounds', 'pour', 'pourri', 'pout', 'pouty', 'powdee', 'powder', 'power', 'powerbank', 'powerbeats', 'powerbeats2', 'powered', 'powerpuff', 'powershot', 'powfoundation', 'prada', 'praline', 'prancing', 'pravana', 'pray', 'prayer', 'pre', 'preacher', 'precious', 'precise', 'precision', 'preferred', 'pregnancy', 'prem', 'premie', 'premier', 'premina', 'premium', 'premiun', 'preowned', 'prep', 'prepaid', 'preppy', 'prerelease', 'preschool', 'prescription', 'presence', 'present', 'presley', 'press', 'pressed', 'pressure', 'prestige', 'presto', 'preston', 'prestos', 'pretentious', 'pretty', 'prevent', 'prevention', 'preventive', 'prey', 'prf', 'pria', 'price', 'pride', 'prima', 'primal', 'primarina', 'primary', 'prime', 'primer', 'primers', 'primitive', 'prince', 'princess', 'princessposh', 'print', 'printed', 'printer', 'printhtf', 'printing', 'prints', 'prism', 'prismacolor', 'prison', 'privacy', 'private', 'prizm', 'prm', 'pro', 'proactiv', 'proactive', 'probably', 'probio', 'probio5', 'probiotic', 'procombat', 'product', 'products', 'profession', 'professional', 'professor', 'profusion', 'prohealth', 'prohibido', 'project', 'projector', 'prolly', 'prom', 'promise', 'promo', 'promos', 'proof', 'prop', 'props', 'pros', 'protank', 'protection', 'protective', 'protecto', 'protector', 'protectors', 'protego', 'protein', 'proudmama', 'providence', 'prs', 'ps', 'ps1', 'ps2', 'ps3', 'ps4', 'psandpw', 'psp', 'psx', 'psychology', 'pt', 'pua', 'puff', 'puffball', 'puffer', 'puffs', 'puffy', 'pug', 'pulitzer', 'pull', 'pullove', 'pullover', 'puma', 'pumas', 'pumaxfenty', 'pumice', 'pump', 'pumper', 'pumping', 'pumpkin', 'pumpkins', 'pumps', 'punch', 'punches', 'puni', 'punisher', 'punjabi', 'punk', 'punkin', 'punmpin', 'pup', 'puppet', 'puppies', 'puppy', 'pur', 'puravida', 'purchase', 'purdue', 'pure', 'pureboot', 'pureology', 'purge', 'purifier', 'purifying', 'purlisse', 'purple', 'purplish', 'purpose', 'purse', 'purses', 'pursuit', 'push', 'pusheen', 'pushers', 'pushup', 'put', 'putrid', 'puzzle', 'puzzles', 'pvc', 'pvr', 'pxl', 'pyret', 'pyrex', 'pyrite', 'python', 'pür', 'qc15', 'qmx', 'qs', 'qty', 'qty3', 'quad', 'quadcopter', 'quality', 'quantaray', 'quantity', 'quart', 'quarter', 'quarters', 'quarts', 'quartz', 'quaterzip', 'quay', 'queen', 'queenbee', 'quelokae', 'quest', 'quick', 'quickchange', 'quicksilver', 'quilt', 'quilted', 'quince', 'quinn', 'quixote', 'quote', 'qupid', 'r1', 'r_1', 'rabanne', 'rabbit', 'raccoon', 'race', 'racer', 'racerback', 'rachel', 'raches', 'racing', 'racket', 'radar', 'radiance', 'radio', 'radioshack', 'rae', 'rafaelian', 'rag', 'rage', 'raglan', 'ragland', 'ragna', 'ragnar', 'rags', 'raiders', 'raikou', 'rail', 'rain', 'raina', 'rainboots', 'rainbow', 'rainbows', 'raincoat', 'rainforest', 'rajasthani', 'raleighuga', 'ralph', 'rambler', 'rambo', 'ramekins', 'ramen', 'ramirez', 'ranch', 'randall', 'randeer', 'random', 'randy', 'randyblack', 'ranger', 'rangers', 'rapid', 'rapper', 'raptor', 'rapture', 'rapunzel', 'raquel', 'rare', 'rares', 'rash', 'raspberry', 'rasta', 'ratanak', 'ratchet', 'rate', 'rated', 'rave', 'raven', 'ravenclaw', 'ravenna', 'ravens', 'raw', 'rawlings', 'rawls', 'ray', 'rayasun', 'rayban', 'raybans', 'rayne', 'rays', 'razer', 'razor', 'razors', 'razzberry', 'rb', 'rbx', 'rc', 'rd', 'rdta', 're', 'reach', 'read', 'reader', 'readers', 'reading', 'readings', 'readmyprofile', 'ready', 'real', 'realher', 'reality', 'really', 'realmami1511', 'realtree', 'reasons', 'rebecca', 'rebel', 'rebels', 'reborning', 'receipt', 'receiver', 'recipe', 'recipes', 'recon', 'reconstructor', 'record', 'recorder', 'records', 'recore', 'rector', 'red', 'redcamel', 'redcardinalgirl', 'reddish', 'redefine', 'redemption', 'redken', 'redness', 'reds', 'redskin', 'reduced', 'reduction', 'reebok', 'reef', 'reel', 'ref', 'refill', 'refills', 'reflective', 'reflex', 'refresh', 'refrigerator', 'regan', 'regency', 'regenessence', 'reghaann', 'regimen', 'regular', 'rehab', 'reign', 'reiki', 'reimbursement', 'reindeer', 'reindeers', 'relaxed', 'relay', 'relays', 'release', 'relentlessly', 'relic', 'relief', 'religion', 'remi', 'remington', 'remixbtq', 'remote', 'removal', 'removed', 'remover', 'remy', 'ren', 'renaissance', 'renergie', 'renewal', 'renewing', 'repackage', 'repair', 'repairing', 'replacement', 'replenish', 'replenshing', 'report', 'repost', 'reptar', 'republic', 'request', 'requested', 'res', 'reschan', 'rescue', 'rescued', 'reserve', 'reserved', 'resident', 'resilience', 'resin', 'resistant', 'resort', 'response', 'rest', 'rested', 'resting', 'restn', 'restorative', 'restroom', 'results', 'retail', 'retainer', 'retired', 'retool', 'retractable', 'retriever', 'retro', 'retros', 'return', 'reusable', 'revealed', 'reverse', 'reversible', 'review', 'revision', 'revitalift', 'revival', 'revivals', 'reviving', 'revlon', 'revo', 'revolution', 'reward', 'rewind', 'rey', 'rhaegal', 'rhea', 'rhett', 'rhianna', 'rhine', 'rhinestone', 'rhinestones', 'rhonda', 'rhythm', 'rib', 'ribbed', 'ribbon', 'ribbons', 'ric', 'ricardo', 'rich', 'riche', 'rick', 'riddick', 'ride', 'riding', 'right', 'rihanna', 'rilakkuma', 'riley', 'rimless', 'rin', 'ring', 'ringer', 'rings', 'rinse', 'riot', 'ripe', 'ripped', 'ripstop', 'rise', 'risers', 'rising', 'risk', 'rita', 'rite', 'ritogo', 'ritzy', 'river', 'riya', 'rl', 'rlc', 'rm', 'rms', 'rn', 'ro', 'road', 'roadkill', 'roads', 'robe', 'roberto', 'roberts', 'robertson', 'robin', 'robinson', 'robocop', 'robot', 'robyne', 'roc', 'rochelle', 'rock', 'rocket', 'rocketdog', 'rocketeer', 'rockie', 'rockies', 'rockport', 'rockstar', 'rocky', 'rockygirl1', 'rodan', 'rodent', 'rodeo', 'rodgers', 'rodriguez', 'rods', 'roe', 'roger', 'roger617', 'rogers', 'rogue', 'rok', 'roku', 'role', 'rolex', 'rolf', 'roll', 'rolled', 'roller', 'rollerball', 'rollers', 'rolling', 'rolls', 'roly', 'rom', 'romaleos', 'roman', 'romance', 'romantic', 'romantics', 'romero', 'romper', 'rompers', 'ron', 'roni', 'rookie', 'room', 'rooster', 'root', 'roots', 'rope', 'rose', 'rosealita', 'roseberry', 'rosegirls', 'rosegold', 'rosehip', 'roses', 'rosewood', 'rosey', 'roshe', 'roshes', 'rosie', 'ross', 'rossi', 'rossi_', 'rosy', 'rotating', 'roth', 'rouge', 'round', 'rounds', 'rousse', 'route', 'router', 'row', 'rowdy', 'roxane', 'roxy', 'royal', 'royals', 'royce', 'rpg', 'rs', 'rsvd', 'rt', 'rtic', 'rubber', 'rubies', 'rubik', 'ruby', 'ruched', 'rudolph', 'rue', 'rue21', 'ruffle', 'rufflebutts', 'ruffled', 'ruffles', 'rug', 'rugby', 'rugrats', 'rugs', 'ruie', 'ruled', 'rum', 'rumble', 'run', 'runderful', 'rundisney', 'runner', 'running', 'runs', 'runway', 'ruse', 'rush', 'russ', 'russe', 'russell', 'russian', 'rustic', 'rvca', 'rx200', 'ryan', 'ryk', 'ryu', 'rénergie', 's1', 's13', 's3', 's5', 's6', 's7', 's8', 's9', 's925', 'sabers', 'sabo', 'sac', 'sack', 'sad', 'saddle', 'sadock', 'safari', 'safe', 'safety', 'saffiano', 'saga', 'sage', 'sahara', 'saigonais', 'sailboat', 'sailor', 'sailormoon', 'saint', 'saints', 'sakroots', 'saks', 'sakura', 'sale', 'sales', 'sally', 'salmon', 'salon', 'salsa', 'salt', 'saltwater', 'salvage', 'salvatore', 'sam', 'samantha', 'sambas', 'same', 'sammb88', 'sammi_53', 'sammy', 'samoa', 'samoas', 'sample', 'sampler', 'samples', 'samplesize', 'sampson', 'samsonite', 'samsung', 'san', 'sanctuary', 'sanctum', 'sand', 'sandal', 'sandals', 'sandberg', 'sandel', 'sandels', 'sander', 'sanderson', 'sandisk', 'sandles', 'sandman', 'sandstorm', 'sandy76', 'sangria', 'sanitizer', 'sanitizers', 'sanrio', 'santa', 'santana', 'santeria', 'santiago', 'santo', 'sanuk', 'sao', 'sapphire', 'sara', 'sarah', 'sarto', 'sash', 'sasha', 'satchel', 'sateen', 'satellite', 'satin', 'saturn', 'sauce', 'saucers', 'saucony', 'saucynaomi', 'saulsalito', 'sausage', 'save', 'saved', 'saver', 'savers', 'saving', 'savor', 'sax', 'say', 'sayers', 'sb', 'sb122', 'scale', 'scallop', 'scalloped', 'scandalous', 'scare', 'scarf', 'scarfs', 'scarlet', 'scarlett', 'scat', 'scavenger', 'sce', 'scene', 'scent', 'scented', 'scentportables', 'scents', 'scentsy', 'schick', 'schmidt', 'school', 'schoolboy', 'schoolgirl', 'schoolwear', 'schwarzkopf', 'scientific', 'scissor', 'sckechers', 'scooby', 'scoop', 'scoops', 'scooter', 'scott', 'scotty', 'scouting', 'scrapbook', 'scrapbooking', 'scratch', 'scream', 'screen', 'screens', 'screw', 'screwdriver', 'script', 'scroll', 'scrolls', 'scrub', 'scrubbing', 'scrubs', 'scrunch', 'scrunchies', 'sculpt', 'sculpting', 'sculpture', 'sd', 'sdcc', 'se', 'sea', 'seacoast', 'seafoam', 'seahawks', 'seahorse', 'seal', 'sealed', 'seamless', 'seana', 'seashell', 'season', 'seasons', 'seat', 'seatbelt', 'seattle', 'seawheeze', 'sebastian', 'secert', 'second', 'secrect', 'secret', 'secrets', 'security', 'sedona', 'see', 'seed', 'seek', 'sega', 'select', 'selena', 'self', 'selfie', 'seller', 'selley', 'selling', 'selma', 'senegence', 'senior', 'senorita', 'sensation', 'sensationail', 'sense', 'sensor', 'sensual', 'sentimental', 'sentiments', 'senza', 'separating', 'sephora', 'sepia', 'september', 'septum', 'sequence', 'sequenced', 'sequin', 'sequined', 'sequins', 'serendipity', 'serenity', 'serial', 'series', 'serious', 'serum', 'served', 'servin', 'serving', 'sesame', 'set', 'sets', 'setter', 'setting', 'seven', 'seventeen', 'seventh', 'seville', 'sew', 'sewing', 'sex', 'sexy', 'sf9', 'sg', 'sgirl', 'sgjbe', 'sh', 'shad', 'shade', 'shades', 'shadow', 'shadows', 'shadowsense', 'shake', 'shakers', 'shakespeare', 'shakira', 'sham', 'shampoo', 'shannon', 'shantae', 'shantell', 'shape', 'shaped', 'shapee', 'shaper', 'shapeware', 'shapewear', 'shaping', 'shaquille', 'share', 'shark', 'sharlene', 'sharp', 'sharpener', 'sharpie', 'shave', 'shaver', 'shaving', 'shawl', 'shawnee', 'shaymin', 'shaynin', 'she', 'shea', 'shear', 'shearling', 'sheaterra', 'shed', 'sheep', 'sheepskin', 'sheer', 'sheeran', 'sheet', 'sheets', 'shelbe', 'shelby', 'sheldon', 'shelf', 'shell', 'shells', 'shelly88', 'shelves', 'shep', 'shepherd', 'sherill', 'sherlock', 'sherpa', 'sherri', 'sheryl', 'sheseido', 'shibari', 'shield', 'shields', 'shift', 'shills', 'shimmer', 'shimmering', 'shimmers', 'shine', 'shinee', 'shiner', 'shiny', 'ship', 'shipfromchina', 'shipnwt', 'shipp', 'shippi', 'shipping', 'ships', 'shirley', 'shirt', 'shirts', 'shiseido', 'shisha', 'shitt', 'shock', 'shockproof', 'shoe', 'shoedazzle', 'shoes', 'shooting', 'shop', 'shop21', 'shopaholic313', 'shopkins', 'shopper', 'shoppies', 'shopping', 'shore', 'short', 'shortcake', 'shortie', 'shorties', 'shorts', 'shot', 'shots', 'should', 'shoulder', 'shoulders', 'show', 'shower', 'shown', 'showtime', 'shox', 'shp', 'shrug', 'shu', 'shuffle', 'shutter', 'si', 'sia', 'siamese', 'sick', 'sicoticoz', 'side', 'sided', 'sider', 'siders', 'siege', 'siena', 'sierra', 'sig', 'sigma', 'sign', 'signature', 'signed', 'signs', 'silence', 'silent', 'silicon', 'silicone', 'silisponge', 'silk', 'silky', 'silly', 'silpada', 'silv', 'silver', 'silvertone', 'sim', 'similac', 'similar', 'simple', 'simply', 'simpson', 'simpsons', 'sims', 'simulated', 'simulator', 'sin', 'sincher', 'sinful', 'sinfully', 'sing', 'singer', 'singing', 'single', 'singlemom', 'sippy', 'sir', 'siren', 'sirens', 'sister', 'sisters', 'sitters', 'sitting', 'six', 'sixteen', 'size', 'size8', 'sized', 'sizer', 'sizes', 'sizexs', 'sk', 'sk8', 'skate', 'skateboard', 'skater', 'skates', 'skechers', 'skelecorns', 'skeleton', 'skeletons', 'skeletor', 'skelita', 'skellington', 'sketch', 'sketchbook', 'sketchers', 'ski', 'skies', 'skillet', 'skin', 'skincare', 'skinfood', 'skinforce', 'skinnies', 'skinny', 'skintreats', 'skinvigorate', 'skip', 'skiphop', 'skippingelf', 'skirt', 'skirted', 'skirts', 'skort', 'skull', 'skullcandy', 'skulls', 'skwids', 'sky', 'skylander', 'skylanders', 'skylar', 'skylie', 'skyline', 'skyn', 'skyrim', 'slacks', 'slate', 'slave', 'slay', 'sleek', 'sleep', 'sleepe', 'sleeper', 'sleepers', 'sleeping', 'sleepover', 'sleepsack', 'sleepsuit', 'sleepwear', 'sleepy', 'sleeve', 'sleeved', 'sleeveless', 'sleeves', 'sleigh', 'sleuth', 'sleve', 'slicer', 'slices', 'slide', 'slides', 'slim', 'slime', 'slimer', 'slimes', 'slimett', 'slimming', 'sling', 'slingshot', 'slip', 'slipons', 'slipper', 'slippers', 'slit', 'slits', 'sliver', 'slivers', 'slot', 'sloth', 'slouch', 'slouchy', 'slow', 'slurp', 'slvr', 'sly', 'sm', 'smackdown', 'smacker', 'smal', 'small', 'smart', 'smarter', 'smartphone', 'smartsoap', 'smartwatch', 'smash', 'smashbox', 'smell', 'smencils', 'smile', 'smiles', 'smiley', 'smith', 'smiths', 'sml', 'smock', 'smocked', 'smoke', 'smokey', 'smoky', 'smooth', 'smoothie', 'smoothing', 'smores', 'smothing', 'smuggler', 'smurf', 'smurfes', 'smyth', 'snack', 'snake', 'snakeskin', 'snap', 'snapback', 'snapbacks', 'snarlypie', 'snazii', 'snc13', 'sneaker', 'sneakers', 'snes', 'snglasses', 'sniper', 'snobby', 'snoopy', 'snoozies', 'snotsucker', 'snow', 'snowbaby', 'snowboard', 'snowboarding', 'snowflake', 'snowmen', 'snowpants', 'snozu', 'snug', 'snuzzler', 'so', 'soak', 'soap', 'soccer', 'social', 'society', 'sock', 'socks', 'soda', 'sodastream', 'soffe', 'sofia', 'soft', 'softball', 'softner', 'softworks', 'soho', 'soild', 'sol', 'solar', 'solarsoft', 'sold', 'soldier', 'sole', 'soleil', 'solemio', 'soles', 'solgaleo', 'solid', 'solitaire', 'solo', 'solo2', 'solstice', 'solution', 'solutions', 'someone', 'somervell', 'somerville', 'something', 'son', 'songs', 'sonic', 'sonicare', 'sonix', 'sonogram', 'sonoma', 'sony', 'soon', 'sooner', 'soothie', 'sophia', 'sorbet', 'sorcerers', 'sorel', 'sorter', 'sorting', 'sosa', 'soto', 'soufflé', 'soul', 'soulcycle', 'soulmates', 'souls', 'sound', 'sounds', 'soundtrack', 'south', 'southern', 'southernsweeti', 'sox', 'soy', 'sp', 'sp1908', 'spa', 'space', 'spacegirlz', 'spaceman', 'spaceship', 'spade', 'spades', 'spaghetti', 'spahn', 'spalding', 'spandex', 'spanish', 'spanx', 'spark', 'sparking', 'sparkle', 'sparkled', 'sparkles', 'sparkley', 'sparkling', 'sparkly', 'sparks', 'spartina', 'speaker', 'speakers', 'spearmint', 'spears', 'spec', 'special', 'speck', 'speckled', 'spectra', 'spectrum', 'speed', 'speedo', 'speedway', 'speedy', 'spell', 'spells', 'sperry', 'sperrys', 'speva', 'spf', 'spft', 'spice', 'spicebomb', 'spicy', 'spider', 'spiderman', 'spiders', 'spike', 'spiked', 'spikes', 'spiky', 'spill', 'spin', 'spinne', 'spinner', 'spinners', 'spinning', 'spiral', 'spirit', 'splash', 'splatoon', 'splatter', 'split', 'splurge', 'spong', 'sponge', 'spongebob', 'sponges', 'spooky', 'spoon', 'sport', 'sports', 'sportswear', 'sporty', 'spot', 'spotlight', 'spray', 'sprayground', 'sprays', 'spread', 'spring', 'springs', 'springsteen', 'sprinkles', 'sprint', 'sprout', 'sps', 'spy', 'spyder', 'squad', 'squall', 'square', 'squash', 'squat', 'squirrel', 'squish', 'squishy', 'squishys', 'sr', 'srd1020', 'ss', 'ss16', 'ssd', 'st', 'stabby', 'stacey', 'stacia', 'stackable', 'stacker', 'stadium', 'stage', 'stain', 'stained', 'stainless', 'stakes', 'stamp', 'stamped', 'stampin', 'stamps', 'stand', 'standard', 'standing', 'stands', 'stanton', 'star', 'starbucks', 'starcraft', 'stardust', 'starfish', 'starfox', 'starlet', 'starry', 'stars', 'start', 'starter', 'starwar', 'state', 'statement', 'states', 'station', 'stats', 'statue', 'statues', 'status', 'stay', 'stayfree', 'steacy', 'steal', 'stealth', 'steam', 'steamer', 'steel', 'steeler', 'steelers', 'steer', 'stefani', 'stella', 'stem', 'stencil', 'stencils', 'step', 'stephanie', 'steps', 'ster', 'stereo', 'sterilizing', 'sterl', 'sterling', 'steve', 'steven', 'stevie', 'stewart', 'stewie', 'stick', 'sticker', 'stickers', 'sticks', 'sticky', 'stif', 'stila', 'stiletto', 'still', 'stimpy', 'stinger', 'stinson', 'stitch', 'stitched', 'stix', 'stock', 'stocking', 'stockings', 'stone', 'stones', 'stonestone', 'stoneware', 'stonewashed', 'stool', 'stopper', 'storage', 'store', 'stork', 'storm', 'story', 'storybook', 'storytime', 'strada', 'straight', 'straightener', 'straightening', 'straighteningsmoothing', 'strand', 'strange', 'stranger', 'strap', 'strapback', 'strapless', 'strapped', 'strappy', 'straps', 'strauss', 'straw', 'strawberry', 'straws', 'streaker', 'streaming', 'streams', 'strech', 'street', 'streetwise', 'stress', 'stretch', 'stretchy', 'strickland', 'stride', 'strike', 'string', 'strip', 'stripe', 'striped', 'stripes', 'stripped', 'stripper', 'strips', 'strivectin', 'strobing', 'stroler', 'stroller', 'strong', 'struck', 'strudel', 'stu', 'stud', 'studded', 'student', 'studio', 'studios', 'studs', 'study', 'stufd', 'stuff', 'stuffe', 'stuffed', 'stunning', 'sturdy', 'stussy', 'style', 'styles', 'styling', 'stylish', 'stylist', 'stylistkathryn', 'stylo', 'stylus', 'styrofoam', 'suave', 'subaqua', 'subculture', 'subject', 'sublime', 'submersible', 'subox', 'subway', 'success', 'suction', 'sued', 'suede', 'suga', 'sugar', 'sugared', 'sugarluc', 'suhali', 'suicide', 'suit', 'suitcase', 'suki', 'sully', 'sultry', 'summer', 'sun', 'sunburst', 'sunday', 'sundown', 'sundress', 'sundresses', 'sunflower', 'sunglasses', 'sunkissed', 'sunny', 'sunseeker', 'sunset', 'sunshine', 'super', 'superfeet', 'superflys', 'supergoop', 'superhero', 'superior', 'superman', 'supernatural', 'superstar', 'superstars', 'superwoman', 'supplies', 'supply', 'supplyco', 'support', 'supra', 'supreme', 'supremeleadersnoke', 'sur', 'sure', 'surefire', 'surf', 'surface', 'surfer', 'surg', 'surge', 'surplus', 'surprise', 'survival', 'susan', 'suspender', 'suspenders', 'sutton', 'suzanne', 'suzis', 'suzleen', 'swaddle', 'swaddleme', 'swaddlers', 'swaddles', 'swag', 'swag773', 'swagger', 'swamp', 'swan', 'swanson', 'swarm', 'swarovski', 'swatch', 'swearshirt', 'sweat', 'sweater', 'sweaters', 'sweatershirt', 'sweatpant', 'sweatpants', 'sweats', 'sweatshirt', 'sweatshirts', 'sweatsuit', 'sweeney', 'sweet', 'sweetheart', 'sweethearts', 'sweetie', 'swell', 'swift', 'swiftly', 'swim', 'swimsuit', 'swimsuits', 'swimwear', 'swin', 'swing', 'swirl', 'swiss', 'switch', 'swoll', 'swoosh', 'sx10', 'sycamore', 'syj', 'symbol', 'symmetry', 'sync', 'synchilla', 'syndicate', 'synthetic', 'syracuse', 'system', 'sz', 'sz10', 'sz11', 'sz27', 'sz4', 'sz5', 'sz6', 'sz7', 'sz8', 'sz9', 'sze', 'súper', 'sʜɪᴘ', 't2', 't5', 't6', 't9', 'ta', 'ta7', 'tab', 'tabitha', 'table', 'tablet', 'tabletop', 'tablets', 'taboo', 'tabs', 'tac', 'tackle', 'taco', 'tact', 'tactical', 'taekwondo', 'taffeta', 'taffy', 'tag', 'tagi', 'tagless', 'tags', 'tahari', 'tahiti', 'tahitian', 'tai', 'tail', 'take', 'taking', 'takis', 'talc', 'tale', 'tales', 'talk', 'talking', 'tall', 'talla', 'tam', 'tamagotchi', 'tamarindo', 'tamer', 'tammy', 'tampa', 'tampax', 'tampon', 'tampons', 'tan', 'tangerine', 'tangle', 'tango', 'tanjun', 'tank', 'tankini', 'tanks', 'tankt', 'tanktop', 'tanner', 'tanning', 'tanya', 'tap', 'tape', 'tapered', 'tapestry', 'tara', 'tarantino', 'tardis', 'target', 'tarina', 'tarnished', 'tart', 'tarte', 'tarteist', 'tartelette', 'tarzarn', 'tassel', 'taste', 'tata', 'tatami', 'tatcha', 'tatoo', 'tattler', 'tattoo', 'tattoos', 'tatum', 'tau', 'taupe', 'tavas', 'taxi', 'taylor', 'taylormade', 'tayweer', 'tb', 'tbf', 'tc', 'tc2', 'tcg', 'tchicb', 'tcp', 'tdisalvo10', 'tea', 'teacher', 'teaching', 'teacup', 'teal', 'tealight', 'tealights', 'team', 'teapot', 'tears', 'tease', 'teaspoon', 'tech', 'tech21', 'technician', 'technique', 'techniques', 'ted', 'teddy', 'tee', 'teeki', 'teen', 'teenage', 'teepees', 'tees', 'teeth', 'teether', 'teething', 'teint', 'tek', 'tekken', 'telescopic', 'television', 'telling', 'telluride', 'temper', 'tempera', 'temperature', 'tempered', 'tempo', 'temporary', 'tempos', 'tempt', 'temptation', 'ten', 'tena', 'tendre', 'tennessee', 'tennis', 'tent', 'tentacle', 'terilyn', 'terminal', 'terminated', 'terracota', 'terrariums', 'terree', 'terrier', 'terry', 'tess', 'tessa', 'test', 'tester', 'testers', 'texans', 'texas', 'text', 'textbook', 'texture', 'textured', 'texturizing', 'teyana', 'th', 'than', 'thank', 'thankful', 'thanks', 'thanksgiving', 'thanos', 'that', 'the', 'thea', 'theater', 'theaters', 'theft', 'thelifter', 'them', 'theme', 'themed', 'then', 'thena', 'theo', 'theorie', 'theory', 'thera', 'therapeutic', 'therapy', 'therma', 'thermafit', 'thermal', 'thermofit', 'thermometer', 'these', 'thewaxjunkie', 'they', 'thick', 'thieves', 'thigh', 'thighs', 'thin', 'thing', 'things', 'think', 'thirstymud', 'thirty', 'this', 'tho', 'thomas', 'thong', 'thongs', 'thor', 'thousand', 'thrash', 'thrasher', 'thrawn', 'three', 'threshold', 'thrive', 'thrones', 'throw', 'throwback', 'thumb', 'thumbs', 'thumper', 'thunder', 'thunderhead', 'thuy', 'thuys', 'ti', 'tiana', 'tiara', 'tiaras', 'tibetan', 'tick', 'tide', 'tie', 'tied', 'tieks', 'tier', 'tiered', 'ties', 'tiff', 'tiffabeth86', 'tiffany', 'tiger', 'tigers', 'tigger', 'tight', 'tights', 'tigi', 'tignanello', 'tiki', 'tilden', 'tile', 'till', 'tilt', 'tilting', 'tim', 'timberland', 'timberlands', 'timbs', 'time', 'timecheck', 'timeless', 'timer', 'times', 'timeturner', 'timewise', 'tin', 'tina', 'tinker', 'tinkerbell', 'tins', 'tiny', 'tip', 'tippmann', 'tippy', 'tips', 'tiro', 'titanfall', 'titanium', 'titans', 'titleist', 'tlc', 'tlop', 'tmarie00', 'tmnt', 'tmobile', 'tmp', 'tnf', 'tnp', 'to', 'toad', 'toaster', 'tobacco', 'tobi', 'toboggan', 'tod', 'today', 'todays', 'todd', 'toddlee', 'toddler', 'toddlers', 'toe', 'toes', 'together', 'togetic', 'toggle', 'togospa', 'toilet', 'toiletries', 'toilette', 'token', 'toki', 'tokidoki', 'tol', 'toledo', 'tom', 'tomgirl', 'tommy', 'tomorrow', 'toms', 'tone', 'toned', 'toner', 'tones', 'tongue', 'tonic', 'tonique', 'tony', 'too', 'toofaced', 'tooie', 'tool', 'toolbox', 'tools', 'toon', 'tooth', 'toothbrush', 'toothpaste', 'tootsie', 'top', 'topaz', 'topcoat', 'topic', 'topper', 'topps', 'tops', 'topshop', 'topsiders', 'torch', 'tori', 'torrance', 'torres', 'torrid', 'torso', 'tortoise', 'tory', 'toryburch', 'toshiba', 'total', 'tote', 'totes', 'toto', 'toucan', 'touch', 'touchscreen', 'touché', 'tough', 'tour', 'tourq', 'towel', 'tower', 'toy', 'toyota', 'toys', 'toystory', 'toysweety', 'tp', 'tr', 'tr7', 'traceya', 'track', 'tracker', 'tracking', 'tracks', 'tracksuit', 'tractor', 'trail', 'train', 'trainer', 'training', 'trains', 'transfer', 'transformer', 'transformers', 'transistor', 'translucent', 'transmitter', 'trap', 'trapeze', 'trapping', 'travel', 'traveler', 'travis', 'traxion', 'tray', 'trays', 'treasure', 'treat', 'treatment', 'tredair', 'tree', 'trees', 'trefoil', 'trek', 'trellis', 'trench', 'trenchcoat', 'trendy', 'tri', 'triangl', 'triangle', 'tribal', 'trible', 'tribute', 'trick', 'triclimate', 'tricycle', 'trident', 'trifari', 'trifle', 'trifold', 'trillfiger', 'trillxpacsun', 'trilogies', 'trilogy', 'trim', 'trimmer', 'trinket', 'trinkets', 'trio', 'trip', 'triple', 'triplet', 'tripod', 'tripp', 'trish', 'trispinners', 'triton', 'trivia', 'trixxxxy', 'trojan', 'troll', 'trolls', 'troopa', 'trooper', 'tropez', 'tropic', 'tropical', 'trouser', 'trousers', 'tru', 'truck', 'trucks', 'true', 'truffle', 'trukfit', 'trump', 'trunk', 'trunks', 'trust', 'tshirt', 'tshirts', 'tshrit', 'tsum', 'tt', 'tub', 'tube', 'tubes', 'tubs', 'tubular', 'tucker', 'tuesday', 'tuk', 'tula', 'tulle', 'tumbler', 'tumbles', 'tumbling', 'tumblr', 'tummy', 'tundra', 'tuner', 'tunes', 'tungsten', 'tunic', 'tunics', 'tunnels', 'tunturu', 'tupac', 'tupperware', 'turbine', 'turbofire', 'turbulence', 'turismo', 'turn', 'turner', 'turning', 'turq', 'turquoise', 'turtle', 'turtleneck', 'turtles', 'tuscan', 'tut', 'tutti', 'tutu', 'tuxedo', 'tv', 'tweed', 'tween', 'tweezers', 'twenty', 'twice', 'twilight', 'twin', 'twinkle', 'twinkling', 'twinning', 'twins', 'twist', 'twisted', 'twisty', 'twiztid', 'two', 'ty', 'tybee', 'tye', 'tyler', 'tylers', 'tyme', 'type', 'tyrant', 'tyte', 'ua', 'uag', 'ucla', 'ud', 'uemura', 'ufc', 'ugg', 'uggs', 'ugh', 'ugly', 'uh', 'uhd', 'uhs', 'uk', 'ukulele', 'ult', 'ulta', 'ultimate', 'ultra', 'ultraboost', 'ultraforce', 'ultraviolence', 'uluru', 'umass', 'umbrella', 'umbrellas', 'umgee', 'un', 'unblemish', 'unbreakable', 'unc', 'uncaged', 'uncharted', 'unclipped', 'uncomplikated', 'uncover', 'undated', 'undefeated', 'under', 'underarmour', 'undereye', 'underpants', 'unders', 'underwear', 'underworld', 'undies', 'unfortunate', 'uni', 'unicor', 'unicorn', 'unicorno', 'unicorns', 'unif', 'uniform', 'union', 'unionbay', 'uniqlo', 'unique', 'unisex', 'unit', 'unitard', 'united', 'unitron', 'univ', 'universal', 'universe', 'university', 'unknown', 'unlined', 'unlocked', 'unmasked', 'uno', 'unopened', 'unrefined', 'untested', 'until', 'unused', 'unzipped', 'uo', 'up', 'uplife', 'upon', 'ups', 'upside', 'uptowns', 'urban', 'urbandecay', 'urbeats', 'urchin', 'urethra', 'urinal', 'us', 'usa', 'usamade', 'usb', 'usc', 'use', 'used', 'usmc', 'usps', 'utensil', 'utensils', 'utility', 'uv', 'v15', 'v2', 'v3', 'v6', 'vacation', 'vacuum', 'vader', 'valance', 'valentina', 'valentine', 'valentines', 'valentino', 'valeri', 'valerie', 'valor', 'van', 'vanessa', 'vanguard', 'vanilla', 'vanishing', 'vanity', 'vans', 'vape', 'vaporizing', 'variant', 'variegated', 'variety', 'varsity', 'vase', 'vassarette', 'vault', 'vaulted', 'vcr', 'veena', 'veer', 'vega', 'vegan', 'vegas', 'vegeta', 'veggie', 'veil', 'velco', 'velcro', 'velour', 'velveeta', 'velvet', 'velvetine', 'velvetines', 'venario', 'veneta', 'venetian', 'venezia', 'venice', 'venom', 'venomous', 'vent', 'venti', 'ventilation', 'venus', 'venusaur', 'ver', 'vera', 'verino', 'verizon', 'vermeil', 'versace', 'versatility', 'version', 'very', 'vest', 'vests', 'vex', 'vguc', 'vhs', 'vhtf', 'via', 'viagra', 'vial', 'vials', 'viamor', 'vibes', 'vibram', 'vibrant', 'vice', 'vicfash', 'vicks', 'victora', 'victoria', 'victorian', 'victorias', 'video', 'vietnam', 'view', 'viewer', 'vigoss', 'viii', 'viking', 'vikings', 'viktor', 'village', 'villager', 'villain', 'villains', 'ville', 'vince', 'vincent', 'vine', 'vines', 'vinessa', 'vineyard', 'vintage', 'vinyasa', 'vinyl', 'violence', 'violet', 'vionic', 'vip', 'vira', 'virgin', 'virginia', 'virginity', 'virtual', 'visionnaire', 'visor', 'vita', 'vitality', 'vitamin', 'vittadini', 'viv', 'viva', 'vivani', 'vive', 'vivers', 'vivid', 'vivienne', 'vivitar', 'vivoactiv', 'vlampo', 'vlone', 'vneck', 'vocaloid', 'voice', 'vol', 'volatile', 'volcanic', 'volcanion', 'volcom', 'volleyball', 'vols', 'volt', 'volume', 'voluminous', 'volumizing', 'von', 'vonvon', 'voodoo', 'vornado', 'votive', 'voyage', 'vr', 'vs', 'vspink', 'vsx', 'vtect', 'vtg', 'vuitton', 'vulgar', 'vuru', 'vw', 'w8', 'wa', 'wacoal', 'waffle', 'wagner', 'wahl', 'waist', 'waisted', 'waker', 'wakeup', 'wal', 'walgreen', 'walk', 'walker', 'walking', 'walks', 'wall', 'wallet', 'wallflower', 'walmart', 'walrus', 'walter', 'wand', 'wanderingpineapple', 'wands', 'wang', 'wanna', 'want', 'war', 'ward', 'wardrobe', 'ware', 'warfare', 'warm', 'warmer', 'warmers', 'warmest', 'warn', 'warning', 'warren', 'warriors', 'wars', 'wash', 'washed', 'washi', 'washington', 'waste', 'wasteland', 'watch', 'watchdogs', 'watched', 'watches', 'watchmen', 'water', 'waterbottle', 'watercolor', 'waterfall', 'waterflosser', 'waterlily', 'watermelon', 'waterpik', 'waterproof', 'watt', 'wave', 'wavefarer', 'waver', 'waves', 'wavy', 'wax', 'waxpen', 'way', 'wayfair', 'wayfarer', 'wdges', 'we', 'weapon', 'weaponized', 'wear', 'weather', 'weatherproof', 'web', 'webkinz', 'websters', 'wed', 'wedding', 'wedge', 'wedged', 'wedges', 'wedgesd', 'wee', 'weed', 'week', 'weekender', 'wees', 'weight', 'weird', 'welcome', 'well', 'wellies', 'wellington', 'welly', 'wen', 'were', 'wesson', 'west', 'western', 'wet', 'wgp', 'wh10', 'whal', 'whale', 'what', 'whbm', 'wheaton', 'wheel', 'wheels', 'when', 'where', 'whipped', 'whipstitch', 'whirlwind', 'whisk', 'whiskey', 'whistler', 'white', 'whitener', 'whiteni', 'whitening', 'whitesides', 'whitestrips', 'whitewater', 'whiting', 'who', 'whole', 'wholesale', 'whool', 'wht', 'why', 'wi', 'wicca', 'wick', 'wicked', 'wicking', 'wide', 'wieck', 'wife', 'wifey', 'wifi', 'wig', 'wii', 'wiiu', 'wild', 'wildcat', 'wildfox', 'wildlands', 'wildly', 'wildyequus', 'will', 'williams', 'willie', 'willow', 'willychez', 'wilson', 'wilsons', 'wilt', 'win10', 'winans79', 'wind', 'windbreaker', 'windchime', 'windex', 'window', 'windows', 'windsor', 'windstream', 'windwall', 'windy', 'wine', 'wing', 'winged', 'wings', 'wingtips', 'wink', 'winky', 'winnie', 'winston', 'winter', 'wipe', 'wipes', 'wipouch', 'wire', 'wired', 'wirefree', 'wireless', 'wirelessw', 'wiring', 'wirless', 'wisconsin', 'wisdom', 'wishes', 'wispie', 'wispy', 'witch', 'with', 'withings', 'without', 'witness', 'wiz', 'wizard', 'wizards', 'wm', 'wmns', 'wms', 'wnw', 'wo', 'wobble', 'woemns', 'woke', 'wolf', 'wolverine', 'wolverines', 'wolves', 'woman', 'womans', 'women', 'womens', 'wonder', 'wonderkids', 'wonderstruck', 'wonderwand', 'woo', 'wood', 'wooden', 'woodford', 'woodland', 'woods', 'woodside', 'woodslice', 'woof', 'wool', 'words', 'work', 'working', 'workout', 'works', 'worksheets', 'workwear', 'world', 'worm', 'worn', 'worthington', 'woven', 'wow', 'wrancher', 'wrangler', 'wrap', 'wrapping', 'wraps', 'wreath', 'wreaths', 'wreats', 'wreck', 'wren', 'wrestlemania', 'wrestlers', 'wrinkle', 'wrinkles', 'wrist', 'wristband', 'wristbands', 'wristlet', 'wristlets', 'writer', 'writing', 'wrong', 'wunder', 'wunder2', 'wunderbrow', 'wvu', 'wwe', 'wydowna', 'x1', 'x12', 'x15', 'x16', 'x2', 'x3', 'x47', 'x5', 'x6', 'x7', 'xbox', 'xc', 'xerneas', 'xhilaration', 'xhiliaration', 'xhiliration', 'xi', 'xiv', 'xl', 'xlarge', 'xlg', 'xlong', 'xlt', 'xmas', 'xout', 'xoxo', 'xpression', 'xs', 'xshot', 'xsm', 'xsmall', 'xtr', 'xtra', 'xx', 'xxi', 'xxl', 'xxs', 'xxxl', 'yachty', 'yah', 'yakub', 'yale', 'yandow', 'yang', 'yankee', 'yankees', 'yard', 'yards', 'yarn', 'yasmin', 'yasss', 'yc', 'yd', 'year', 'years', 'yeezy', 'yellow', 'yes', 'yesenia', 'yeti', 'ying', 'yl', 'ylg', 'ym', 'ymd', 'ymi', 'yo', 'yoci', 'yoda', 'yoga', 'yogas', 'yogi', 'yogurt', 'yokai', 'yokono', 'yoli', 'yolk', 'yolo', 'yondu', 'yoot', 'york', 'yorker', 'yosemite', 'yoshi', 'you', 'young', 'younique', 'your', 'yours', 'youth', 'youthcleanse', 'yrbarbie', 'ysl', 'ysm', 'yu', 'yugioh', 'yumbox', 'yummmaia', 'yummy', 'yurman', 'yuzu', 'yves', 'yvessaintlaurent', 'yxl', 'zac', 'zaful', 'zag', 'zagg', 'zales', 'zap', 'zara', 'zarah', 'zavaglia', 'zebra', 'zelda', 'zella', 'zen', 'zena', 'zeolite', 'zeppelin', 'zero', 'zeroes', 'zerogrand', 'zeta', 'zig', 'zingle', 'zings', 'zink', 'zionor', 'zip', 'zipit', 'zipper', 'zippers', 'zippo', 'zippy', 'zips', 'zipup', 'zircon', 'zodiac', 'zoe', 'zoeva', 'zombie', 'zomble', 'zone', 'zoobeedoo', 'zoolander', 'zoom', 'zoomair', 'zootopia', 'zoya', 'zte', 'zubels', 'zuly', 'zumba', 'zusana', 'zx', 'zztiques', 'ғʀᴇᴇ', 'ᑭoᗯᗪeᖇᔕ', 'ᔕeᒪᖴie', 'ᖴᗩᑕeᗪ']\n",
            "====================================================================================================\n"
          ],
          "name": "stdout"
        }
      ]
    },
    {
      "cell_type": "code",
      "metadata": {
        "colab": {
          "base_uri": "https://localhost:8080/"
        },
        "id": "glIiGT201YBE",
        "outputId": "0f49a0e6-36df-45d4-dfd7-e7d8e72e5819"
      },
      "source": [
        "print(X_train.shape, y_train.shape)\n",
        "print(X_test.shape, y_test.shape)\n",
        "print(\"=\"*100)\n",
        "\n",
        "vectorizer23 = CountVectorizer()\n",
        "vectorizer23.fit(X_train['brand_name'].values) # fit has to happen only on train data\n",
        "\n",
        "# we use the fitted CountVectorizer to convert the text to vector\n",
        "X_train_brand_name = vectorizer23.transform(X_train['brand_name'].values)\n",
        "X_test_brand_name = vectorizer23.transform(X_test['brand_name'].values)\n",
        "\n",
        "print(\"After vectorizations\")\n",
        "print(X_train_brand_name.shape, y_train.shape)\n",
        "print(X_test_brand_name.shape, y_test.shape)\n",
        "print(vectorizer23.get_feature_names())\n",
        "print(\"=\"*100)"
      ],
      "execution_count": 16,
      "outputs": [
        {
          "output_type": "stream",
          "text": [
            "(15964, 42) (15964,)\n",
            "(3992, 42) (3992,)\n",
            "====================================================================================================\n",
            "After vectorizations\n",
            "(15964, 1173) (15964,)\n",
            "(3992, 1173) (3992,)\n",
            "['21', '44', '5th', '90', 'abbott', 'abercrombie', 'acacia', 'acer', 'adagio', 'aden', 'adidas', 'adrianna', 'adriano', 'advantage', 'aerie', 'aeropostale', 'aerosoles', 'affliction', 'ag', 'aid', 'air', 'aldo', 'alex', 'alexander', 'alfani', 'all', 'allsaints', 'almost', 'alo', 'alpinestars', 'alstyle', 'altec', 'amazon', 'amazonbasics', 'ambiance', 'ameda', 'american', 'amusement', 'anais', 'anastasia', 'and', 'and1', 'anderson', 'angels', 'angie', 'angry', 'ani', 'ann', 'annabelle', 'anne', 'anthropologie', 'antik', 'antonio', 'ape', 'api', 'apparel', 'apple', 'apt', 'aqueon', 'ardell', 'arden', 'ariat', 'arizona', 'armani', 'armour', 'art', 'as', 'ashley', 'asics', 'asos', 'assn', 'asus', 'athleta', 'athletic', 'athletica', 'aurum', 'australia', 'aveda', 'aveeno', 'avent', 'avenue', 'avery', 'avia', 'avon', 'axe', 'aéropostale', 'babolat', 'baby', 'babybjorn', 'badgley', 'bahama', 'bailey', 'baker', 'balance', 'balenciaga', 'ban', 'banana', 'band', 'bandai', 'bandit', 'bandolino', 'bape', 'baraschi', 'barbie', 'bare', 'bareminerals', 'barn', 'barrow', 'basic', 'bass', 'bath', 'bathing', 'bauer', 'bay', 'bb', 'bcbg', 'bcbgeneration', 'bcbgmaxazria', 'beach', 'bean', 'beans', 'beats', 'beauty', 'beautyblender', 'bebe', 'beckham', 'bees', 'belkin', 'bell', 'bella', 'belly', 'ben', 'benbasset', 'benefit', 'berkley', 'best', 'bethesda', 'betsey', 'beverly', 'bic', 'big', 'bikinis', 'billabong', 'birds', 'birkenstock', 'bisou', 'bitton', 'bke', 'black', 'blahnik', 'blinc', 'bloks', 'blooming', 'blue', 'bobbi', 'bobbie', 'bodum', 'body', 'boho', 'bone', 'bongo', 'bonne', 'boohoo', 'boots', 'boppy', 'born', 'bose', 'bottega', 'boulevard', 'boundaries', 'bourke', 'boutique', 'boy', 'bradley', 'brahmin', 'brand', 'brands', 'brandy', 'braun', 'breathablebaby', 'breville', 'bridal', 'brighton', 'brine', 'brita', 'britax', 'brooks', 'brother', 'brothers', 'brown', 'browning', 'bruno', 'bryant', 'buckle', 'buffalo', 'bugaboo', 'bugle', 'bullhead', 'bulwark', 'bumgenius', 'burberry', 'burch', 'burt', 'butterfly', 'buxom', 'by', 'cabi', 'cacique', 'callaway', 'calphalon', 'calvin', 'campbell', 'camuto', 'candie', 'candle', 'candy', 'canon', 'capezio', 'carbon', 'care', 'caress', 'carhartt', 'carrera', 'cars', 'carter', 'cartier', 'caslon', 'catalina', 'caterpillar', 'catherines', 'cattleman', 'ccm', 'celebrity', 'chaco', 'champion', 'chanel', 'chaps', 'charlotte', 'charter', 'chaus', 'cheap', 'chef', 'cherokee', 'cherry', 'chic', 'chicco', 'chico', 'child', 'children', 'chinese', 'christian', 'city', 'claiborne', 'claire', 'clarins', 'clinique', 'cloth', 'clothing', 'club', 'co', 'coach', 'coast', 'cole', 'collection', 'collections', 'colors', 'colosseum', 'colourpop', 'columbia', 'comfort', 'comics', 'company', 'conair', 'concepts', 'conrad', 'converse', 'cosco', 'cosi', 'cosmetic', 'cosmetics', 'cotton', 'coty', 'couture', 'covergirl', 'covington', 'cowgirl', 'crayola', 'creativity', 'crest', 'crew', 'crime', 'crocs', 'croft', 'crosman', 'cuisinart', 'culture', 'customized', 'dahl', 'daisy', 'dakota', 'danskin', 'dansko', 'david', 'davidson', 'daytrip', 'dc', 'de', 'decay', 'decker', 'decree', 'degree', 'delia', 'dell', 'denim', 'depot', 'derek', 'designs', 'desigual', 'dewalt', 'dgk', 'diamond', 'diane', 'dickies', 'diesel', 'digital', 'dior', 'discovery', 'disney', 'divided', 'dkny', 'dokie', 'dolce', 'dooney', 'dope', 'dot', 'dots', 'doug', 'dove', 'dr', 'dre', 'dreambaby', 'dreamworks', 'dressbarn', 'dry', 'dunn', 'dynasty', 'eagle', 'earth', 'east', 'eci', 'ed', 'eddie', 'edelman', 'editions', 'eileen', 'einstein', 'electric', 'electrics', 'element', 'ella', 'elle', 'ellis', 'elmers', 'ely', 'emma', 'end', 'enfagrow', 'enfamil', 'entertainment', 'eo', 'eos', 'equipment', 'era', 'escentuals', 'essie', 'estee', 'evan', 'eve', 'evenflo', 'ever', 'everlast', 'exchange', 'exo', 'express', 'face', 'faced', 'factory', 'faded', 'family', 'famous', 'fao', 'fashion', 'faviana', 'fay', 'febreze', 'fendi', 'ferragamo', 'ferrar', 'figure', 'fila', 'first', 'fisher', 'fist', 'fitbit', 'fitch', 'floam', 'flyer', 'flying', 'fog', 'for', 'force', 'ford', 'foreman', 'forever', 'formula', 'fossil', 'fox', 'francesca', 'frankie', 'frederick', 'free', 'freestyle', 'freya', 'friends', 'frog', 'from', 'frye', 'fubu', 'fuentes', 'fuji', 'full', 'funimation', 'funko', 'furminator', 'furstenberg', 'gabbana', 'gal', 'ganz', 'gap', 'garmin', 'garnier', 'gateway', 'gdiapers', 'gear', 'geddes', 'geek', 'geller', 'general', 'geneva', 'george', 'georgio', 'gerber', 'gildan', 'gillette', 'gilligan', 'gilly', 'girl', 'givenchy', 'glade', 'glo', 'glory', 'goldberger', 'goldschmied', 'good', 'gosh', 'goyard', 'grace', 'graco', 'graver', 'gucci', 'guerlain', 'guess', 'gund', 'gymboree', 'gymshark', 'haan', 'hallmark', 'halo', 'hamilton', 'hanes', 'hanna', 'hansen', 'hanson', 'harajuku', 'hard', 'hardy', 'harley', 'hasbro', 'heart', 'hearts', 'hello', 'hermes', 'herschel', 'heusen', 'hicks', 'hilfiger', 'hill', 'hillard', 'hills', 'hobo', 'hollister', 'hollywood', 'home', 'honey', 'honora', 'hoover', 'hop', 'hot', 'house', 'hp', 'htc', 'huda', 'hudson', 'hue', 'huf', 'huggies', 'hula', 'hunter', 'hurley', 'ideology', 'idol', 'ikea', 'imaginext', 'in', 'inc', 'independent', 'infant', 'ingenuity', 'inglot', 'interdesign', 'interiors', 'international', 'iron', 'is', 'it', 'itzy', 'ivanka', 'ivivva', 'ivory', 'izod', 'jack', 'jacobs', 'jacqueline', 'jade', 'jamberry', 'james', 'jamie', 'jbl', 'jcpenney', 'jean', 'jeans', 'jeffery', 'jeffree', 'jessica', 'jewelers', 'jim', 'joe', 'jogger', 'john', 'johnson', 'jolt', 'jolyn', 'jon', 'jones', 'jonesport', 'jordan', 'jordans', 'jovani', 'joy', 'juicy', 'jumping', 'just', 'justfab', 'justice', 'justin', 'kangol', 'kardashian', 'kat', 'kate', 'kay', 'kendall', 'kendra', 'kenneth', 'keurig', 'kids', 'kiehl', 'kimchi', 'kiplling', 'kitchenaid', 'kitty', 'klein', 'kloth', 'kodak', 'kollection', 'konami', 'kors', 'kosh', 'kotex', 'kut', 'kylie', 'kyodan', 'la', 'lalaloopsy', 'lancome', 'lands', 'lane', 'lange', 'lansing', 'lansinoh', 'lauder', 'laundry', 'laura', 'lauren', 'laurent', 'lc', 'leap', 'leather', 'lee', 'lego', 'lenox', 'lepore', 'leslie', 'lesportsac', 'levana', 'levi', 'lf', 'lg', 'lia', 'libby', 'life', 'lilly', 'lilu', 'lime', 'limited', 'lincoln', 'lionheart', 'little', 'littlest', 'liz', 'loft', 'logitech', 'logs', 'lokai', 'lola', 'london', 'longaberger', 'longchamp', 'look', 'looney', 'lorac', 'lorenzo', 'louboutin', 'louis', 'louisville', 'love', 'lovers', 'lucky', 'lularoe', 'lulu', 'lululemon', 'lush', 'mac', 'machine', 'macy', 'madden', 'madewell', 'magazine', 'magli', 'maidenform', 'maine', 'majestic', 'make', 'makeup', 'malley', 'mally', 'mam', 'mamaroo', 'mangano', 'mankind', 'manolo', 'marc', 'marcus', 'marie', 'market', 'marni', 'martens', 'martha', 'marucci', 'marvel', 'mary', 'mason', 'masquerade', 'master', 'masters', 'matchbox', 'mate', 'material', 'maternity', 'mattel', 'maurices', 'max', 'maxi', 'maybelline', 'mcclintock', 'mcm', 'me', 'medela', 'mega', 'melani', 'melissa', 'melville', 'mercier', 'merona', 'merrell', 'metal', 'mezco', 'mga', 'michael', 'michele', 'microsoft', 'milani', 'miller', 'milton', 'minerals', 'minkoff', 'minnetonka', 'mischka', 'miss', 'missguided', 'mitchell', 'miu', 'mizuno', 'mlb', 'mobi', 'moda', 'modcloth', 'modern', 'moments', 'moms', 'monday', 'monkey', 'monopoly', 'monoreno', 'moose', 'mori', 'morphe', 'mossimo', 'motel', 'motherhood', 'msk', 'mudd', 'mulisha', 'munchkin', 'my', 'nanette', 'nars', 'nascar', 'nasty', 'nautica', 'navy', 'nba', 'neff', 'neill', 'neiman', 'nerf', 'ness', 'neutrogena', 'new', 'newport', 'news', 'nfinity', 'nfl', 'nick', 'nickelodeon', 'nicole', 'nike', 'nikon', 'nine', 'nintendo', 'nite', 'nivea', 'nixon', 'no', 'no7', 'nollie', 'nora', 'nordstrom', 'north', 'nosefrida', 'nostalgia', 'not', 'notations', 'nova', 'nuk', 'nyc', 'nye', 'nygard', 'nyx', 'oakley', 'of', 'office', 'okie', 'old', 'olga', 'on', 'one', 'oneida', 'onyx', 'opti', 'oral', 'oreal', 'originals', 'origins', 'oscar', 'osh', 'osiris', 'outfitters', 'owens', 'oxo', 'pacific', 'paco', 'paige', 'pampered', 'pampers', 'panache', 'pandora', 'papaya', 'papell', 'paper', 'patagonia', 'paul', 'pea', 'people', 'perfect', 'perry', 'personalized', 'pet', 'pets', 'petsafe', 'petsmart', 'philips', 'physicians', 'picone', 'pictures', 'pier', 'pink', 'pioneer', 'pixar', 'pj', 'place', 'plantronics', 'play', 'playmates', 'playskool', 'playtex', 'plus', 'pod', 'poise', 'pokemon', 'polo', 'pony', 'popsockets', 'pottery', 'prada', 'precious', 'premier', 'prestige', 'price', 'primark', 'primitive', 'prince', 'princess', 'production', 'pulitzer', 'puma', 'pur', 'purina', 'pyrex', 'quacker', 'quay', 'quicksilver', 'qupid', 'racing', 'radio', 'rae', 'rag', 'ralph', 'rated', 'rave', 'rawlings', 'ray', 'razer', 'rca', 'reaction', 'rebecca', 'red', 'redken', 'reebok', 'reflex', 'relic', 'religion', 'rene', 'renta', 'report', 'republic', 'revival', 'revlon', 'rewind', 'rick', 'rite', 'ritzy', 'rival', 'robeez', 'rock', 'rockport', 'rofe', 'rogers', 'rogue', 'roku', 'rolex', 'roll', 'romwe', 'ron', 'room', 'route', 'rox', 'roxy', 'ruby', 'rue', 'rue21', 'russ', 'russe', 'russell', 'rvca', 'sadock', 'safety', 'saint', 'sally', 'salvage', 'salvatore', 'sam', 'samsung', 'san', 'sandisk', 'sanuk', 'saucony', 'scentsy', 'schick', 'schmidt', 'schwarz', 'scott', 'sea', 'seal', 'secret', 'seen', 'senegence', 'senza', 'sephora', 'serious', 'sesame', 'sharpie', 'sherri', 'shiseido', 'shock', 'shoes', 'shop', 'shore', 'shu', 'signature', 'silver', 'similac', 'simonton', 'simply', 'simpson', 'sinful', 'size', 'skechers', 'skin', 'skip', 'sleek', 'slugger', 'smashbox', 'snap', 'snug', 'so', 'soda', 'soffe', 'softworks', 'sonoma', 'sony', 'sophia', 'soul', 'southern', 'spade', 'spalding', 'speedo', 'spense', 'sperry', 'sperrys', 'spin', 'sport', 'st', 'stamped', 'star', 'starbucks', 'start', 'starter', 'status', 'stayfree', 'stella', 'steve', 'stewart', 'stila', 'strauss', 'street', 'streetwise', 'stride', 'studio', 'studios', 'stussy', 'style', 'stüssy', 'summer', 'sunwear', 'supply', 'supreme', 'sure', 'susan', 'swaddlers', 'swimwear', 'swiss', 'tahari', 'talbots', 'tam', 'tampax', 'tangents', 'tara', 'target', 'targus', 'tart', 'tarte', 'taylor', 'taylormade', 'teaspoon', 'technologies', 'ted', 'tek', 'tena', 'terra', 'the', 'thebalm', 'thomas', 'thrasher', 'threadless', 'tianello', 'tieks', 'tiffany', 'tilt', 'timberland', 'times', 'titleist', 'to', 'tobi', 'tokidoki', 'tom', 'tommy', 'toms', 'tomtom', 'tonka', 'too', 'topic', 'topps', 'topshop', 'torrid', 'tory', 'toshiba', 'toys', 'tree', 'triangl', 'tripp', 'true', 'trukfi', 'trump', 'tsum', 'tunes', 'tupperware', 'tv', 'twenty', 'tyte', 'uemura', 'ugg', 'uknown', 'ulta', 'uncle', 'undefeated', 'under', 'unif', 'unionbay', 'uniqlo', 'universal', 'up', 'urban', 'us', 'usa', 'valve', 'van', 'vanilla', 'vanity', 'vans', 'veneta', 'venezia', 'venus', 'vera', 'versace', 'victoria', 'vigoss', 'vince', 'vines', 'vineyard', 'vintage', 'vita', 'vitamin', 'vivienne', 'volcom', 'von', 'vtech', 'vuitton', 'wacoal', 'wang', 'warner', 'wars', 'watchers', 'waterpik', 'we', 'weatherproof', 'wees', 'weight', 'west', 'western', 'wet', 'wheels', 'whisker', 'white', 'wick', 'wild', 'wildfox', 'willow', 'wilsons', 'windsor', 'wizards', 'works', 'worldwide', 'worthington', 'wrangler', 'wwe', 'xbox', 'xhilaration', 'xoxo', 'xxi', 'yankee', 'yeezy', 'yeti', 'ymi', 'yoana', 'yoga', 'york', 'younique', 'yurman', 'yves', 'zales', 'zara', 'zella', 'zumba']\n",
            "====================================================================================================\n"
          ],
          "name": "stdout"
        }
      ]
    },
    {
      "cell_type": "code",
      "metadata": {
        "colab": {
          "base_uri": "https://localhost:8080/"
        },
        "id": "BQLdETmN1mwr",
        "outputId": "3471d20b-3b01-4a7c-d829-34e248930083"
      },
      "source": [
        "print(X_train.shape, y_train.shape)\n",
        "print(X_test.shape, y_test.shape)\n",
        "print(\"=\"*100)\n",
        "\n",
        "vectorizer23 = CountVectorizer()\n",
        "vectorizer23.fit(X_train['category_main'].values) # fit has to happen only on train data\n",
        "\n",
        "# we use the fitted CountVectorizer to convert the text to vector\n",
        "X_train_category_main = vectorizer23.transform(X_train['category_main'].values)\n",
        "X_test_category_main = vectorizer23.transform(X_test['category_main'].values)\n",
        "\n",
        "print(\"After vectorizations\")\n",
        "print(X_train_category_main.shape, y_train.shape)\n",
        "print(X_test_category_main.shape, y_test.shape)\n",
        "print(vectorizer23.get_feature_names())\n",
        "print(\"=\"*100)"
      ],
      "execution_count": 17,
      "outputs": [
        {
          "output_type": "stream",
          "text": [
            "(15964, 42) (15964,)\n",
            "(3992, 42) (3992,)\n",
            "====================================================================================================\n",
            "After vectorizations\n",
            "(15964, 12) (15964,)\n",
            "(3992, 12) (3992,)\n",
            "['beauty', 'collectibles', 'electronics', 'handmade', 'home', 'kids', 'men', 'other', 'outdoors', 'sports', 'vintage', 'women']\n",
            "====================================================================================================\n"
          ],
          "name": "stdout"
        }
      ]
    },
    {
      "cell_type": "code",
      "metadata": {
        "colab": {
          "base_uri": "https://localhost:8080/"
        },
        "id": "JDK8Rofr2zMb",
        "outputId": "f6169553-d4da-436f-f4df-10e5fab8ba71"
      },
      "source": [
        "print(X_train.shape, y_train.shape)\n",
        "print(X_test.shape, y_test.shape)\n",
        "print(\"=\"*100)\n",
        "\n",
        "vectorizer23 = CountVectorizer()\n",
        "vectorizer23.fit(X_train['category_sub1'].values) # fit has to happen only on train data\n",
        "\n",
        "# we use the fitted CountVectorizer to convert the text to vector\n",
        "X_train_category_sub1 = vectorizer23.transform(X_train['category_sub1'].values)\n",
        "X_test_category_sub1 = vectorizer23.transform(X_test['category_sub1'].values)\n",
        "\n",
        "print(\"After vectorizations\")\n",
        "print(X_train_category_sub1.shape, y_train.shape)\n",
        "print(X_test_category_sub1.shape, y_test.shape)\n",
        "print(vectorizer23.get_feature_names())\n",
        "print(\"=\"*100)"
      ],
      "execution_count": 18,
      "outputs": [
        {
          "output_type": "stream",
          "text": [
            "(15964, 42) (15964,)\n",
            "(3992, 42) (3992,)\n",
            "====================================================================================================\n",
            "After vectorizations\n",
            "(15964, 133) (15964,)\n",
            "(3992, 133) (3992,)\n",
            "['24', '2t', '5t', 'accessories', 'and', 'antique', 'apparel', 'appliances', 'art', 'artwork', 'athletic', 'audio', 'automotive', 'baby', 'bags', 'bath', 'bathing', 'bedding', 'blazers', 'blouses', 'body', 'book', 'books', 'boys', 'cameras', 'car', 'cards', 'care', 'cell', 'children', 'cleaning', 'clothing', 'coats', 'collectibles', 'computers', 'consoles', 'crochet', 'daily', 'decor', 'diapering', 'dining', 'dolls', 'dresses', 'décor', 'electronics', 'ephemera', 'exercise', 'fan', 'feeding', 'footwear', 'fragrance', 'furniture', 'games', 'gear', 'geekery', 'girls', 'glass', 'golf', 'goods', 'gps', 'hair', 'handbags', 'health', 'holidays', 'home', 'hoodies', 'housewares', 'instruments', 'items', 'jackets', 'jeans', 'jewelry', 'kids', 'kitchen', 'magazines', 'makeup', 'maternity', 'media', 'men', 'miniatures', 'mos', 'music', 'musical', 'needlecraft', 'nursery', 'office', 'organization', 'other', 'others', 'outdoors', 'pants', 'paper', 'patterns', 'pet', 'pets', 'phones', 'photography', 'pregnancy', 'purses', 'safety', 'seasonal', 'seats', 'serving', 'shoes', 'shop', 'shorts', 'skin', 'skirts', 'sport', 'sports', 'storage', 'store', 'strollers', 'suits', 'supplies', 'surveillance', 'sweaters', 'sweats', 'swimwear', 'tablets', 'team', 'tools', 'tops', 'toy', 'toys', 'trading', 'travel', 'tv', 'underwear', 'video', 'weddings', 'women', 'zines']\n",
            "====================================================================================================\n"
          ],
          "name": "stdout"
        }
      ]
    },
    {
      "cell_type": "code",
      "metadata": {
        "colab": {
          "base_uri": "https://localhost:8080/"
        },
        "id": "JQ1ZFyNW3A9i",
        "outputId": "271a5f68-26a4-4bd5-e762-005dcf356638"
      },
      "source": [
        "print(X_train.shape, y_train.shape)\n",
        "print(X_test.shape, y_test.shape)\n",
        "print(\"=\"*100)\n",
        "\n",
        "vectorizer23 = CountVectorizer()\n",
        "vectorizer23.fit(X_train['category_sub2'].values) # fit has to happen only on train data\n",
        "\n",
        "# we use the fitted CountVectorizer to convert the text to vector\n",
        "X_train_category_sub2 = vectorizer23.transform(X_train['category_sub2'].values)\n",
        "X_test_category_sub2 = vectorizer23.transform(X_test['category_sub2'].values)\n",
        "\n",
        "print(\"After vectorizations\")\n",
        "print(X_train_category_sub2.shape, y_train.shape)\n",
        "print(X_test_category_sub2.shape, y_test.shape)\n",
        "print(vectorizer23.get_feature_names())\n",
        "print(\"=\"*100)"
      ],
      "execution_count": 19,
      "outputs": [
        {
          "output_type": "stream",
          "text": [
            "(15964, 42) (15964,)\n",
            "(3992, 42) (3992,)\n",
            "====================================================================================================\n",
            "After vectorizations\n",
            "(15964, 637) (15964,)\n",
            "(3992, 637) (3992,)\n",
            "['100', '50', '75', 'above', 'accents', 'accessories', 'action', 'adapters', 'adventure', 'air', 'albums', 'all', 'and', 'animal', 'animals', 'animation', 'apparel', 'appliances', 'applicators', 'apron', 'area', 'art', 'arts', 'aspirators', 'asymmetrical', 'athletic', 'audio', 'baby', 'backpack', 'backpacks', 'bag', 'baggy', 'bags', 'bakeware', 'balls', 'baseball', 'basic', 'basketball', 'baskets', 'bath', 'bathing', 'bathroom', 'batteries', 'beach', 'bead', 'bed', 'bedding', 'bedroom', 'beer', 'belt', 'belts', 'beverage', 'bibles', 'bike', 'binoculars', 'bins', 'biographies', 'biography', 'blankets', 'blazer', 'blouse', 'blouses', 'blu', 'board', 'body', 'book', 'bookmark', 'books', 'booster', 'boot', 'boots', 'bottle', 'bottles', 'bottoms', 'bouncers', 'bowl', 'bowls', 'box', 'boxes', 'boyfriend', 'boys', 'bracelet', 'bracelets', 'bras', 'breastfeeding', 'briefcases', 'brooch', 'brushes', 'building', 'business', 'button', 'cabinet', 'cables', 'cake', 'calendars', 'calf', 'camcorders', 'camera', 'cameras', 'cami', 'camping', 'candle', 'candles', 'capri', 'capris', 'car', 'cardigan', 'cards', 'care', 'cargo', 'carriers', 'cases', 'casual', 'cd', 'cell', 'ceramic', 'change', 'changing', 'chargers', 'charm', 'child', 'children', 'chinos', 'christian', 'christmas', 'classic', 'cleaners', 'cleansers', 'cleats', 'clock', 'clocks', 'clogs', 'closet', 'cloth', 'clothing', 'clubs', 'clutch', 'coaster', 'coats', 'coffee', 'collar', 'collared', 'collectibles', 'color', 'comforters', 'comics', 'components', 'conditioner', 'conditioners', 'connectivity', 'consoles', 'containers', 'control', 'cookbook', 'cookware', 'coolers', 'corduroys', 'corset', 'cosmetic', 'costume', 'cover', 'covers', 'cowl', 'cradles', 'crafting', 'crafts', 'crewneck', 'cropped', 'crossbody', 'cuff', 'cultures', 'cup', 'cut', 'cutlery', 'decor', 'decorations', 'decorative', 'desktops', 'devices', 'diaper', 'diapers', 'digital', 'dining', 'disposable', 'dogs', 'doll', 'dollhouse', 'dolls', 'down', 'drawers', 'drawings', 'dress', 'dresses', 'drives', 'dryers', 'duvet', 'dvd', 'décor', 'earrings', 'easter', 'education', 'electrical', 'electronic', 'electronics', 'entertaining', 'equipment', 'exterior', 'eyes', 'eyewear', 'fabric', 'face', 'family', 'fans', 'fantasy', 'fashion', 'feeding', 'feet', 'fi', 'fiction', 'figure', 'figures', 'figurine', 'film', 'filters', 'fishing', 'fitness', 'flare', 'flat', 'flats', 'fleece', 'floor', 'food', 'football', 'for', 'formal', 'fragrance', 'frames', 'fresheners', 'front', 'full', 'furniture', 'gadgets', 'game', 'games', 'gaming', 'garment', 'gift', 'girls', 'glass', 'glassware', 'gloves', 'golf', 'gps', 'guitars', 'hair', 'halloween', 'halter', 'handbag', 'hands', 'hat', 'hats', 'headphones', 'headsets', 'health', 'heaters', 'hem', 'henley', 'highchairs', 'hiking', 'history', 'hobbies', 'hobo', 'hockey', 'holder', 'holders', 'home', 'hooded', 'hoodie', 'household', 'humidifiers', 'in', 'ink', 'instrument', 'instruments', 'interior', 'jacket', 'jackets', 'jean', 'jeans', 'jerseys', 'jewelry', 'jumpers', 'keyboards', 'keychain', 'khakis', 'kids', 'kitchen', 'kits', 'knee', 'knit', 'knives', 'lamps', 'lanyard', 'laptops', 'laundry', 'learning', 'leash', 'leather', 'leg', 'leggings', 'length', 'lenses', 'lifestyle', 'lighting', 'lights', 'line', 'linens', 'lingerie', 'links', 'lips', 'literature', 'loafers', 'locks', 'loose', 'lover', 'luggage', 'magic', 'makeup', 'mattress', 'maxi', 'media', 'medical', 'memoirs', 'men', 'merchandise', 'messenger', 'mid', 'military', 'mini', 'miniature', 'mirrors', 'mlb', 'mock', 'money', 'monitoring', 'monitors', 'motorcycle', 'mug', 'mules', 'nail', 'nails', 'nasal', 'nba', 'ncaa', 'neck', 'necklace', 'necklaces', 'netbooks', 'networking', 'nfl', 'nhl', 'nursery', 'nutrition', 'older', 'one', 'ones', 'ons', 'or', 'organization', 'organizers', 'other', 'others', 'outdoor', 'overalls', 'oxfords', 'pacifiers', 'pads', 'painting', 'paintings', 'palettes', 'pant', 'panties', 'pants', 'papermaking', 'parka', 'parts', 'party', 'patch', 'patrick', 'peacoat', 'pencil', 'pendant', 'performance', 'personal', 'pet', 'phone', 'phones', 'photo', 'photography', 'piece', 'pieces', 'pilates', 'pillowcases', 'pillows', 'pin', 'pinback', 'planning', 'play', 'playards', 'players', 'pleated', 'plush', 'politics', 'polo', 'poncho', 'porcelain', 'portable', 'postcard', 'poster', 'posters', 'pouch', 'prenatal', 'pretend', 'print', 'printers', 'prints', 'products', 'protection', 'protectors', 'puffer', 'pullover', 'pumps', 'purifiers', 'purse', 'puzzles', 'quilts', 'racks', 'racquets', 'radio', 'raincoat', 'rainwear', 'ray', 'recording', 'reference', 'relaxed', 'relief', 'remote', 'remover', 'ring', 'rings', 'room', 'rugby', 'rugs', 'safety', 'sandals', 'satchel', 'scale', 'scalp', 'scanners', 'scarf', 'scarves', 'scents', 'school', 'sci', 'science', 'sciences', 'scoop', 'scrapbooking', 'screen', 'scrubs', 'sculptures', 'seats', 'sets', 'sewing', 'shampoo', 'shampoos', 'sheets', 'shelves', 'shipping', 'shirt', 'shirts', 'shoes', 'shoppers', 'shorts', 'shoulder', 'shrug', 'skate', 'skateboard', 'skin', 'skinny', 'skins', 'skirt', 'skirts', 'skorts', 'sleeveless', 'slim', 'slip', 'slippers', 'small', 'smartphones', 'sneakers', 'snowboard', 'soaps', 'soccer', 'social', 'socks', 'softball', 'souvenir', 'space', 'speakers', 'sports', 'st', 'stamps', 'standard', 'stationery', 'statues', 'steamers', 'sticker', 'stools', 'storage', 'straight', 'straps', 'stringed', 'strings', 'studio', 'stuffed', 'style', 'styling', 'subwoofers', 'suit', 'suits', 'sun', 'sunglasses', 'supplies', 'supports', 'surf', 'surveillance', 'sweat', 'sweater', 'sweatercoat', 'sweats', 'sweatshirt', 'sweeping', 'swim', 'swimwear', 'swings', 'systems', 'table', 'tank', 'tapestries', 'tea', 'teaching', 'teacup', 'technology', 'teethers', 'teething', 'telescopes', 'televisions', 'tennis', 'tests', 'thanksgiving', 'thermal', 'thongs', 'throws', 'ties', 'tights', 'to', 'toddler', 'toner', 'tools', 'toothbrushes', 'top', 'toppers', 'tops', 'tote', 'totes', 'towels', 'toy', 'toys', 'track', 'tracksuits', 'training', 'travel', 'tray', 'treatments', 'trench', 'tripods', 'trunks', 'tubs', 'tumbler', 'tunic', 'turtleneck', 'tweezers', 'two', 'underwear', 'units', 'up', 'ups', 'utensils', 'vacuums', 'valentine', 'vases', 'vehicles', 'vest', 'vests', 'vhs', 'video', 'vintage', 'vinyl', 'volleyball', 'walkers', 'wall', 'wallet', 'wallets', 'warmers', 'washcloths', 'washers', 'watches', 'water', 'waxing', 'wind', 'windbreaker', 'window', 'wine', 'wipes', 'women', 'woodwind', 'wool', 'work', 'wrap', 'wraps', 'wristlet', 'writing', 'years', 'yoga', 'zines', 'zip']\n",
            "====================================================================================================\n"
          ],
          "name": "stdout"
        }
      ]
    },
    {
      "cell_type": "markdown",
      "metadata": {
        "id": "2NG0xBWw3N9x"
      },
      "source": [
        "#### Item condition id & Shipping"
      ]
    },
    {
      "cell_type": "code",
      "metadata": {
        "id": "iMxuBfma31hY"
      },
      "source": [
        "\n",
        "from scipy.sparse import csr_matrix"
      ],
      "execution_count": 20,
      "outputs": []
    },
    {
      "cell_type": "code",
      "metadata": {
        "id": "ppYGGx7h3G36"
      },
      "source": [
        "X_dummies = csr_matrix(pd.get_dummies(X_train[['item_condition_id', 'shipping']],\n",
        "                                          sparse=True).values)"
      ],
      "execution_count": 21,
      "outputs": []
    },
    {
      "cell_type": "code",
      "metadata": {
        "id": "n2T1HqVz3y5x"
      },
      "source": [
        "X_dummies_test = csr_matrix(pd.get_dummies(X_test[['item_condition_id', 'shipping']],\n",
        "                                          sparse=True).values)"
      ],
      "execution_count": 22,
      "outputs": []
    },
    {
      "cell_type": "code",
      "metadata": {
        "colab": {
          "base_uri": "https://localhost:8080/"
        },
        "id": "M9B0t8P89IRY",
        "outputId": "a23f85a0-758a-4d24-989e-c180a692a156"
      },
      "source": [
        "print(X_dummies.shape, y_train.shape)\n",
        "\n",
        "print(X_dummies_test.shape, y_test.shape)"
      ],
      "execution_count": 23,
      "outputs": [
        {
          "output_type": "stream",
          "text": [
            "(15964, 7) (15964,)\n",
            "(3992, 7) (3992,)\n"
          ],
          "name": "stdout"
        }
      ]
    },
    {
      "cell_type": "markdown",
      "metadata": {
        "id": "ec-vGb0L4Ftp"
      },
      "source": [
        "#### Numerical"
      ]
    },
    {
      "cell_type": "code",
      "metadata": {
        "colab": {
          "base_uri": "https://localhost:8080/"
        },
        "id": "l4zjYn1S4KUC",
        "outputId": "90f38bae-e3de-42ad-900e-8eb6457ed91b"
      },
      "source": [
        "data.dtypes"
      ],
      "execution_count": 24,
      "outputs": [
        {
          "output_type": "execute_result",
          "data": {
            "text/plain": [
              "train_id                             int64\n",
              "name                                object\n",
              "item_condition_id                   object\n",
              "brand_name                          object\n",
              "price                              float64\n",
              "shipping                            object\n",
              "category_main                       object\n",
              "category_sub1                       object\n",
              "category_sub2                       object\n",
              "brand_name_count                     int64\n",
              "('price', 'mean')_x                float64\n",
              "('price_y', 'mean')                float64\n",
              "shipping_count                       int64\n",
              "('price_x', 'mean')_x              float64\n",
              "category_main_count                  int64\n",
              "('price_x_y', 'mean')              float64\n",
              "category_sub1_count                  int64\n",
              "('price_x_x', 'mean')_x            float64\n",
              "category_sub2_count                  int64\n",
              "('price_x_x_y', 'mean')            float64\n",
              "word_count                           int64\n",
              "stopword_count                       int64\n",
              "ner                                  int64\n",
              "pos                                  int64\n",
              "avg_word_len                       float64\n",
              "char_count                           int64\n",
              "num_digit                            int64\n",
              "char_count_without_space             int64\n",
              "cleaned_item_description            object\n",
              "word_count_cleaned                   int64\n",
              "neg                                float64\n",
              "neu                                float64\n",
              "pos.1                              float64\n",
              "compound                           float64\n",
              "word_count_cleaned_count             int64\n",
              "('price_x_x_x', 'mean')_x          float64\n",
              "char_count_cleaned                   int64\n",
              "char_count_cleaned_count             int64\n",
              "('price_x_x_x_y', 'mean')          float64\n",
              "char_count_without_spaces            int64\n",
              "char_count_without_spaces_count      int64\n",
              "('price_x_x_x_x', 'mean')          float64\n",
              "dtype: object"
            ]
          },
          "metadata": {
            "tags": []
          },
          "execution_count": 24
        }
      ]
    },
    {
      "cell_type": "code",
      "metadata": {
        "colab": {
          "base_uri": "https://localhost:8080/"
        },
        "id": "-SaNy8CW38lR",
        "outputId": "8a4093d3-4b62-4ed2-9abf-17dfaff5df0d"
      },
      "source": [
        "from sklearn.preprocessing import Normalizer\n",
        "normalizer = Normalizer()\n",
        "\n",
        "normalizer.fit(X_train['brand_name_count'].values.reshape(-1,1))\n",
        "\n",
        "#X_train_price_norm = normalizer.transform(X_train['price'].values.reshape(-1,1))\n",
        "X_train_brand_name_count_norm = normalizer.transform(X_train['brand_name_count'].values.reshape(-1,1))\n",
        "\n",
        "X_test_brand_name_count_norm = normalizer.transform(X_test['brand_name_count'].values.reshape(-1,1))\n",
        "\n",
        "print(\"After normalizations\")\n",
        "print(X_train_brand_name_count_norm.shape, y_train.shape)\n",
        "\n",
        "print(X_test_brand_name_count_norm.shape, y_test.shape)"
      ],
      "execution_count": 25,
      "outputs": [
        {
          "output_type": "stream",
          "text": [
            "After normalizations\n",
            "(15964, 1) (15964,)\n",
            "(3992, 1) (3992,)\n"
          ],
          "name": "stdout"
        }
      ]
    },
    {
      "cell_type": "code",
      "metadata": {
        "id": "qYh2UNuK6ddn"
      },
      "source": [
        "X_train_norm = X_train.drop(['train_id','name','item_condition_id','brand_name','shipping','category_main','category_sub1','category_sub2','cleaned_item_description'], axis=1)\n",
        "X_test_norm = X_test.drop(['train_id','name','item_condition_id','brand_name','shipping','category_main','category_sub1','category_sub2','cleaned_item_description'], axis=1)"
      ],
      "execution_count": 26,
      "outputs": []
    },
    {
      "cell_type": "code",
      "metadata": {
        "id": "tEc9c0g356vP"
      },
      "source": [
        "# applying for loop to bring all the variables in range 0 to 1\n",
        "\n",
        "for i in X_train_norm.columns[0:]:\n",
        "    X_train_norm[i] = (X_train_norm[i] - X_train_norm[i].min()) / (X_train_norm[i].max() - X_train_norm[i].min())"
      ],
      "execution_count": 27,
      "outputs": []
    },
    {
      "cell_type": "code",
      "metadata": {
        "id": "tzmVGqR36RXZ"
      },
      "source": [
        "# applying for loop to bring all the variables in range 0 to 1\n",
        "\n",
        "for i in X_test_norm.columns[0:]:\n",
        "    X_test_norm[i] = (X_test_norm[i] - X_test_norm[i].min()) / (X_test_norm[i].max() - X_test_norm[i].min())"
      ],
      "execution_count": 28,
      "outputs": []
    },
    {
      "cell_type": "code",
      "metadata": {
        "id": "MsukFbEp76xM"
      },
      "source": [
        "X_train_n = X_train_norm.to_numpy()\n",
        "X_test_n = X_test_norm.to_numpy()"
      ],
      "execution_count": 29,
      "outputs": []
    },
    {
      "cell_type": "code",
      "metadata": {
        "colab": {
          "base_uri": "https://localhost:8080/"
        },
        "id": "SMUJW5oU89Pb",
        "outputId": "94169242-ebec-4302-d492-079686b6e189"
      },
      "source": [
        "print(X_train_n.shape, y_train.shape)\n",
        "\n",
        "print(X_test_n.shape, y_test.shape)"
      ],
      "execution_count": 30,
      "outputs": [
        {
          "output_type": "stream",
          "text": [
            "(15964, 33) (15964,)\n",
            "(3992, 33) (3992,)\n"
          ],
          "name": "stdout"
        }
      ]
    },
    {
      "cell_type": "code",
      "metadata": {
        "id": "7ZDYnT5l7k18"
      },
      "source": [
        "# merge two sparse matrices: https://stackoverflow.com/a/19710648/4084039\n",
        "from scipy.sparse import hstack"
      ],
      "execution_count": 31,
      "outputs": []
    },
    {
      "cell_type": "code",
      "metadata": {
        "colab": {
          "base_uri": "https://localhost:8080/"
        },
        "id": "ZuWSqxVJ7rTb",
        "outputId": "0a536c8f-88f3-45e3-8c99-7a4f66e4902e"
      },
      "source": [
        "X_train = hstack((X_train_category_sub2, X_train_category_sub1, X_train_category_main, X_train_brand_name, X_dummies,X_train_n, X_train_name_ohe_1, X_train_cleaned_item_description_bow)).tocsr()\n",
        "\n",
        "X_test = hstack((X_test_category_sub2, X_test_category_sub1, X_test_category_main, X_test_brand_name, X_dummies_test, X_test_n, X_test_name_ohe_1, X_test_cleaned_item_description_bow)).tocsr()\n",
        "\n",
        "print(\"Final Data matrix\")\n",
        "print(X_train.shape, y_train.shape)\n",
        "\n",
        "print(X_test.shape, y_test.shape)\n",
        "print(\"=\"*100)"
      ],
      "execution_count": 32,
      "outputs": [
        {
          "output_type": "stream",
          "text": [
            "Final Data matrix\n",
            "(15964, 16735) (15964,)\n",
            "(3992, 16735) (3992,)\n",
            "====================================================================================================\n"
          ],
          "name": "stdout"
        }
      ]
    },
    {
      "cell_type": "markdown",
      "metadata": {
        "id": "_xLRHzBM9aMw"
      },
      "source": [
        "#### Ridge regression L2"
      ]
    },
    {
      "cell_type": "code",
      "metadata": {
        "id": "YXD75xcy86FR"
      },
      "source": [
        "from sklearn.linear_model import Ridge, LogisticRegression\n",
        "from sklearn.metrics import mean_squared_error\n",
        "from sklearn.metrics import mean_absolute_error\n",
        "from sklearn.linear_model import LinearRegression\n",
        "from sklearn.linear_model import Ridge\n",
        "#from sklearn import linear_model\n",
        "from sklearn.model_selection import GridSearchCV"
      ],
      "execution_count": 33,
      "outputs": []
    },
    {
      "cell_type": "code",
      "metadata": {
        "colab": {
          "base_uri": "https://localhost:8080/"
        },
        "id": "kNlwF4dm9cI4",
        "outputId": "c4d2545e-a927-4e9f-94e6-cbb516a5afc1"
      },
      "source": [
        "from sklearn.linear_model import LinearRegression\n",
        "from sklearn.linear_model import Ridge\n",
        "#from sklearn import linear_model\n",
        "from sklearn.model_selection import GridSearchCV\n",
        "parameters = {\"alpha\":[0.00000001,0.00001,0.0001,0.001,0.01,0.1,0,1,10,100,1000,10000,100000]}\n",
        "ridgeReg = Ridge(solver = \"lsqr\", fit_intercept=False)\n",
        "lr_reg = GridSearchCV(ridgeReg,param_grid =parameters,n_jobs=-1)\n",
        "lr_reg.fit(X_train, y_train)"
      ],
      "execution_count": 34,
      "outputs": [
        {
          "output_type": "execute_result",
          "data": {
            "text/plain": [
              "GridSearchCV(cv=None, error_score=nan,\n",
              "             estimator=Ridge(alpha=1.0, copy_X=True, fit_intercept=False,\n",
              "                             max_iter=None, normalize=False, random_state=None,\n",
              "                             solver='lsqr', tol=0.001),\n",
              "             iid='deprecated', n_jobs=-1,\n",
              "             param_grid={'alpha': [1e-08, 1e-05, 0.0001, 0.001, 0.01, 0.1, 0, 1,\n",
              "                                   10, 100, 1000, 10000, 100000]},\n",
              "             pre_dispatch='2*n_jobs', refit=True, return_train_score=False,\n",
              "             scoring=None, verbose=0)"
            ]
          },
          "metadata": {
            "tags": []
          },
          "execution_count": 34
        }
      ]
    },
    {
      "cell_type": "code",
      "metadata": {
        "colab": {
          "base_uri": "https://localhost:8080/"
        },
        "id": "kX8n20qU9f5A",
        "outputId": "58756e10-fbaa-4515-a4ad-372b60929c3d"
      },
      "source": [
        "lr_reg.best_params_"
      ],
      "execution_count": null,
      "outputs": [
        {
          "output_type": "execute_result",
          "data": {
            "text/plain": [
              "{'alpha': 10}"
            ]
          },
          "metadata": {
            "tags": []
          },
          "execution_count": 45
        }
      ]
    },
    {
      "cell_type": "code",
      "metadata": {
        "colab": {
          "base_uri": "https://localhost:8080/"
        },
        "id": "-tjzGk-Z9lMQ",
        "outputId": "a9d1afc8-271b-4e7c-8d9c-cc9cb9b89549"
      },
      "source": [
        "ridgeReg = Ridge(alpha=10,solver = \"lsqr\", fit_intercept=False )\n",
        "ridgeReg.fit(X_train, y_train)"
      ],
      "execution_count": null,
      "outputs": [
        {
          "output_type": "execute_result",
          "data": {
            "text/plain": [
              "Ridge(alpha=10, copy_X=True, fit_intercept=False, max_iter=None,\n",
              "      normalize=False, random_state=None, solver='lsqr', tol=0.001)"
            ]
          },
          "metadata": {
            "tags": []
          },
          "execution_count": 46
        }
      ]
    },
    {
      "cell_type": "code",
      "metadata": {
        "colab": {
          "base_uri": "https://localhost:8080/"
        },
        "id": "Smcc8otK9oPg",
        "outputId": "80cd7a1f-55da-4e43-a217-7f50c30ac640"
      },
      "source": [
        "r_pred_train= ridgeReg.predict(X_train)\n",
        "train_ridge_RMSLE = np.sqrt(mean_squared_error(y_train, r_pred_train))\n",
        "print(' Fold %02d Ridge RMSLE: ', train_ridge_RMSLE)"
      ],
      "execution_count": null,
      "outputs": [
        {
          "output_type": "stream",
          "text": [
            " Fold %02d Ridge RMSLE:  0.26843747895524733\n"
          ],
          "name": "stdout"
        }
      ]
    },
    {
      "cell_type": "code",
      "metadata": {
        "colab": {
          "base_uri": "https://localhost:8080/"
        },
        "id": "CkeeR7xu9v3A",
        "outputId": "a92c7cd5-51f6-4b7d-8e4e-4f0cc7cac605"
      },
      "source": [
        "r_y_pred = ridgeReg.predict(X_test)\n",
        "val_ridge_RMSLE = np.sqrt(mean_squared_error(y_test, r_y_pred))\n",
        "print(' Fold %02d Ridge RMSLE: ', val_ridge_RMSLE)"
      ],
      "execution_count": null,
      "outputs": [
        {
          "output_type": "stream",
          "text": [
            " Fold %02d Ridge RMSLE:  0.37027226203852703\n"
          ],
          "name": "stdout"
        }
      ]
    },
    {
      "cell_type": "markdown",
      "metadata": {
        "id": "-3-o7uoT9-rQ"
      },
      "source": [
        "#### Lasso regression L1"
      ]
    },
    {
      "cell_type": "code",
      "metadata": {
        "colab": {
          "base_uri": "https://localhost:8080/"
        },
        "id": "_xZJxRse98d4",
        "outputId": "850f42d6-62e7-451b-ed6e-9201bba69a34"
      },
      "source": [
        "from sklearn.linear_model import Lasso\n",
        "\n",
        "parameters = {\"alpha\":[0.00000001,0.00001,0.0001,0.001,0.01,0.1,0,1,10,100,1000,10000,100000]}\n",
        "lassoReg = Lasso(fit_intercept=True)\n",
        "lasso_reg = GridSearchCV(lassoReg,param_grid =parameters,n_jobs=-1)\n",
        "lasso_reg.fit(X_train, y_train)"
      ],
      "execution_count": null,
      "outputs": [
        {
          "output_type": "execute_result",
          "data": {
            "text/plain": [
              "GridSearchCV(cv=None, error_score=nan,\n",
              "             estimator=Lasso(alpha=1.0, copy_X=True, fit_intercept=True,\n",
              "                             max_iter=1000, normalize=False, positive=False,\n",
              "                             precompute=False, random_state=None,\n",
              "                             selection='cyclic', tol=0.0001, warm_start=False),\n",
              "             iid='deprecated', n_jobs=-1,\n",
              "             param_grid={'alpha': [1e-08, 1e-05, 0.0001, 0.001, 0.01, 0.1, 0, 1,\n",
              "                                   10, 100, 1000, 10000, 100000]},\n",
              "             pre_dispatch='2*n_jobs', refit=True, return_train_score=False,\n",
              "             scoring=None, verbose=0)"
            ]
          },
          "metadata": {
            "tags": []
          },
          "execution_count": 39
        }
      ]
    },
    {
      "cell_type": "code",
      "metadata": {
        "colab": {
          "base_uri": "https://localhost:8080/"
        },
        "id": "WjyU-Een-anA",
        "outputId": "c5dc40e7-17a4-4e18-9324-f9890edcf156"
      },
      "source": [
        "lasso_reg.best_params_"
      ],
      "execution_count": null,
      "outputs": [
        {
          "output_type": "execute_result",
          "data": {
            "text/plain": [
              "{'alpha': 0.0001}"
            ]
          },
          "metadata": {
            "tags": []
          },
          "execution_count": 40
        }
      ]
    },
    {
      "cell_type": "code",
      "metadata": {
        "colab": {
          "base_uri": "https://localhost:8080/"
        },
        "id": "bB9hB5yF-d_A",
        "outputId": "cfdfcc4d-ddf9-4415-b747-262f60103cbd"
      },
      "source": [
        "lassoReg = Lasso(alpha=0.0001, fit_intercept=True)\n",
        "lassoReg.fit(X_train, y_train)"
      ],
      "execution_count": null,
      "outputs": [
        {
          "output_type": "execute_result",
          "data": {
            "text/plain": [
              "Lasso(alpha=0.0001, copy_X=True, fit_intercept=True, max_iter=1000,\n",
              "      normalize=False, positive=False, precompute=False, random_state=None,\n",
              "      selection='cyclic', tol=0.0001, warm_start=False)"
            ]
          },
          "metadata": {
            "tags": []
          },
          "execution_count": 41
        }
      ]
    },
    {
      "cell_type": "code",
      "metadata": {
        "colab": {
          "base_uri": "https://localhost:8080/"
        },
        "id": "px6gPDHi_OY3",
        "outputId": "dbeccc06-b483-4a68-d05f-f2dd92028dcb"
      },
      "source": [
        "l_pred_train= lassoReg.predict(X_train)\n",
        "train_lasso_RMSLE = np.sqrt(mean_squared_error(y_train, l_pred_train))\n",
        "print(' Fold %02d Ridge RMSLE: ', train_lasso_RMSLE)"
      ],
      "execution_count": null,
      "outputs": [
        {
          "output_type": "stream",
          "text": [
            " Fold %02d Ridge RMSLE:  0.2993453601431051\n"
          ],
          "name": "stdout"
        }
      ]
    },
    {
      "cell_type": "code",
      "metadata": {
        "colab": {
          "base_uri": "https://localhost:8080/"
        },
        "id": "W_ufhKOUAL6m",
        "outputId": "a72847eb-b1e4-4a2a-c920-38447cdc0a6e"
      },
      "source": [
        "l_y_pred = lassoReg.predict(X_test)\n",
        "val_lasso_RMSLE = np.sqrt(mean_squared_error(y_test, l_y_pred))\n",
        "print(' Fold %02d Ridge RMSLE: ', val_lasso_RMSLE)"
      ],
      "execution_count": null,
      "outputs": [
        {
          "output_type": "stream",
          "text": [
            " Fold %02d Ridge RMSLE:  0.3495390592929135\n"
          ],
          "name": "stdout"
        }
      ]
    },
    {
      "cell_type": "markdown",
      "metadata": {
        "id": "yG3IjctAMfF8"
      },
      "source": [
        "#### Elastic Net"
      ]
    },
    {
      "cell_type": "code",
      "metadata": {
        "id": "VfYTsKJqMhim"
      },
      "source": [
        "from sklearn.linear_model import ElasticNet\n",
        "from sklearn.datasets import make_regression"
      ],
      "execution_count": null,
      "outputs": []
    },
    {
      "cell_type": "code",
      "metadata": {
        "colab": {
          "base_uri": "https://localhost:8080/"
        },
        "id": "ZPX5RaTUMhgb",
        "outputId": "692fd6a7-5e52-44f4-8e97-2f17c7b65fcc"
      },
      "source": [
        "parameters = {\"alpha\":[0.01]}\n",
        "elasticnetReg = ElasticNet(fit_intercept=True)\n",
        "elastic_reg = GridSearchCV(elasticnetReg,param_grid =parameters,n_jobs=-1)\n",
        "elastic_reg.fit(X_train, y_train)"
      ],
      "execution_count": null,
      "outputs": [
        {
          "output_type": "execute_result",
          "data": {
            "text/plain": [
              "GridSearchCV(cv=None, error_score=nan,\n",
              "             estimator=ElasticNet(alpha=1.0, copy_X=True, fit_intercept=True,\n",
              "                                  l1_ratio=0.5, max_iter=1000, normalize=False,\n",
              "                                  positive=False, precompute=False,\n",
              "                                  random_state=None, selection='cyclic',\n",
              "                                  tol=0.0001, warm_start=False),\n",
              "             iid='deprecated', n_jobs=-1, param_grid={'alpha': [0.01]},\n",
              "             pre_dispatch='2*n_jobs', refit=True, return_train_score=False,\n",
              "             scoring=None, verbose=0)"
            ]
          },
          "metadata": {
            "tags": []
          },
          "execution_count": 39
        }
      ]
    },
    {
      "cell_type": "code",
      "metadata": {
        "colab": {
          "base_uri": "https://localhost:8080/"
        },
        "id": "7Wcxx31FMheZ",
        "outputId": "fe97b43c-5d43-4880-f131-6671b0977013"
      },
      "source": [
        "elastic_reg.best_params_"
      ],
      "execution_count": null,
      "outputs": [
        {
          "output_type": "execute_result",
          "data": {
            "text/plain": [
              "{'alpha': 0.01}"
            ]
          },
          "metadata": {
            "tags": []
          },
          "execution_count": 40
        }
      ]
    },
    {
      "cell_type": "code",
      "metadata": {
        "colab": {
          "base_uri": "https://localhost:8080/"
        },
        "id": "OqPQH5jkMhb_",
        "outputId": "96098e6c-f89b-4a1d-f939-2a8a2de667c7"
      },
      "source": [
        "elasticnetReg = Lasso(alpha=0.01, fit_intercept=True)\n",
        "elasticnetReg.fit(X_train, y_train)"
      ],
      "execution_count": null,
      "outputs": [
        {
          "output_type": "execute_result",
          "data": {
            "text/plain": [
              "Lasso(alpha=0.01, copy_X=True, fit_intercept=True, max_iter=1000,\n",
              "      normalize=False, positive=False, precompute=False, random_state=None,\n",
              "      selection='cyclic', tol=0.0001, warm_start=False)"
            ]
          },
          "metadata": {
            "tags": []
          },
          "execution_count": 41
        }
      ]
    },
    {
      "cell_type": "code",
      "metadata": {
        "colab": {
          "base_uri": "https://localhost:8080/"
        },
        "id": "YnrvlyDZMhZq",
        "outputId": "cda787aa-878f-42ee-ec7b-6e19f71ee8b0"
      },
      "source": [
        "e_pred_train= elasticnetReg.predict(X_train)\n",
        "train_ela_RMSLE = np.sqrt(mean_squared_error(y_train, e_pred_train))\n",
        "print(' Fold %02d Elastic RMSLE: ', train_ela_RMSLE)"
      ],
      "execution_count": null,
      "outputs": [
        {
          "output_type": "stream",
          "text": [
            " Fold %02d Elastic RMSLE:  0.4242693867022215\n"
          ],
          "name": "stdout"
        }
      ]
    },
    {
      "cell_type": "code",
      "metadata": {
        "colab": {
          "base_uri": "https://localhost:8080/"
        },
        "id": "_V3eggAph035",
        "outputId": "dbf166b1-af6f-48fd-efbb-304b7541a7d9"
      },
      "source": [
        "e_y_pred = elasticnetReg.predict(X_test)\n",
        "val_ela_RMSLE = np.sqrt(mean_squared_error(y_test, e_y_pred))\n",
        "print(' Fold %02d Elastic RMSLE: ', val_ela_RMSLE)"
      ],
      "execution_count": null,
      "outputs": [
        {
          "output_type": "stream",
          "text": [
            " Fold %02d Elastic RMSLE:  0.4071392426214873\n"
          ],
          "name": "stdout"
        }
      ]
    },
    {
      "cell_type": "markdown",
      "metadata": {
        "id": "Myh2x89AMU9X"
      },
      "source": [
        "#### Light GBM"
      ]
    },
    {
      "cell_type": "code",
      "metadata": {
        "colab": {
          "base_uri": "https://localhost:8080/"
        },
        "id": "DJ5xuLiv_U4-",
        "outputId": "054f74b0-814c-497d-b889-fbaccea4d4fb"
      },
      "source": [
        "!pip install lightgbm"
      ],
      "execution_count": 35,
      "outputs": [
        {
          "output_type": "stream",
          "text": [
            "Requirement already satisfied: lightgbm in /usr/local/lib/python3.7/dist-packages (2.2.3)\n",
            "Requirement already satisfied: numpy in /usr/local/lib/python3.7/dist-packages (from lightgbm) (1.19.5)\n",
            "Requirement already satisfied: scikit-learn in /usr/local/lib/python3.7/dist-packages (from lightgbm) (0.22.2.post1)\n",
            "Requirement already satisfied: scipy in /usr/local/lib/python3.7/dist-packages (from lightgbm) (1.4.1)\n",
            "Requirement already satisfied: joblib>=0.11 in /usr/local/lib/python3.7/dist-packages (from scikit-learn->lightgbm) (1.0.1)\n"
          ],
          "name": "stdout"
        }
      ]
    },
    {
      "cell_type": "code",
      "metadata": {
        "colab": {
          "base_uri": "https://localhost:8080/"
        },
        "id": "KK2hQrIu_cyW",
        "outputId": "855ce692-feca-4b91-d47a-6884415915a4"
      },
      "source": [
        "from lightgbm import LGBMRegressor\n",
        "gridParams = {\n",
        "    'learning_rate': [ 0.1,0.2,0.3,0.4,0.5],\n",
        "    'n_estimators': [100,150, 200,250,300,400,500],\n",
        "    'num_leaves': [20,30,63,80,100,120],\n",
        "    'boosting_type' : ['gbdt'],\n",
        "    'max_depth' : [2,3,4,5,6,7,8]\n",
        "}\n",
        "lgbm_params ={'subsample': 0.9, 'colsample_bytree': 0.8, 'min_child_samples': 50, 'objective': 'regression'\n",
        "        }\n",
        "lgbm_model = LGBMRegressor(**lgbm_params)\n",
        "# Create the grid\n",
        "grid = GridSearchCV(lgbm_model, gridParams, verbose=1, cv=3, n_jobs=-1)\n",
        "# Run the grid\n",
        "grid.fit(X_train, y_train,verbose=True)\n",
        "\n",
        "print('Best parameters found by grid search are:', grid.best_params_)\n",
        "print('Best score found by grid search is:', grid.best_score_)"
      ],
      "execution_count": 36,
      "outputs": [
        {
          "output_type": "stream",
          "text": [
            "Fitting 3 folds for each of 1470 candidates, totalling 4410 fits\n"
          ],
          "name": "stdout"
        },
        {
          "output_type": "stream",
          "text": [
            "[Parallel(n_jobs=-1)]: Using backend LokyBackend with 2 concurrent workers.\n",
            "[Parallel(n_jobs=-1)]: Done  46 tasks      | elapsed:   19.5s\n",
            "[Parallel(n_jobs=-1)]: Done 196 tasks      | elapsed:  2.2min\n",
            "[Parallel(n_jobs=-1)]: Done 446 tasks      | elapsed:  7.2min\n",
            "[Parallel(n_jobs=-1)]: Done 796 tasks      | elapsed: 18.0min\n",
            "[Parallel(n_jobs=-1)]: Done 1246 tasks      | elapsed: 27.0min\n",
            "[Parallel(n_jobs=-1)]: Done 1796 tasks      | elapsed: 41.1min\n",
            "[Parallel(n_jobs=-1)]: Done 2446 tasks      | elapsed: 52.7min\n",
            "[Parallel(n_jobs=-1)]: Done 3196 tasks      | elapsed: 67.0min\n",
            "[Parallel(n_jobs=-1)]: Done 4046 tasks      | elapsed: 83.4min\n",
            "[Parallel(n_jobs=-1)]: Done 4410 out of 4410 | elapsed: 92.5min finished\n"
          ],
          "name": "stderr"
        },
        {
          "output_type": "stream",
          "text": [
            "Best parameters found by grid search are: {'boosting_type': 'gbdt', 'learning_rate': 0.5, 'max_depth': 2, 'n_estimators': 500, 'num_leaves': 20}\n",
            "Best score found by grid search is: 0.9995318641705673\n"
          ],
          "name": "stdout"
        }
      ]
    },
    {
      "cell_type": "code",
      "metadata": {
        "id": "9a6W_trT_cwC",
        "colab": {
          "base_uri": "https://localhost:8080/"
        },
        "outputId": "d36e6b5c-ccd5-472a-9192-0eeecfd1e6f4"
      },
      "source": [
        "print('Best parameters found by grid search are:', grid.best_params_)\n",
        "print('Best score found by grid search is:', grid.best_score_)"
      ],
      "execution_count": 37,
      "outputs": [
        {
          "output_type": "stream",
          "text": [
            "Best parameters found by grid search are: {'boosting_type': 'gbdt', 'learning_rate': 0.5, 'max_depth': 2, 'n_estimators': 500, 'num_leaves': 20}\n",
            "Best score found by grid search is: 0.9995318641705673\n"
          ],
          "name": "stdout"
        }
      ]
    },
    {
      "cell_type": "code",
      "metadata": {
        "id": "dLkeJZIL_ct0",
        "colab": {
          "base_uri": "https://localhost:8080/"
        },
        "outputId": "d8819638-f7d6-472f-a236-da1f14fb2912"
      },
      "source": [
        "lgbm_params ={'subsample': 0.9, 'colsample_bytree': 0.8, 'min_child_samples': 50, 'objective': 'regression','boosting_type': 'gbdt','learning_rate': 0.5,'max_depth': 2,'n_estimators': 500,'num_leaves': 20,\n",
        "      }\n",
        "lgbm_model = LGBMRegressor(**lgbm_params)\n",
        "lgbm_model.fit(X_train, y_train, verbose=True)"
      ],
      "execution_count": 38,
      "outputs": [
        {
          "output_type": "execute_result",
          "data": {
            "text/plain": [
              "LGBMRegressor(boosting_type='gbdt', class_weight=None, colsample_bytree=0.8,\n",
              "              importance_type='split', learning_rate=0.5, max_depth=2,\n",
              "              min_child_samples=50, min_child_weight=0.001, min_split_gain=0.0,\n",
              "              n_estimators=500, n_jobs=-1, num_leaves=20,\n",
              "              objective='regression', random_state=None, reg_alpha=0.0,\n",
              "              reg_lambda=0.0, silent=True, subsample=0.9,\n",
              "              subsample_for_bin=200000, subsample_freq=0)"
            ]
          },
          "metadata": {
            "tags": []
          },
          "execution_count": 38
        }
      ]
    },
    {
      "cell_type": "code",
      "metadata": {
        "id": "0KY0dZwY_crg",
        "colab": {
          "base_uri": "https://localhost:8080/"
        },
        "outputId": "5ceae723-b45a-4217-efb7-d0ff0b672c8d"
      },
      "source": [
        "gbm_pred_train= lgbm_model.predict(X_train)\n",
        "train_lgbm_RMSLE = np.sqrt(mean_squared_error(y_train, gbm_pred_train))\n",
        "print(' Fold %02d Ridge RMSLE: ', train_lgbm_RMSLE)"
      ],
      "execution_count": 39,
      "outputs": [
        {
          "output_type": "stream",
          "text": [
            " Fold %02d Ridge RMSLE:  0.007490772602593655\n"
          ],
          "name": "stdout"
        }
      ]
    },
    {
      "cell_type": "code",
      "metadata": {
        "id": "v88yu3MMAgxI",
        "colab": {
          "base_uri": "https://localhost:8080/"
        },
        "outputId": "f55e8ef3-10a8-4cb8-e0df-2c8d7dff085e"
      },
      "source": [
        "gbm_y_pred= lgbm_model.predict(X_test)\n",
        "test_lgbm_RMSLE = np.sqrt(mean_squared_error(y_test, gbm_y_pred))\n",
        "print(' Fold %02d Ridge RMSLE: ', test_lgbm_RMSLE)"
      ],
      "execution_count": 40,
      "outputs": [
        {
          "output_type": "stream",
          "text": [
            " Fold %02d Ridge RMSLE:  0.01474696505738958\n"
          ],
          "name": "stdout"
        }
      ]
    },
    {
      "cell_type": "code",
      "metadata": {
        "id": "aFIMyJ1P_cnG",
        "colab": {
          "base_uri": "https://localhost:8080/"
        },
        "outputId": "62927b2f-45c0-4d18-dd2a-249143b67d95"
      },
      "source": [
        "lgbm_model.feature_importances_"
      ],
      "execution_count": 41,
      "outputs": [
        {
          "output_type": "execute_result",
          "data": {
            "text/plain": [
              "array([0, 0, 0, ..., 0, 0, 0])"
            ]
          },
          "metadata": {
            "tags": []
          },
          "execution_count": 41
        }
      ]
    },
    {
      "cell_type": "code",
      "metadata": {
        "id": "zvTZ2kJS_cgI"
      },
      "source": [
        ""
      ],
      "execution_count": null,
      "outputs": []
    }
  ]
}