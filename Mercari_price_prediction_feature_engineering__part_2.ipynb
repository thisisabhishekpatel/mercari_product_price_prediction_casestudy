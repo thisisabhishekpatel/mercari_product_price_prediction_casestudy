{
  "nbformat": 4,
  "nbformat_minor": 0,
  "metadata": {
    "colab": {
      "name": "Mercari_price_prediction_feature_engineering _part_2.ipynb",
      "provenance": [],
      "collapsed_sections": [
        "n4sEtLJ12mOw",
        "NvAPypWK3QQ4",
        "LGb8Vuab3a6g",
        "aI3YGhLu3rI4",
        "eeZuQ_kU38NY",
        "wmqEfTqD4pTX",
        "4pjp4tf-4z_R",
        "j9mW2ISU5Fx3",
        "p03WM8s85RV_",
        "WOSKjHZ45h6p",
        "Un_-QKUMDFMw"
      ]
    },
    "kernelspec": {
      "name": "python3",
      "display_name": "Python 3"
    },
    "language_info": {
      "name": "python"
    }
  },
  "cells": [
    {
      "cell_type": "code",
      "metadata": {
        "colab": {
          "base_uri": "https://localhost:8080/"
        },
        "id": "5XRJ8Nxt0tiY",
        "outputId": "88681ee1-3664-4e97-9c05-582435a84e31"
      },
      "source": [
        "from google.colab import drive\n",
        "drive.mount('/content/drive')"
      ],
      "execution_count": null,
      "outputs": [
        {
          "output_type": "stream",
          "text": [
            "Drive already mounted at /content/drive; to attempt to forcibly remount, call drive.mount(\"/content/drive\", force_remount=True).\n"
          ],
          "name": "stdout"
        }
      ]
    },
    {
      "cell_type": "code",
      "metadata": {
        "id": "_cT_7L8r0zg8"
      },
      "source": [
        "%matplotlib inline\n",
        "import numpy as np \n",
        "import pandas as pd\n",
        "import datetime as dt\n",
        "import matplotlib.pyplot as plt\n",
        "\n",
        "from sklearn.model_selection import train_test_split\n",
        "\n",
        "import warnings\n",
        "warnings.filterwarnings('ignore')\n",
        "\n",
        "from sklearn.linear_model import LinearRegression \n",
        "from sklearn.tree import DecisionTreeRegressor\n",
        "from sklearn.linear_model import Ridge, Lasso\n",
        "from sklearn.model_selection import KFold\n",
        "from sklearn.neighbors import KNeighborsRegressor\n",
        "from sklearn.linear_model import LinearRegression, Ridge\n",
        "from sklearn.tree import DecisionTreeRegressor\n",
        "from sklearn.model_selection import KFold\n",
        "from sklearn.ensemble import RandomForestRegressor\n",
        "from sklearn.metrics import mean_squared_error\n",
        "import xgboost as xgb\n",
        "import seaborn as sns\n",
        "import pandas as pd\n",
        "import numpy as np\n",
        "import random\n",
        "\n",
        "sns.set_context('notebook',font_scale=1.5)\n"
      ],
      "execution_count": null,
      "outputs": []
    },
    {
      "cell_type": "code",
      "metadata": {
        "id": "wCYUeHxu06pC"
      },
      "source": [
        "data = pd.read_csv('/content/drive/MyDrive/Mercari/p_train.csv')"
      ],
      "execution_count": null,
      "outputs": []
    },
    {
      "cell_type": "code",
      "metadata": {
        "colab": {
          "base_uri": "https://localhost:8080/",
          "height": 289
        },
        "id": "7BNqdxep09CC",
        "outputId": "0b4d48a7-689c-4ede-b18e-1e59ae321aae"
      },
      "source": [
        "data.head()"
      ],
      "execution_count": null,
      "outputs": [
        {
          "output_type": "execute_result",
          "data": {
            "text/html": [
              "<div>\n",
              "<style scoped>\n",
              "    .dataframe tbody tr th:only-of-type {\n",
              "        vertical-align: middle;\n",
              "    }\n",
              "\n",
              "    .dataframe tbody tr th {\n",
              "        vertical-align: top;\n",
              "    }\n",
              "\n",
              "    .dataframe thead th {\n",
              "        text-align: right;\n",
              "    }\n",
              "</style>\n",
              "<table border=\"1\" class=\"dataframe\">\n",
              "  <thead>\n",
              "    <tr style=\"text-align: right;\">\n",
              "      <th></th>\n",
              "      <th>Unnamed: 0</th>\n",
              "      <th>train_id</th>\n",
              "      <th>name</th>\n",
              "      <th>item_condition_id</th>\n",
              "      <th>category_name</th>\n",
              "      <th>brand_name</th>\n",
              "      <th>price</th>\n",
              "      <th>shipping</th>\n",
              "      <th>item_description</th>\n",
              "      <th>category_main</th>\n",
              "      <th>category_sub1</th>\n",
              "      <th>category_sub2</th>\n",
              "    </tr>\n",
              "  </thead>\n",
              "  <tbody>\n",
              "    <tr>\n",
              "      <th>0</th>\n",
              "      <td>0</td>\n",
              "      <td>0</td>\n",
              "      <td>MLB Cincinnati Reds T Shirt Size XL</td>\n",
              "      <td>3</td>\n",
              "      <td>Men/Tops/T-shirts</td>\n",
              "      <td>uknown</td>\n",
              "      <td>10.0</td>\n",
              "      <td>1</td>\n",
              "      <td>No description yet</td>\n",
              "      <td>Men</td>\n",
              "      <td>Tops</td>\n",
              "      <td>T-shirts</td>\n",
              "    </tr>\n",
              "    <tr>\n",
              "      <th>1</th>\n",
              "      <td>1</td>\n",
              "      <td>1</td>\n",
              "      <td>Razer BlackWidow Chroma Keyboard</td>\n",
              "      <td>3</td>\n",
              "      <td>Electronics/Computers &amp; Tablets/Components &amp; P...</td>\n",
              "      <td>Razer</td>\n",
              "      <td>52.0</td>\n",
              "      <td>0</td>\n",
              "      <td>This keyboard is in great condition and works ...</td>\n",
              "      <td>Electronics</td>\n",
              "      <td>Computers &amp; Tablets</td>\n",
              "      <td>Components &amp; Parts</td>\n",
              "    </tr>\n",
              "    <tr>\n",
              "      <th>2</th>\n",
              "      <td>2</td>\n",
              "      <td>2</td>\n",
              "      <td>AVA-VIV Blouse</td>\n",
              "      <td>1</td>\n",
              "      <td>Women/Tops &amp; Blouses/Blouse</td>\n",
              "      <td>Target</td>\n",
              "      <td>10.0</td>\n",
              "      <td>1</td>\n",
              "      <td>Adorable top with a hint of lace and a key hol...</td>\n",
              "      <td>Women</td>\n",
              "      <td>Tops &amp; Blouses</td>\n",
              "      <td>Blouse</td>\n",
              "    </tr>\n",
              "    <tr>\n",
              "      <th>3</th>\n",
              "      <td>3</td>\n",
              "      <td>3</td>\n",
              "      <td>Leather Horse Statues</td>\n",
              "      <td>1</td>\n",
              "      <td>Home/Home Décor/Home Décor Accents</td>\n",
              "      <td>uknown</td>\n",
              "      <td>35.0</td>\n",
              "      <td>1</td>\n",
              "      <td>New with tags. Leather horses. Retail for [rm]...</td>\n",
              "      <td>Home</td>\n",
              "      <td>Home Décor</td>\n",
              "      <td>Home Décor Accents</td>\n",
              "    </tr>\n",
              "    <tr>\n",
              "      <th>4</th>\n",
              "      <td>4</td>\n",
              "      <td>4</td>\n",
              "      <td>24K GOLD plated rose</td>\n",
              "      <td>1</td>\n",
              "      <td>Women/Jewelry/Necklaces</td>\n",
              "      <td>uknown</td>\n",
              "      <td>44.0</td>\n",
              "      <td>0</td>\n",
              "      <td>Complete with certificate of authenticity</td>\n",
              "      <td>Women</td>\n",
              "      <td>Jewelry</td>\n",
              "      <td>Necklaces</td>\n",
              "    </tr>\n",
              "  </tbody>\n",
              "</table>\n",
              "</div>"
            ],
            "text/plain": [
              "   Unnamed: 0  train_id  ...        category_sub1       category_sub2\n",
              "0           0         0  ...                 Tops            T-shirts\n",
              "1           1         1  ...  Computers & Tablets  Components & Parts\n",
              "2           2         2  ...       Tops & Blouses              Blouse\n",
              "3           3         3  ...           Home Décor  Home Décor Accents\n",
              "4           4         4  ...              Jewelry           Necklaces\n",
              "\n",
              "[5 rows x 12 columns]"
            ]
          },
          "metadata": {
            "tags": []
          },
          "execution_count": 4
        }
      ]
    },
    {
      "cell_type": "code",
      "metadata": {
        "id": "WUY2ognK6oKv"
      },
      "source": [
        "data = data.iloc[: , 1:]"
      ],
      "execution_count": null,
      "outputs": []
    },
    {
      "cell_type": "code",
      "metadata": {
        "colab": {
          "base_uri": "https://localhost:8080/"
        },
        "id": "JnHCoEr90-Yi",
        "outputId": "89f57961-d007-4869-dbda-1065326bd0df"
      },
      "source": [
        "data.isnull().sum()"
      ],
      "execution_count": null,
      "outputs": [
        {
          "output_type": "execute_result",
          "data": {
            "text/plain": [
              "train_id             0\n",
              "name                 0\n",
              "item_condition_id    0\n",
              "category_name        0\n",
              "brand_name           0\n",
              "price                0\n",
              "shipping             0\n",
              "item_description     0\n",
              "category_main        0\n",
              "category_sub1        0\n",
              "category_sub2        0\n",
              "dtype: int64"
            ]
          },
          "metadata": {
            "tags": []
          },
          "execution_count": 6
        }
      ]
    },
    {
      "cell_type": "code",
      "metadata": {
        "colab": {
          "base_uri": "https://localhost:8080/",
          "height": 204
        },
        "id": "fw4we-4n1iE-",
        "outputId": "1bd63e79-fd8d-4e1a-c2f5-7c173b8728a8"
      },
      "source": [
        "data = data.drop('category_name', axis=1)\n",
        "data.head()"
      ],
      "execution_count": null,
      "outputs": [
        {
          "output_type": "execute_result",
          "data": {
            "text/html": [
              "<div>\n",
              "<style scoped>\n",
              "    .dataframe tbody tr th:only-of-type {\n",
              "        vertical-align: middle;\n",
              "    }\n",
              "\n",
              "    .dataframe tbody tr th {\n",
              "        vertical-align: top;\n",
              "    }\n",
              "\n",
              "    .dataframe thead th {\n",
              "        text-align: right;\n",
              "    }\n",
              "</style>\n",
              "<table border=\"1\" class=\"dataframe\">\n",
              "  <thead>\n",
              "    <tr style=\"text-align: right;\">\n",
              "      <th></th>\n",
              "      <th>train_id</th>\n",
              "      <th>name</th>\n",
              "      <th>item_condition_id</th>\n",
              "      <th>brand_name</th>\n",
              "      <th>price</th>\n",
              "      <th>shipping</th>\n",
              "      <th>item_description</th>\n",
              "      <th>category_main</th>\n",
              "      <th>category_sub1</th>\n",
              "      <th>category_sub2</th>\n",
              "    </tr>\n",
              "  </thead>\n",
              "  <tbody>\n",
              "    <tr>\n",
              "      <th>0</th>\n",
              "      <td>0</td>\n",
              "      <td>MLB Cincinnati Reds T Shirt Size XL</td>\n",
              "      <td>3</td>\n",
              "      <td>uknown</td>\n",
              "      <td>10.0</td>\n",
              "      <td>1</td>\n",
              "      <td>No description yet</td>\n",
              "      <td>Men</td>\n",
              "      <td>Tops</td>\n",
              "      <td>T-shirts</td>\n",
              "    </tr>\n",
              "    <tr>\n",
              "      <th>1</th>\n",
              "      <td>1</td>\n",
              "      <td>Razer BlackWidow Chroma Keyboard</td>\n",
              "      <td>3</td>\n",
              "      <td>Razer</td>\n",
              "      <td>52.0</td>\n",
              "      <td>0</td>\n",
              "      <td>This keyboard is in great condition and works ...</td>\n",
              "      <td>Electronics</td>\n",
              "      <td>Computers &amp; Tablets</td>\n",
              "      <td>Components &amp; Parts</td>\n",
              "    </tr>\n",
              "    <tr>\n",
              "      <th>2</th>\n",
              "      <td>2</td>\n",
              "      <td>AVA-VIV Blouse</td>\n",
              "      <td>1</td>\n",
              "      <td>Target</td>\n",
              "      <td>10.0</td>\n",
              "      <td>1</td>\n",
              "      <td>Adorable top with a hint of lace and a key hol...</td>\n",
              "      <td>Women</td>\n",
              "      <td>Tops &amp; Blouses</td>\n",
              "      <td>Blouse</td>\n",
              "    </tr>\n",
              "    <tr>\n",
              "      <th>3</th>\n",
              "      <td>3</td>\n",
              "      <td>Leather Horse Statues</td>\n",
              "      <td>1</td>\n",
              "      <td>uknown</td>\n",
              "      <td>35.0</td>\n",
              "      <td>1</td>\n",
              "      <td>New with tags. Leather horses. Retail for [rm]...</td>\n",
              "      <td>Home</td>\n",
              "      <td>Home Décor</td>\n",
              "      <td>Home Décor Accents</td>\n",
              "    </tr>\n",
              "    <tr>\n",
              "      <th>4</th>\n",
              "      <td>4</td>\n",
              "      <td>24K GOLD plated rose</td>\n",
              "      <td>1</td>\n",
              "      <td>uknown</td>\n",
              "      <td>44.0</td>\n",
              "      <td>0</td>\n",
              "      <td>Complete with certificate of authenticity</td>\n",
              "      <td>Women</td>\n",
              "      <td>Jewelry</td>\n",
              "      <td>Necklaces</td>\n",
              "    </tr>\n",
              "  </tbody>\n",
              "</table>\n",
              "</div>"
            ],
            "text/plain": [
              "   train_id  ...       category_sub2\n",
              "0         0  ...            T-shirts\n",
              "1         1  ...  Components & Parts\n",
              "2         2  ...              Blouse\n",
              "3         3  ...  Home Décor Accents\n",
              "4         4  ...           Necklaces\n",
              "\n",
              "[5 rows x 10 columns]"
            ]
          },
          "metadata": {
            "tags": []
          },
          "execution_count": 7
        }
      ]
    },
    {
      "cell_type": "code",
      "metadata": {
        "id": "ApwTRtyL2yYI"
      },
      "source": [
        "data['item_condition_id'] = data['item_condition_id'].astype('category')\n",
        "data['shipping'] = data['shipping'].astype('category')"
      ],
      "execution_count": null,
      "outputs": []
    },
    {
      "cell_type": "code",
      "metadata": {
        "colab": {
          "base_uri": "https://localhost:8080/"
        },
        "id": "2s5MGUVa2-Tg",
        "outputId": "3eaeec89-9bfa-4a0d-b8df-b6289521567b"
      },
      "source": [
        "data.dtypes"
      ],
      "execution_count": null,
      "outputs": [
        {
          "output_type": "execute_result",
          "data": {
            "text/plain": [
              "train_id                int64\n",
              "name                   object\n",
              "item_condition_id    category\n",
              "brand_name             object\n",
              "price                 float64\n",
              "shipping             category\n",
              "item_description       object\n",
              "category_main          object\n",
              "category_sub1          object\n",
              "category_sub2          object\n",
              "dtype: object"
            ]
          },
          "metadata": {
            "tags": []
          },
          "execution_count": 9
        }
      ]
    },
    {
      "cell_type": "markdown",
      "metadata": {
        "id": "tEWT_l4h1zLI"
      },
      "source": [
        "#### Frequency encoding"
      ]
    },
    {
      "cell_type": "markdown",
      "metadata": {
        "id": "LgYgVOhr12fJ"
      },
      "source": [
        "#### Brand Name"
      ]
    },
    {
      "cell_type": "code",
      "metadata": {
        "colab": {
          "base_uri": "https://localhost:8080/"
        },
        "id": "VPllPsBM1r4y",
        "outputId": "6fa490ef-ffa3-49c0-c382-0f5b74f785a8"
      },
      "source": [
        "temp = data['brand_name'].value_counts()\n",
        "temp.head()"
      ],
      "execution_count": null,
      "outputs": [
        {
          "output_type": "execute_result",
          "data": {
            "text/plain": [
              "uknown               8553\n",
              "PINK                  730\n",
              "Nike                  699\n",
              "Victoria's Secret     627\n",
              "LuLaRoe               405\n",
              "Name: brand_name, dtype: int64"
            ]
          },
          "metadata": {
            "tags": []
          },
          "execution_count": 10
        }
      ]
    },
    {
      "cell_type": "code",
      "metadata": {
        "colab": {
          "base_uri": "https://localhost:8080/",
          "height": 204
        },
        "id": "RLoKSFR91_wZ",
        "outputId": "9a88bcf7-cada-4e5d-91c6-ee1766ad25b8"
      },
      "source": [
        "data['brand_name_count'] = data['brand_name'].apply(lambda x: temp[x])\n",
        "data[['brand_name', 'brand_name_count']].head()"
      ],
      "execution_count": null,
      "outputs": [
        {
          "output_type": "execute_result",
          "data": {
            "text/html": [
              "<div>\n",
              "<style scoped>\n",
              "    .dataframe tbody tr th:only-of-type {\n",
              "        vertical-align: middle;\n",
              "    }\n",
              "\n",
              "    .dataframe tbody tr th {\n",
              "        vertical-align: top;\n",
              "    }\n",
              "\n",
              "    .dataframe thead th {\n",
              "        text-align: right;\n",
              "    }\n",
              "</style>\n",
              "<table border=\"1\" class=\"dataframe\">\n",
              "  <thead>\n",
              "    <tr style=\"text-align: right;\">\n",
              "      <th></th>\n",
              "      <th>brand_name</th>\n",
              "      <th>brand_name_count</th>\n",
              "    </tr>\n",
              "  </thead>\n",
              "  <tbody>\n",
              "    <tr>\n",
              "      <th>0</th>\n",
              "      <td>uknown</td>\n",
              "      <td>8553</td>\n",
              "    </tr>\n",
              "    <tr>\n",
              "      <th>1</th>\n",
              "      <td>Razer</td>\n",
              "      <td>3</td>\n",
              "    </tr>\n",
              "    <tr>\n",
              "      <th>2</th>\n",
              "      <td>Target</td>\n",
              "      <td>22</td>\n",
              "    </tr>\n",
              "    <tr>\n",
              "      <th>3</th>\n",
              "      <td>uknown</td>\n",
              "      <td>8553</td>\n",
              "    </tr>\n",
              "    <tr>\n",
              "      <th>4</th>\n",
              "      <td>uknown</td>\n",
              "      <td>8553</td>\n",
              "    </tr>\n",
              "  </tbody>\n",
              "</table>\n",
              "</div>"
            ],
            "text/plain": [
              "  brand_name  brand_name_count\n",
              "0     uknown              8553\n",
              "1      Razer                 3\n",
              "2     Target                22\n",
              "3     uknown              8553\n",
              "4     uknown              8553"
            ]
          },
          "metadata": {
            "tags": []
          },
          "execution_count": 11
        }
      ]
    },
    {
      "cell_type": "markdown",
      "metadata": {
        "id": "r9J4P7wE2QGZ"
      },
      "source": [
        "#### target encoding"
      ]
    },
    {
      "cell_type": "code",
      "metadata": {
        "id": "iaZH_7Fc2PWB"
      },
      "source": [
        "brand_name_mean_encoding = data.groupby(['brand_name']).agg({'price':['mean']}).reset_index()\n",
        "\n",
        "data = data.merge(brand_name_mean_encoding,on='brand_name',how='left')"
      ],
      "execution_count": null,
      "outputs": []
    },
    {
      "cell_type": "code",
      "metadata": {
        "colab": {
          "base_uri": "https://localhost:8080/",
          "height": 204
        },
        "id": "WwsYkcU42igY",
        "outputId": "4f91fea6-976f-4fc1-9446-b9aeb3a2b271"
      },
      "source": [
        "data.head()"
      ],
      "execution_count": null,
      "outputs": [
        {
          "output_type": "execute_result",
          "data": {
            "text/html": [
              "<div>\n",
              "<style scoped>\n",
              "    .dataframe tbody tr th:only-of-type {\n",
              "        vertical-align: middle;\n",
              "    }\n",
              "\n",
              "    .dataframe tbody tr th {\n",
              "        vertical-align: top;\n",
              "    }\n",
              "\n",
              "    .dataframe thead th {\n",
              "        text-align: right;\n",
              "    }\n",
              "</style>\n",
              "<table border=\"1\" class=\"dataframe\">\n",
              "  <thead>\n",
              "    <tr style=\"text-align: right;\">\n",
              "      <th></th>\n",
              "      <th>train_id</th>\n",
              "      <th>name</th>\n",
              "      <th>item_condition_id</th>\n",
              "      <th>brand_name</th>\n",
              "      <th>price</th>\n",
              "      <th>shipping</th>\n",
              "      <th>item_description</th>\n",
              "      <th>category_main</th>\n",
              "      <th>category_sub1</th>\n",
              "      <th>category_sub2</th>\n",
              "      <th>brand_name_count</th>\n",
              "      <th>(price, mean)</th>\n",
              "    </tr>\n",
              "  </thead>\n",
              "  <tbody>\n",
              "    <tr>\n",
              "      <th>0</th>\n",
              "      <td>0</td>\n",
              "      <td>MLB Cincinnati Reds T Shirt Size XL</td>\n",
              "      <td>3</td>\n",
              "      <td>uknown</td>\n",
              "      <td>10.0</td>\n",
              "      <td>1</td>\n",
              "      <td>No description yet</td>\n",
              "      <td>Men</td>\n",
              "      <td>Tops</td>\n",
              "      <td>T-shirts</td>\n",
              "      <td>8553</td>\n",
              "      <td>20.537180</td>\n",
              "    </tr>\n",
              "    <tr>\n",
              "      <th>1</th>\n",
              "      <td>1</td>\n",
              "      <td>Razer BlackWidow Chroma Keyboard</td>\n",
              "      <td>3</td>\n",
              "      <td>Razer</td>\n",
              "      <td>52.0</td>\n",
              "      <td>0</td>\n",
              "      <td>This keyboard is in great condition and works ...</td>\n",
              "      <td>Electronics</td>\n",
              "      <td>Computers &amp; Tablets</td>\n",
              "      <td>Components &amp; Parts</td>\n",
              "      <td>3</td>\n",
              "      <td>37.000000</td>\n",
              "    </tr>\n",
              "    <tr>\n",
              "      <th>2</th>\n",
              "      <td>2</td>\n",
              "      <td>AVA-VIV Blouse</td>\n",
              "      <td>1</td>\n",
              "      <td>Target</td>\n",
              "      <td>10.0</td>\n",
              "      <td>1</td>\n",
              "      <td>Adorable top with a hint of lace and a key hol...</td>\n",
              "      <td>Women</td>\n",
              "      <td>Tops &amp; Blouses</td>\n",
              "      <td>Blouse</td>\n",
              "      <td>22</td>\n",
              "      <td>18.090909</td>\n",
              "    </tr>\n",
              "    <tr>\n",
              "      <th>3</th>\n",
              "      <td>3</td>\n",
              "      <td>Leather Horse Statues</td>\n",
              "      <td>1</td>\n",
              "      <td>uknown</td>\n",
              "      <td>35.0</td>\n",
              "      <td>1</td>\n",
              "      <td>New with tags. Leather horses. Retail for [rm]...</td>\n",
              "      <td>Home</td>\n",
              "      <td>Home Décor</td>\n",
              "      <td>Home Décor Accents</td>\n",
              "      <td>8553</td>\n",
              "      <td>20.537180</td>\n",
              "    </tr>\n",
              "    <tr>\n",
              "      <th>4</th>\n",
              "      <td>4</td>\n",
              "      <td>24K GOLD plated rose</td>\n",
              "      <td>1</td>\n",
              "      <td>uknown</td>\n",
              "      <td>44.0</td>\n",
              "      <td>0</td>\n",
              "      <td>Complete with certificate of authenticity</td>\n",
              "      <td>Women</td>\n",
              "      <td>Jewelry</td>\n",
              "      <td>Necklaces</td>\n",
              "      <td>8553</td>\n",
              "      <td>20.537180</td>\n",
              "    </tr>\n",
              "  </tbody>\n",
              "</table>\n",
              "</div>"
            ],
            "text/plain": [
              "   train_id  ... (price, mean)\n",
              "0         0  ...     20.537180\n",
              "1         1  ...     37.000000\n",
              "2         2  ...     18.090909\n",
              "3         3  ...     20.537180\n",
              "4         4  ...     20.537180\n",
              "\n",
              "[5 rows x 12 columns]"
            ]
          },
          "metadata": {
            "tags": []
          },
          "execution_count": 13
        }
      ]
    },
    {
      "cell_type": "markdown",
      "metadata": {
        "id": "n4sEtLJ12mOw"
      },
      "source": [
        "#### item condition id"
      ]
    },
    {
      "cell_type": "markdown",
      "metadata": {
        "id": "NvAPypWK3QQ4"
      },
      "source": [
        "#### target encoding"
      ]
    },
    {
      "cell_type": "code",
      "metadata": {
        "id": "k6G7R_H-3Oo4"
      },
      "source": [
        "item_condition_id_mean_encoding = data.groupby(['item_condition_id']).agg({'price':['mean']}).reset_index()\n",
        "\n",
        "data = data.merge(item_condition_id_mean_encoding,on='item_condition_id',how='left')"
      ],
      "execution_count": null,
      "outputs": []
    },
    {
      "cell_type": "code",
      "metadata": {
        "colab": {
          "base_uri": "https://localhost:8080/",
          "height": 289
        },
        "id": "g8wtF17C3X3I",
        "outputId": "2b4cefb0-d327-422e-b18b-bb5241c086d0"
      },
      "source": [
        "data.head()"
      ],
      "execution_count": null,
      "outputs": [
        {
          "output_type": "execute_result",
          "data": {
            "text/html": [
              "<div>\n",
              "<style scoped>\n",
              "    .dataframe tbody tr th:only-of-type {\n",
              "        vertical-align: middle;\n",
              "    }\n",
              "\n",
              "    .dataframe tbody tr th {\n",
              "        vertical-align: top;\n",
              "    }\n",
              "\n",
              "    .dataframe thead th {\n",
              "        text-align: right;\n",
              "    }\n",
              "</style>\n",
              "<table border=\"1\" class=\"dataframe\">\n",
              "  <thead>\n",
              "    <tr style=\"text-align: right;\">\n",
              "      <th></th>\n",
              "      <th>train_id</th>\n",
              "      <th>name</th>\n",
              "      <th>item_condition_id</th>\n",
              "      <th>brand_name</th>\n",
              "      <th>price_x</th>\n",
              "      <th>shipping</th>\n",
              "      <th>item_description</th>\n",
              "      <th>category_main</th>\n",
              "      <th>category_sub1</th>\n",
              "      <th>category_sub2</th>\n",
              "      <th>brand_name_count</th>\n",
              "      <th>('price', 'mean')_x</th>\n",
              "      <th>(price_y, mean)</th>\n",
              "    </tr>\n",
              "  </thead>\n",
              "  <tbody>\n",
              "    <tr>\n",
              "      <th>0</th>\n",
              "      <td>0</td>\n",
              "      <td>MLB Cincinnati Reds T Shirt Size XL</td>\n",
              "      <td>3</td>\n",
              "      <td>uknown</td>\n",
              "      <td>10.0</td>\n",
              "      <td>1</td>\n",
              "      <td>No description yet</td>\n",
              "      <td>Men</td>\n",
              "      <td>Tops</td>\n",
              "      <td>T-shirts</td>\n",
              "      <td>8553</td>\n",
              "      <td>20.537180</td>\n",
              "      <td>26.092650</td>\n",
              "    </tr>\n",
              "    <tr>\n",
              "      <th>1</th>\n",
              "      <td>1</td>\n",
              "      <td>Razer BlackWidow Chroma Keyboard</td>\n",
              "      <td>3</td>\n",
              "      <td>Razer</td>\n",
              "      <td>52.0</td>\n",
              "      <td>0</td>\n",
              "      <td>This keyboard is in great condition and works ...</td>\n",
              "      <td>Electronics</td>\n",
              "      <td>Computers &amp; Tablets</td>\n",
              "      <td>Components &amp; Parts</td>\n",
              "      <td>3</td>\n",
              "      <td>37.000000</td>\n",
              "      <td>26.092650</td>\n",
              "    </tr>\n",
              "    <tr>\n",
              "      <th>2</th>\n",
              "      <td>2</td>\n",
              "      <td>AVA-VIV Blouse</td>\n",
              "      <td>1</td>\n",
              "      <td>Target</td>\n",
              "      <td>10.0</td>\n",
              "      <td>1</td>\n",
              "      <td>Adorable top with a hint of lace and a key hol...</td>\n",
              "      <td>Women</td>\n",
              "      <td>Tops &amp; Blouses</td>\n",
              "      <td>Blouse</td>\n",
              "      <td>22</td>\n",
              "      <td>18.090909</td>\n",
              "      <td>26.136259</td>\n",
              "    </tr>\n",
              "    <tr>\n",
              "      <th>3</th>\n",
              "      <td>3</td>\n",
              "      <td>Leather Horse Statues</td>\n",
              "      <td>1</td>\n",
              "      <td>uknown</td>\n",
              "      <td>35.0</td>\n",
              "      <td>1</td>\n",
              "      <td>New with tags. Leather horses. Retail for [rm]...</td>\n",
              "      <td>Home</td>\n",
              "      <td>Home Décor</td>\n",
              "      <td>Home Décor Accents</td>\n",
              "      <td>8553</td>\n",
              "      <td>20.537180</td>\n",
              "      <td>26.136259</td>\n",
              "    </tr>\n",
              "    <tr>\n",
              "      <th>4</th>\n",
              "      <td>4</td>\n",
              "      <td>24K GOLD plated rose</td>\n",
              "      <td>1</td>\n",
              "      <td>uknown</td>\n",
              "      <td>44.0</td>\n",
              "      <td>0</td>\n",
              "      <td>Complete with certificate of authenticity</td>\n",
              "      <td>Women</td>\n",
              "      <td>Jewelry</td>\n",
              "      <td>Necklaces</td>\n",
              "      <td>8553</td>\n",
              "      <td>20.537180</td>\n",
              "      <td>26.136259</td>\n",
              "    </tr>\n",
              "  </tbody>\n",
              "</table>\n",
              "</div>"
            ],
            "text/plain": [
              "   train_id  ... (price_y, mean)\n",
              "0         0  ...       26.092650\n",
              "1         1  ...       26.092650\n",
              "2         2  ...       26.136259\n",
              "3         3  ...       26.136259\n",
              "4         4  ...       26.136259\n",
              "\n",
              "[5 rows x 13 columns]"
            ]
          },
          "metadata": {
            "tags": []
          },
          "execution_count": 17
        }
      ]
    },
    {
      "cell_type": "markdown",
      "metadata": {
        "id": "LGb8Vuab3a6g"
      },
      "source": [
        "#### shipping"
      ]
    },
    {
      "cell_type": "code",
      "metadata": {
        "colab": {
          "base_uri": "https://localhost:8080/"
        },
        "id": "b4fUUblE3ZF4",
        "outputId": "1abf0eb4-72b5-47e1-c144-7c4a17ec878f"
      },
      "source": [
        "temp3 = data['shipping'].value_counts()\n",
        "temp3.head()"
      ],
      "execution_count": null,
      "outputs": [
        {
          "output_type": "execute_result",
          "data": {
            "text/plain": [
              "0    11008\n",
              "1     8948\n",
              "Name: shipping, dtype: int64"
            ]
          },
          "metadata": {
            "tags": []
          },
          "execution_count": 18
        }
      ]
    },
    {
      "cell_type": "code",
      "metadata": {
        "colab": {
          "base_uri": "https://localhost:8080/",
          "height": 204
        },
        "id": "7-HoUGej3g-o",
        "outputId": "0f77fbc4-5669-4c8e-c26e-759d8384acd4"
      },
      "source": [
        "data['shipping_count'] = data['shipping'].apply(lambda x: temp3[x])\n",
        "data[['shipping', 'shipping_count']].head()"
      ],
      "execution_count": null,
      "outputs": [
        {
          "output_type": "execute_result",
          "data": {
            "text/html": [
              "<div>\n",
              "<style scoped>\n",
              "    .dataframe tbody tr th:only-of-type {\n",
              "        vertical-align: middle;\n",
              "    }\n",
              "\n",
              "    .dataframe tbody tr th {\n",
              "        vertical-align: top;\n",
              "    }\n",
              "\n",
              "    .dataframe thead th {\n",
              "        text-align: right;\n",
              "    }\n",
              "</style>\n",
              "<table border=\"1\" class=\"dataframe\">\n",
              "  <thead>\n",
              "    <tr style=\"text-align: right;\">\n",
              "      <th></th>\n",
              "      <th>shipping</th>\n",
              "      <th>shipping_count</th>\n",
              "    </tr>\n",
              "  </thead>\n",
              "  <tbody>\n",
              "    <tr>\n",
              "      <th>0</th>\n",
              "      <td>1</td>\n",
              "      <td>8948</td>\n",
              "    </tr>\n",
              "    <tr>\n",
              "      <th>1</th>\n",
              "      <td>0</td>\n",
              "      <td>11008</td>\n",
              "    </tr>\n",
              "    <tr>\n",
              "      <th>2</th>\n",
              "      <td>1</td>\n",
              "      <td>8948</td>\n",
              "    </tr>\n",
              "    <tr>\n",
              "      <th>3</th>\n",
              "      <td>1</td>\n",
              "      <td>8948</td>\n",
              "    </tr>\n",
              "    <tr>\n",
              "      <th>4</th>\n",
              "      <td>0</td>\n",
              "      <td>11008</td>\n",
              "    </tr>\n",
              "  </tbody>\n",
              "</table>\n",
              "</div>"
            ],
            "text/plain": [
              "  shipping shipping_count\n",
              "0        1           8948\n",
              "1        0          11008\n",
              "2        1           8948\n",
              "3        1           8948\n",
              "4        0          11008"
            ]
          },
          "metadata": {
            "tags": []
          },
          "execution_count": 19
        }
      ]
    },
    {
      "cell_type": "markdown",
      "metadata": {
        "id": "aI3YGhLu3rI4"
      },
      "source": [
        "#### target encoding"
      ]
    },
    {
      "cell_type": "code",
      "metadata": {
        "id": "sXBCZi1R3qJ4"
      },
      "source": [
        "shipping_mean_encoding = data.groupby(['shipping']).agg({'price_x':['mean']}).reset_index()\n",
        "\n",
        "data = data.merge(shipping_mean_encoding,on='shipping',how='left')"
      ],
      "execution_count": null,
      "outputs": []
    },
    {
      "cell_type": "code",
      "metadata": {
        "colab": {
          "base_uri": "https://localhost:8080/",
          "height": 306
        },
        "id": "AJ2xPAJi30MA",
        "outputId": "2fd7399c-9df8-4f79-958e-b3ace9246e18"
      },
      "source": [
        "data.head()"
      ],
      "execution_count": null,
      "outputs": [
        {
          "output_type": "execute_result",
          "data": {
            "text/html": [
              "<div>\n",
              "<style scoped>\n",
              "    .dataframe tbody tr th:only-of-type {\n",
              "        vertical-align: middle;\n",
              "    }\n",
              "\n",
              "    .dataframe tbody tr th {\n",
              "        vertical-align: top;\n",
              "    }\n",
              "\n",
              "    .dataframe thead th {\n",
              "        text-align: right;\n",
              "    }\n",
              "</style>\n",
              "<table border=\"1\" class=\"dataframe\">\n",
              "  <thead>\n",
              "    <tr style=\"text-align: right;\">\n",
              "      <th></th>\n",
              "      <th>train_id</th>\n",
              "      <th>name</th>\n",
              "      <th>item_condition_id</th>\n",
              "      <th>brand_name</th>\n",
              "      <th>price_x</th>\n",
              "      <th>shipping</th>\n",
              "      <th>item_description</th>\n",
              "      <th>category_main</th>\n",
              "      <th>category_sub1</th>\n",
              "      <th>category_sub2</th>\n",
              "      <th>brand_name_count</th>\n",
              "      <th>('price', 'mean')_x</th>\n",
              "      <th>(price_y, mean)</th>\n",
              "      <th>shipping_count</th>\n",
              "      <th>(price_x, mean)</th>\n",
              "    </tr>\n",
              "  </thead>\n",
              "  <tbody>\n",
              "    <tr>\n",
              "      <th>0</th>\n",
              "      <td>0</td>\n",
              "      <td>MLB Cincinnati Reds T Shirt Size XL</td>\n",
              "      <td>3</td>\n",
              "      <td>uknown</td>\n",
              "      <td>10.0</td>\n",
              "      <td>1</td>\n",
              "      <td>No description yet</td>\n",
              "      <td>Men</td>\n",
              "      <td>Tops</td>\n",
              "      <td>T-shirts</td>\n",
              "      <td>8553</td>\n",
              "      <td>20.537180</td>\n",
              "      <td>26.092650</td>\n",
              "      <td>8948</td>\n",
              "      <td>21.731001</td>\n",
              "    </tr>\n",
              "    <tr>\n",
              "      <th>1</th>\n",
              "      <td>1</td>\n",
              "      <td>Razer BlackWidow Chroma Keyboard</td>\n",
              "      <td>3</td>\n",
              "      <td>Razer</td>\n",
              "      <td>52.0</td>\n",
              "      <td>0</td>\n",
              "      <td>This keyboard is in great condition and works ...</td>\n",
              "      <td>Electronics</td>\n",
              "      <td>Computers &amp; Tablets</td>\n",
              "      <td>Components &amp; Parts</td>\n",
              "      <td>3</td>\n",
              "      <td>37.000000</td>\n",
              "      <td>26.092650</td>\n",
              "      <td>11008</td>\n",
              "      <td>29.821403</td>\n",
              "    </tr>\n",
              "    <tr>\n",
              "      <th>2</th>\n",
              "      <td>2</td>\n",
              "      <td>AVA-VIV Blouse</td>\n",
              "      <td>1</td>\n",
              "      <td>Target</td>\n",
              "      <td>10.0</td>\n",
              "      <td>1</td>\n",
              "      <td>Adorable top with a hint of lace and a key hol...</td>\n",
              "      <td>Women</td>\n",
              "      <td>Tops &amp; Blouses</td>\n",
              "      <td>Blouse</td>\n",
              "      <td>22</td>\n",
              "      <td>18.090909</td>\n",
              "      <td>26.136259</td>\n",
              "      <td>8948</td>\n",
              "      <td>21.731001</td>\n",
              "    </tr>\n",
              "    <tr>\n",
              "      <th>3</th>\n",
              "      <td>3</td>\n",
              "      <td>Leather Horse Statues</td>\n",
              "      <td>1</td>\n",
              "      <td>uknown</td>\n",
              "      <td>35.0</td>\n",
              "      <td>1</td>\n",
              "      <td>New with tags. Leather horses. Retail for [rm]...</td>\n",
              "      <td>Home</td>\n",
              "      <td>Home Décor</td>\n",
              "      <td>Home Décor Accents</td>\n",
              "      <td>8553</td>\n",
              "      <td>20.537180</td>\n",
              "      <td>26.136259</td>\n",
              "      <td>8948</td>\n",
              "      <td>21.731001</td>\n",
              "    </tr>\n",
              "    <tr>\n",
              "      <th>4</th>\n",
              "      <td>4</td>\n",
              "      <td>24K GOLD plated rose</td>\n",
              "      <td>1</td>\n",
              "      <td>uknown</td>\n",
              "      <td>44.0</td>\n",
              "      <td>0</td>\n",
              "      <td>Complete with certificate of authenticity</td>\n",
              "      <td>Women</td>\n",
              "      <td>Jewelry</td>\n",
              "      <td>Necklaces</td>\n",
              "      <td>8553</td>\n",
              "      <td>20.537180</td>\n",
              "      <td>26.136259</td>\n",
              "      <td>11008</td>\n",
              "      <td>29.821403</td>\n",
              "    </tr>\n",
              "  </tbody>\n",
              "</table>\n",
              "</div>"
            ],
            "text/plain": [
              "   train_id  ... (price_x, mean)\n",
              "0         0  ...       21.731001\n",
              "1         1  ...       29.821403\n",
              "2         2  ...       21.731001\n",
              "3         3  ...       21.731001\n",
              "4         4  ...       29.821403\n",
              "\n",
              "[5 rows x 15 columns]"
            ]
          },
          "metadata": {
            "tags": []
          },
          "execution_count": 21
        }
      ]
    },
    {
      "cell_type": "markdown",
      "metadata": {
        "id": "eeZuQ_kU38NY"
      },
      "source": [
        "#### category main"
      ]
    },
    {
      "cell_type": "code",
      "metadata": {
        "colab": {
          "base_uri": "https://localhost:8080/"
        },
        "id": "Onz-qe1V34-A",
        "outputId": "ee0faea0-aba9-4013-9ad6-a352567bb6e9"
      },
      "source": [
        "temp4 = data['category_main'].value_counts()\n",
        "temp4.head()"
      ],
      "execution_count": null,
      "outputs": [
        {
          "output_type": "execute_result",
          "data": {
            "text/plain": [
              "Women          8895\n",
              "Beauty         2968\n",
              "Kids           2272\n",
              "Electronics    1610\n",
              "Men            1258\n",
              "Name: category_main, dtype: int64"
            ]
          },
          "metadata": {
            "tags": []
          },
          "execution_count": 22
        }
      ]
    },
    {
      "cell_type": "code",
      "metadata": {
        "colab": {
          "base_uri": "https://localhost:8080/",
          "height": 204
        },
        "id": "EGOgFe8Y4C1w",
        "outputId": "de0a55e5-e810-4fd9-eb9a-749362170bc2"
      },
      "source": [
        "data['category_main_count'] = data['category_main'].apply(lambda x: temp4[x])\n",
        "data[['category_main', 'category_main_count']].head()"
      ],
      "execution_count": null,
      "outputs": [
        {
          "output_type": "execute_result",
          "data": {
            "text/html": [
              "<div>\n",
              "<style scoped>\n",
              "    .dataframe tbody tr th:only-of-type {\n",
              "        vertical-align: middle;\n",
              "    }\n",
              "\n",
              "    .dataframe tbody tr th {\n",
              "        vertical-align: top;\n",
              "    }\n",
              "\n",
              "    .dataframe thead th {\n",
              "        text-align: right;\n",
              "    }\n",
              "</style>\n",
              "<table border=\"1\" class=\"dataframe\">\n",
              "  <thead>\n",
              "    <tr style=\"text-align: right;\">\n",
              "      <th></th>\n",
              "      <th>category_main</th>\n",
              "      <th>category_main_count</th>\n",
              "    </tr>\n",
              "  </thead>\n",
              "  <tbody>\n",
              "    <tr>\n",
              "      <th>0</th>\n",
              "      <td>Men</td>\n",
              "      <td>1258</td>\n",
              "    </tr>\n",
              "    <tr>\n",
              "      <th>1</th>\n",
              "      <td>Electronics</td>\n",
              "      <td>1610</td>\n",
              "    </tr>\n",
              "    <tr>\n",
              "      <th>2</th>\n",
              "      <td>Women</td>\n",
              "      <td>8895</td>\n",
              "    </tr>\n",
              "    <tr>\n",
              "      <th>3</th>\n",
              "      <td>Home</td>\n",
              "      <td>846</td>\n",
              "    </tr>\n",
              "    <tr>\n",
              "      <th>4</th>\n",
              "      <td>Women</td>\n",
              "      <td>8895</td>\n",
              "    </tr>\n",
              "  </tbody>\n",
              "</table>\n",
              "</div>"
            ],
            "text/plain": [
              "  category_main  category_main_count\n",
              "0           Men                 1258\n",
              "1   Electronics                 1610\n",
              "2         Women                 8895\n",
              "3          Home                  846\n",
              "4         Women                 8895"
            ]
          },
          "metadata": {
            "tags": []
          },
          "execution_count": 23
        }
      ]
    },
    {
      "cell_type": "markdown",
      "metadata": {
        "id": "wmqEfTqD4pTX"
      },
      "source": [
        "#### target encoding"
      ]
    },
    {
      "cell_type": "code",
      "metadata": {
        "id": "DarzUnaX4Jg3"
      },
      "source": [
        "category_main_mean_encoding = data.groupby(['category_main']).agg({'price_x':['mean']}).reset_index()\n",
        "\n",
        "data = data.merge(category_main_mean_encoding,on='category_main',how='left')"
      ],
      "execution_count": null,
      "outputs": []
    },
    {
      "cell_type": "code",
      "metadata": {
        "colab": {
          "base_uri": "https://localhost:8080/",
          "height": 462
        },
        "id": "8WDiTmq94x5x",
        "outputId": "a5fa938d-276a-4419-b4ad-3b582fc5e31b"
      },
      "source": [
        "data.head()"
      ],
      "execution_count": null,
      "outputs": [
        {
          "output_type": "execute_result",
          "data": {
            "text/html": [
              "<div>\n",
              "<style scoped>\n",
              "    .dataframe tbody tr th:only-of-type {\n",
              "        vertical-align: middle;\n",
              "    }\n",
              "\n",
              "    .dataframe tbody tr th {\n",
              "        vertical-align: top;\n",
              "    }\n",
              "\n",
              "    .dataframe thead th {\n",
              "        text-align: right;\n",
              "    }\n",
              "</style>\n",
              "<table border=\"1\" class=\"dataframe\">\n",
              "  <thead>\n",
              "    <tr style=\"text-align: right;\">\n",
              "      <th></th>\n",
              "      <th>train_id</th>\n",
              "      <th>name</th>\n",
              "      <th>item_condition_id</th>\n",
              "      <th>brand_name</th>\n",
              "      <th>price_x_x</th>\n",
              "      <th>shipping</th>\n",
              "      <th>item_description</th>\n",
              "      <th>category_main</th>\n",
              "      <th>category_sub1</th>\n",
              "      <th>category_sub2</th>\n",
              "      <th>brand_name_count</th>\n",
              "      <th>('price', 'mean')_x</th>\n",
              "      <th>(price_y, mean)</th>\n",
              "      <th>shipping_count</th>\n",
              "      <th>('price_x', 'mean')_x</th>\n",
              "      <th>category_main_count</th>\n",
              "      <th>(price_x_y, mean)</th>\n",
              "    </tr>\n",
              "  </thead>\n",
              "  <tbody>\n",
              "    <tr>\n",
              "      <th>0</th>\n",
              "      <td>0</td>\n",
              "      <td>MLB Cincinnati Reds T Shirt Size XL</td>\n",
              "      <td>3</td>\n",
              "      <td>uknown</td>\n",
              "      <td>10.0</td>\n",
              "      <td>1</td>\n",
              "      <td>No description yet</td>\n",
              "      <td>Men</td>\n",
              "      <td>Tops</td>\n",
              "      <td>T-shirts</td>\n",
              "      <td>8553</td>\n",
              "      <td>20.537180</td>\n",
              "      <td>26.092650</td>\n",
              "      <td>8948</td>\n",
              "      <td>21.731001</td>\n",
              "      <td>1258</td>\n",
              "      <td>35.191574</td>\n",
              "    </tr>\n",
              "    <tr>\n",
              "      <th>1</th>\n",
              "      <td>1</td>\n",
              "      <td>Razer BlackWidow Chroma Keyboard</td>\n",
              "      <td>3</td>\n",
              "      <td>Razer</td>\n",
              "      <td>52.0</td>\n",
              "      <td>0</td>\n",
              "      <td>This keyboard is in great condition and works ...</td>\n",
              "      <td>Electronics</td>\n",
              "      <td>Computers &amp; Tablets</td>\n",
              "      <td>Components &amp; Parts</td>\n",
              "      <td>3</td>\n",
              "      <td>37.000000</td>\n",
              "      <td>26.092650</td>\n",
              "      <td>11008</td>\n",
              "      <td>29.821403</td>\n",
              "      <td>1610</td>\n",
              "      <td>32.832919</td>\n",
              "    </tr>\n",
              "    <tr>\n",
              "      <th>2</th>\n",
              "      <td>2</td>\n",
              "      <td>AVA-VIV Blouse</td>\n",
              "      <td>1</td>\n",
              "      <td>Target</td>\n",
              "      <td>10.0</td>\n",
              "      <td>1</td>\n",
              "      <td>Adorable top with a hint of lace and a key hol...</td>\n",
              "      <td>Women</td>\n",
              "      <td>Tops &amp; Blouses</td>\n",
              "      <td>Blouse</td>\n",
              "      <td>22</td>\n",
              "      <td>18.090909</td>\n",
              "      <td>26.136259</td>\n",
              "      <td>8948</td>\n",
              "      <td>21.731001</td>\n",
              "      <td>8895</td>\n",
              "      <td>28.358572</td>\n",
              "    </tr>\n",
              "    <tr>\n",
              "      <th>3</th>\n",
              "      <td>3</td>\n",
              "      <td>Leather Horse Statues</td>\n",
              "      <td>1</td>\n",
              "      <td>uknown</td>\n",
              "      <td>35.0</td>\n",
              "      <td>1</td>\n",
              "      <td>New with tags. Leather horses. Retail for [rm]...</td>\n",
              "      <td>Home</td>\n",
              "      <td>Home Décor</td>\n",
              "      <td>Home Décor Accents</td>\n",
              "      <td>8553</td>\n",
              "      <td>20.537180</td>\n",
              "      <td>26.136259</td>\n",
              "      <td>8948</td>\n",
              "      <td>21.731001</td>\n",
              "      <td>846</td>\n",
              "      <td>24.395981</td>\n",
              "    </tr>\n",
              "    <tr>\n",
              "      <th>4</th>\n",
              "      <td>4</td>\n",
              "      <td>24K GOLD plated rose</td>\n",
              "      <td>1</td>\n",
              "      <td>uknown</td>\n",
              "      <td>44.0</td>\n",
              "      <td>0</td>\n",
              "      <td>Complete with certificate of authenticity</td>\n",
              "      <td>Women</td>\n",
              "      <td>Jewelry</td>\n",
              "      <td>Necklaces</td>\n",
              "      <td>8553</td>\n",
              "      <td>20.537180</td>\n",
              "      <td>26.136259</td>\n",
              "      <td>11008</td>\n",
              "      <td>29.821403</td>\n",
              "      <td>8895</td>\n",
              "      <td>28.358572</td>\n",
              "    </tr>\n",
              "  </tbody>\n",
              "</table>\n",
              "</div>"
            ],
            "text/plain": [
              "   train_id  ... (price_x_y, mean)\n",
              "0         0  ...         35.191574\n",
              "1         1  ...         32.832919\n",
              "2         2  ...         28.358572\n",
              "3         3  ...         24.395981\n",
              "4         4  ...         28.358572\n",
              "\n",
              "[5 rows x 17 columns]"
            ]
          },
          "metadata": {
            "tags": []
          },
          "execution_count": 25
        }
      ]
    },
    {
      "cell_type": "markdown",
      "metadata": {
        "id": "4pjp4tf-4z_R"
      },
      "source": [
        "#### category sub 1"
      ]
    },
    {
      "cell_type": "code",
      "metadata": {
        "colab": {
          "base_uri": "https://localhost:8080/"
        },
        "id": "rUy4Gs9_4zEx",
        "outputId": "50999f9b-90ed-4772-ece2-f5625962f95a"
      },
      "source": [
        "temp5 = data['category_sub1'].value_counts()\n",
        "temp5.head()"
      ],
      "execution_count": null,
      "outputs": [
        {
          "output_type": "execute_result",
          "data": {
            "text/plain": [
              "Makeup              1802\n",
              "Athletic Apparel    1726\n",
              "Shoes               1392\n",
              "Tops & Blouses      1385\n",
              "Jewelry              858\n",
              "Name: category_sub1, dtype: int64"
            ]
          },
          "metadata": {
            "tags": []
          },
          "execution_count": 26
        }
      ]
    },
    {
      "cell_type": "code",
      "metadata": {
        "colab": {
          "base_uri": "https://localhost:8080/",
          "height": 204
        },
        "id": "fmATDk_B489x",
        "outputId": "77991461-9533-4639-b52f-0b4f6d65d592"
      },
      "source": [
        "data['category_sub1_count'] = data['category_sub1'].apply(lambda x: temp5[x])\n",
        "data[['category_sub1', 'category_sub1_count']].head()"
      ],
      "execution_count": null,
      "outputs": [
        {
          "output_type": "execute_result",
          "data": {
            "text/html": [
              "<div>\n",
              "<style scoped>\n",
              "    .dataframe tbody tr th:only-of-type {\n",
              "        vertical-align: middle;\n",
              "    }\n",
              "\n",
              "    .dataframe tbody tr th {\n",
              "        vertical-align: top;\n",
              "    }\n",
              "\n",
              "    .dataframe thead th {\n",
              "        text-align: right;\n",
              "    }\n",
              "</style>\n",
              "<table border=\"1\" class=\"dataframe\">\n",
              "  <thead>\n",
              "    <tr style=\"text-align: right;\">\n",
              "      <th></th>\n",
              "      <th>category_sub1</th>\n",
              "      <th>category_sub1_count</th>\n",
              "    </tr>\n",
              "  </thead>\n",
              "  <tbody>\n",
              "    <tr>\n",
              "      <th>0</th>\n",
              "      <td>Tops</td>\n",
              "      <td>318</td>\n",
              "    </tr>\n",
              "    <tr>\n",
              "      <th>1</th>\n",
              "      <td>Computers &amp; Tablets</td>\n",
              "      <td>49</td>\n",
              "    </tr>\n",
              "    <tr>\n",
              "      <th>2</th>\n",
              "      <td>Tops &amp; Blouses</td>\n",
              "      <td>1385</td>\n",
              "    </tr>\n",
              "    <tr>\n",
              "      <th>3</th>\n",
              "      <td>Home Décor</td>\n",
              "      <td>318</td>\n",
              "    </tr>\n",
              "    <tr>\n",
              "      <th>4</th>\n",
              "      <td>Jewelry</td>\n",
              "      <td>858</td>\n",
              "    </tr>\n",
              "  </tbody>\n",
              "</table>\n",
              "</div>"
            ],
            "text/plain": [
              "         category_sub1  category_sub1_count\n",
              "0                 Tops                  318\n",
              "1  Computers & Tablets                   49\n",
              "2       Tops & Blouses                 1385\n",
              "3           Home Décor                  318\n",
              "4              Jewelry                  858"
            ]
          },
          "metadata": {
            "tags": []
          },
          "execution_count": 27
        }
      ]
    },
    {
      "cell_type": "markdown",
      "metadata": {
        "id": "j9mW2ISU5Fx3"
      },
      "source": [
        "#### target encodig"
      ]
    },
    {
      "cell_type": "code",
      "metadata": {
        "id": "MMMnKLY_5Dlv"
      },
      "source": [
        "category_sub1_mean_encoding = data.groupby(['category_sub1']).agg({'price_x_x':['mean']}).reset_index()\n",
        "\n",
        "data = data.merge(category_sub1_mean_encoding,on='category_sub1',how='left')"
      ],
      "execution_count": null,
      "outputs": []
    },
    {
      "cell_type": "code",
      "metadata": {
        "colab": {
          "base_uri": "https://localhost:8080/",
          "height": 462
        },
        "id": "JKBRnK1X5PXP",
        "outputId": "9b8d366b-08de-4820-c3e3-be36e0541874"
      },
      "source": [
        "data.head()"
      ],
      "execution_count": null,
      "outputs": [
        {
          "output_type": "execute_result",
          "data": {
            "text/html": [
              "<div>\n",
              "<style scoped>\n",
              "    .dataframe tbody tr th:only-of-type {\n",
              "        vertical-align: middle;\n",
              "    }\n",
              "\n",
              "    .dataframe tbody tr th {\n",
              "        vertical-align: top;\n",
              "    }\n",
              "\n",
              "    .dataframe thead th {\n",
              "        text-align: right;\n",
              "    }\n",
              "</style>\n",
              "<table border=\"1\" class=\"dataframe\">\n",
              "  <thead>\n",
              "    <tr style=\"text-align: right;\">\n",
              "      <th></th>\n",
              "      <th>train_id</th>\n",
              "      <th>name</th>\n",
              "      <th>item_condition_id</th>\n",
              "      <th>brand_name</th>\n",
              "      <th>price_x_x</th>\n",
              "      <th>shipping</th>\n",
              "      <th>item_description</th>\n",
              "      <th>category_main</th>\n",
              "      <th>category_sub1</th>\n",
              "      <th>category_sub2</th>\n",
              "      <th>brand_name_count</th>\n",
              "      <th>('price', 'mean')_x</th>\n",
              "      <th>(price_y, mean)</th>\n",
              "      <th>shipping_count</th>\n",
              "      <th>('price_x', 'mean')_x</th>\n",
              "      <th>category_main_count</th>\n",
              "      <th>(price_x_y, mean)</th>\n",
              "      <th>category_sub1_count</th>\n",
              "      <th>(price_x_x, mean)</th>\n",
              "    </tr>\n",
              "  </thead>\n",
              "  <tbody>\n",
              "    <tr>\n",
              "      <th>0</th>\n",
              "      <td>0</td>\n",
              "      <td>MLB Cincinnati Reds T Shirt Size XL</td>\n",
              "      <td>3</td>\n",
              "      <td>uknown</td>\n",
              "      <td>10.0</td>\n",
              "      <td>1</td>\n",
              "      <td>No description yet</td>\n",
              "      <td>Men</td>\n",
              "      <td>Tops</td>\n",
              "      <td>T-shirts</td>\n",
              "      <td>8553</td>\n",
              "      <td>20.537180</td>\n",
              "      <td>26.092650</td>\n",
              "      <td>8948</td>\n",
              "      <td>21.731001</td>\n",
              "      <td>1258</td>\n",
              "      <td>35.191574</td>\n",
              "      <td>318</td>\n",
              "      <td>18.921384</td>\n",
              "    </tr>\n",
              "    <tr>\n",
              "      <th>1</th>\n",
              "      <td>1</td>\n",
              "      <td>Razer BlackWidow Chroma Keyboard</td>\n",
              "      <td>3</td>\n",
              "      <td>Razer</td>\n",
              "      <td>52.0</td>\n",
              "      <td>0</td>\n",
              "      <td>This keyboard is in great condition and works ...</td>\n",
              "      <td>Electronics</td>\n",
              "      <td>Computers &amp; Tablets</td>\n",
              "      <td>Components &amp; Parts</td>\n",
              "      <td>3</td>\n",
              "      <td>37.000000</td>\n",
              "      <td>26.092650</td>\n",
              "      <td>11008</td>\n",
              "      <td>29.821403</td>\n",
              "      <td>1610</td>\n",
              "      <td>32.832919</td>\n",
              "      <td>49</td>\n",
              "      <td>71.551020</td>\n",
              "    </tr>\n",
              "    <tr>\n",
              "      <th>2</th>\n",
              "      <td>2</td>\n",
              "      <td>AVA-VIV Blouse</td>\n",
              "      <td>1</td>\n",
              "      <td>Target</td>\n",
              "      <td>10.0</td>\n",
              "      <td>1</td>\n",
              "      <td>Adorable top with a hint of lace and a key hol...</td>\n",
              "      <td>Women</td>\n",
              "      <td>Tops &amp; Blouses</td>\n",
              "      <td>Blouse</td>\n",
              "      <td>22</td>\n",
              "      <td>18.090909</td>\n",
              "      <td>26.136259</td>\n",
              "      <td>8948</td>\n",
              "      <td>21.731001</td>\n",
              "      <td>8895</td>\n",
              "      <td>28.358572</td>\n",
              "      <td>1385</td>\n",
              "      <td>17.555235</td>\n",
              "    </tr>\n",
              "    <tr>\n",
              "      <th>3</th>\n",
              "      <td>3</td>\n",
              "      <td>Leather Horse Statues</td>\n",
              "      <td>1</td>\n",
              "      <td>uknown</td>\n",
              "      <td>35.0</td>\n",
              "      <td>1</td>\n",
              "      <td>New with tags. Leather horses. Retail for [rm]...</td>\n",
              "      <td>Home</td>\n",
              "      <td>Home Décor</td>\n",
              "      <td>Home Décor Accents</td>\n",
              "      <td>8553</td>\n",
              "      <td>20.537180</td>\n",
              "      <td>26.136259</td>\n",
              "      <td>8948</td>\n",
              "      <td>21.731001</td>\n",
              "      <td>846</td>\n",
              "      <td>24.395981</td>\n",
              "      <td>318</td>\n",
              "      <td>22.235849</td>\n",
              "    </tr>\n",
              "    <tr>\n",
              "      <th>4</th>\n",
              "      <td>4</td>\n",
              "      <td>24K GOLD plated rose</td>\n",
              "      <td>1</td>\n",
              "      <td>uknown</td>\n",
              "      <td>44.0</td>\n",
              "      <td>0</td>\n",
              "      <td>Complete with certificate of authenticity</td>\n",
              "      <td>Women</td>\n",
              "      <td>Jewelry</td>\n",
              "      <td>Necklaces</td>\n",
              "      <td>8553</td>\n",
              "      <td>20.537180</td>\n",
              "      <td>26.136259</td>\n",
              "      <td>11008</td>\n",
              "      <td>29.821403</td>\n",
              "      <td>8895</td>\n",
              "      <td>28.358572</td>\n",
              "      <td>858</td>\n",
              "      <td>25.737762</td>\n",
              "    </tr>\n",
              "  </tbody>\n",
              "</table>\n",
              "</div>"
            ],
            "text/plain": [
              "   train_id  ... (price_x_x, mean)\n",
              "0         0  ...         18.921384\n",
              "1         1  ...         71.551020\n",
              "2         2  ...         17.555235\n",
              "3         3  ...         22.235849\n",
              "4         4  ...         25.737762\n",
              "\n",
              "[5 rows x 19 columns]"
            ]
          },
          "metadata": {
            "tags": []
          },
          "execution_count": 29
        }
      ]
    },
    {
      "cell_type": "markdown",
      "metadata": {
        "id": "p03WM8s85RV_"
      },
      "source": [
        "#### category sub 2"
      ]
    },
    {
      "cell_type": "code",
      "metadata": {
        "colab": {
          "base_uri": "https://localhost:8080/"
        },
        "id": "jSw83Oxx5QZ_",
        "outputId": "7da5e109-64de-47bb-8a43-3363f902a3ba"
      },
      "source": [
        "temp6 = data['category_sub2'].value_counts()\n",
        "temp6.head()"
      ],
      "execution_count": null,
      "outputs": [
        {
          "output_type": "execute_result",
          "data": {
            "text/plain": [
              "Other                      860\n",
              "Pants, Tights, Leggings    806\n",
              "Face                       713\n",
              "T-Shirts                   607\n",
              "Lips                       478\n",
              "Name: category_sub2, dtype: int64"
            ]
          },
          "metadata": {
            "tags": []
          },
          "execution_count": 30
        }
      ]
    },
    {
      "cell_type": "code",
      "metadata": {
        "colab": {
          "base_uri": "https://localhost:8080/",
          "height": 204
        },
        "id": "gwC9ob-N5YGH",
        "outputId": "88b39a0d-ca48-4ddf-b528-9c1b8725b288"
      },
      "source": [
        "data['category_sub2_count'] = data['category_sub2'].apply(lambda x: temp6[x])\n",
        "data[['category_sub2', 'category_sub2_count']].head()"
      ],
      "execution_count": null,
      "outputs": [
        {
          "output_type": "execute_result",
          "data": {
            "text/html": [
              "<div>\n",
              "<style scoped>\n",
              "    .dataframe tbody tr th:only-of-type {\n",
              "        vertical-align: middle;\n",
              "    }\n",
              "\n",
              "    .dataframe tbody tr th {\n",
              "        vertical-align: top;\n",
              "    }\n",
              "\n",
              "    .dataframe thead th {\n",
              "        text-align: right;\n",
              "    }\n",
              "</style>\n",
              "<table border=\"1\" class=\"dataframe\">\n",
              "  <thead>\n",
              "    <tr style=\"text-align: right;\">\n",
              "      <th></th>\n",
              "      <th>category_sub2</th>\n",
              "      <th>category_sub2_count</th>\n",
              "    </tr>\n",
              "  </thead>\n",
              "  <tbody>\n",
              "    <tr>\n",
              "      <th>0</th>\n",
              "      <td>T-shirts</td>\n",
              "      <td>229</td>\n",
              "    </tr>\n",
              "    <tr>\n",
              "      <th>1</th>\n",
              "      <td>Components &amp; Parts</td>\n",
              "      <td>13</td>\n",
              "    </tr>\n",
              "    <tr>\n",
              "      <th>2</th>\n",
              "      <td>Blouse</td>\n",
              "      <td>279</td>\n",
              "    </tr>\n",
              "    <tr>\n",
              "      <th>3</th>\n",
              "      <td>Home Décor Accents</td>\n",
              "      <td>163</td>\n",
              "    </tr>\n",
              "    <tr>\n",
              "      <th>4</th>\n",
              "      <td>Necklaces</td>\n",
              "      <td>276</td>\n",
              "    </tr>\n",
              "  </tbody>\n",
              "</table>\n",
              "</div>"
            ],
            "text/plain": [
              "        category_sub2  category_sub2_count\n",
              "0            T-shirts                  229\n",
              "1  Components & Parts                   13\n",
              "2              Blouse                  279\n",
              "3  Home Décor Accents                  163\n",
              "4           Necklaces                  276"
            ]
          },
          "metadata": {
            "tags": []
          },
          "execution_count": 31
        }
      ]
    },
    {
      "cell_type": "markdown",
      "metadata": {
        "id": "WOSKjHZ45h6p"
      },
      "source": [
        "#### target encoding"
      ]
    },
    {
      "cell_type": "code",
      "metadata": {
        "id": "-NE4n2Wl5eD_"
      },
      "source": [
        "category_sub2_mean_encoding = data.groupby(['category_sub2']).agg({'price_x_x':['mean']}).reset_index()\n",
        "\n",
        "data = data.merge(category_sub2_mean_encoding,on='category_sub2',how='left')"
      ],
      "execution_count": null,
      "outputs": []
    },
    {
      "cell_type": "code",
      "metadata": {
        "colab": {
          "base_uri": "https://localhost:8080/",
          "height": 462
        },
        "id": "WWo_by0t5oyv",
        "outputId": "2e8f25e7-6cd2-4789-b27c-0290b926884a"
      },
      "source": [
        "data.head()"
      ],
      "execution_count": null,
      "outputs": [
        {
          "output_type": "execute_result",
          "data": {
            "text/html": [
              "<div>\n",
              "<style scoped>\n",
              "    .dataframe tbody tr th:only-of-type {\n",
              "        vertical-align: middle;\n",
              "    }\n",
              "\n",
              "    .dataframe tbody tr th {\n",
              "        vertical-align: top;\n",
              "    }\n",
              "\n",
              "    .dataframe thead th {\n",
              "        text-align: right;\n",
              "    }\n",
              "</style>\n",
              "<table border=\"1\" class=\"dataframe\">\n",
              "  <thead>\n",
              "    <tr style=\"text-align: right;\">\n",
              "      <th></th>\n",
              "      <th>train_id</th>\n",
              "      <th>name</th>\n",
              "      <th>item_condition_id</th>\n",
              "      <th>brand_name</th>\n",
              "      <th>price_x_x_x</th>\n",
              "      <th>shipping</th>\n",
              "      <th>item_description</th>\n",
              "      <th>category_main</th>\n",
              "      <th>category_sub1</th>\n",
              "      <th>category_sub2</th>\n",
              "      <th>brand_name_count</th>\n",
              "      <th>('price', 'mean')_x</th>\n",
              "      <th>(price_y, mean)</th>\n",
              "      <th>shipping_count</th>\n",
              "      <th>('price_x', 'mean')_x</th>\n",
              "      <th>category_main_count</th>\n",
              "      <th>(price_x_y, mean)</th>\n",
              "      <th>category_sub1_count</th>\n",
              "      <th>('price_x_x', 'mean')_x</th>\n",
              "      <th>category_sub2_count</th>\n",
              "      <th>(price_x_x_y, mean)</th>\n",
              "    </tr>\n",
              "  </thead>\n",
              "  <tbody>\n",
              "    <tr>\n",
              "      <th>0</th>\n",
              "      <td>0</td>\n",
              "      <td>MLB Cincinnati Reds T Shirt Size XL</td>\n",
              "      <td>3</td>\n",
              "      <td>uknown</td>\n",
              "      <td>10.0</td>\n",
              "      <td>1</td>\n",
              "      <td>No description yet</td>\n",
              "      <td>Men</td>\n",
              "      <td>Tops</td>\n",
              "      <td>T-shirts</td>\n",
              "      <td>8553</td>\n",
              "      <td>20.537180</td>\n",
              "      <td>26.092650</td>\n",
              "      <td>8948</td>\n",
              "      <td>21.731001</td>\n",
              "      <td>1258</td>\n",
              "      <td>35.191574</td>\n",
              "      <td>318</td>\n",
              "      <td>18.921384</td>\n",
              "      <td>229</td>\n",
              "      <td>17.471616</td>\n",
              "    </tr>\n",
              "    <tr>\n",
              "      <th>1</th>\n",
              "      <td>1</td>\n",
              "      <td>Razer BlackWidow Chroma Keyboard</td>\n",
              "      <td>3</td>\n",
              "      <td>Razer</td>\n",
              "      <td>52.0</td>\n",
              "      <td>0</td>\n",
              "      <td>This keyboard is in great condition and works ...</td>\n",
              "      <td>Electronics</td>\n",
              "      <td>Computers &amp; Tablets</td>\n",
              "      <td>Components &amp; Parts</td>\n",
              "      <td>3</td>\n",
              "      <td>37.000000</td>\n",
              "      <td>26.092650</td>\n",
              "      <td>11008</td>\n",
              "      <td>29.821403</td>\n",
              "      <td>1610</td>\n",
              "      <td>32.832919</td>\n",
              "      <td>49</td>\n",
              "      <td>71.551020</td>\n",
              "      <td>13</td>\n",
              "      <td>50.153846</td>\n",
              "    </tr>\n",
              "    <tr>\n",
              "      <th>2</th>\n",
              "      <td>2</td>\n",
              "      <td>AVA-VIV Blouse</td>\n",
              "      <td>1</td>\n",
              "      <td>Target</td>\n",
              "      <td>10.0</td>\n",
              "      <td>1</td>\n",
              "      <td>Adorable top with a hint of lace and a key hol...</td>\n",
              "      <td>Women</td>\n",
              "      <td>Tops &amp; Blouses</td>\n",
              "      <td>Blouse</td>\n",
              "      <td>22</td>\n",
              "      <td>18.090909</td>\n",
              "      <td>26.136259</td>\n",
              "      <td>8948</td>\n",
              "      <td>21.731001</td>\n",
              "      <td>8895</td>\n",
              "      <td>28.358572</td>\n",
              "      <td>1385</td>\n",
              "      <td>17.555235</td>\n",
              "      <td>279</td>\n",
              "      <td>15.516129</td>\n",
              "    </tr>\n",
              "    <tr>\n",
              "      <th>3</th>\n",
              "      <td>3</td>\n",
              "      <td>Leather Horse Statues</td>\n",
              "      <td>1</td>\n",
              "      <td>uknown</td>\n",
              "      <td>35.0</td>\n",
              "      <td>1</td>\n",
              "      <td>New with tags. Leather horses. Retail for [rm]...</td>\n",
              "      <td>Home</td>\n",
              "      <td>Home Décor</td>\n",
              "      <td>Home Décor Accents</td>\n",
              "      <td>8553</td>\n",
              "      <td>20.537180</td>\n",
              "      <td>26.136259</td>\n",
              "      <td>8948</td>\n",
              "      <td>21.731001</td>\n",
              "      <td>846</td>\n",
              "      <td>24.395981</td>\n",
              "      <td>318</td>\n",
              "      <td>22.235849</td>\n",
              "      <td>163</td>\n",
              "      <td>22.429448</td>\n",
              "    </tr>\n",
              "    <tr>\n",
              "      <th>4</th>\n",
              "      <td>4</td>\n",
              "      <td>24K GOLD plated rose</td>\n",
              "      <td>1</td>\n",
              "      <td>uknown</td>\n",
              "      <td>44.0</td>\n",
              "      <td>0</td>\n",
              "      <td>Complete with certificate of authenticity</td>\n",
              "      <td>Women</td>\n",
              "      <td>Jewelry</td>\n",
              "      <td>Necklaces</td>\n",
              "      <td>8553</td>\n",
              "      <td>20.537180</td>\n",
              "      <td>26.136259</td>\n",
              "      <td>11008</td>\n",
              "      <td>29.821403</td>\n",
              "      <td>8895</td>\n",
              "      <td>28.358572</td>\n",
              "      <td>858</td>\n",
              "      <td>25.737762</td>\n",
              "      <td>276</td>\n",
              "      <td>24.449275</td>\n",
              "    </tr>\n",
              "  </tbody>\n",
              "</table>\n",
              "</div>"
            ],
            "text/plain": [
              "   train_id  ... (price_x_x_y, mean)\n",
              "0         0  ...           17.471616\n",
              "1         1  ...           50.153846\n",
              "2         2  ...           15.516129\n",
              "3         3  ...           22.429448\n",
              "4         4  ...           24.449275\n",
              "\n",
              "[5 rows x 21 columns]"
            ]
          },
          "metadata": {
            "tags": []
          },
          "execution_count": 33
        }
      ]
    },
    {
      "cell_type": "markdown",
      "metadata": {
        "id": "Un_-QKUMDFMw"
      },
      "source": [
        "#### If brand yes/no feature"
      ]
    },
    {
      "cell_type": "code",
      "metadata": {
        "id": "K4kQUrnW5qUX"
      },
      "source": [
        "data.to_csv('p1_train.csv')\n",
        "!cp p1_train.csv \"/content/drive/MyDrive/Mercari/p1_train.csv\""
      ],
      "execution_count": null,
      "outputs": []
    },
    {
      "cell_type": "code",
      "metadata": {
        "id": "V9aSnp8_7q3u"
      },
      "source": [
        ""
      ],
      "execution_count": null,
      "outputs": []
    }
  ]
}